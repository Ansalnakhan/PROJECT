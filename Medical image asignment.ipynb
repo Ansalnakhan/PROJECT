{
  "nbformat": 4,
  "nbformat_minor": 0,
  "metadata": {
    "colab": {
      "provenance": [],
      "authorship_tag": "ABX9TyNGpG/CBDdok021VE0zD/jT",
      "include_colab_link": true
    },
    "kernelspec": {
      "name": "python3",
      "display_name": "Python 3"
    },
    "language_info": {
      "name": "python"
    }
  },
  "cells": [
    {
      "cell_type": "markdown",
      "metadata": {
        "id": "view-in-github",
        "colab_type": "text"
      },
      "source": [
        "<a href=\"https://colab.research.google.com/github/Ansalnakhan/PROJECT/blob/main/Medical%20image%20asignment.ipynb\" target=\"_parent\"><img src=\"https://colab.research.google.com/assets/colab-badge.svg\" alt=\"Open In Colab\"/></a>"
      ]
    },
    {
      "cell_type": "code",
      "execution_count": 524,
      "metadata": {
        "id": "LxkXJn7Ojhe9"
      },
      "outputs": [],
      "source": [
        "import pandas as pd \n",
        "import numpy as np"
      ]
    },
    {
      "cell_type": "code",
      "source": [
        "data=pd.read_csv(\"/content/thirddatasetdata1.csv\")"
      ],
      "metadata": {
        "id": "iSJknsJZjkr1"
      },
      "execution_count": 525,
      "outputs": []
    },
    {
      "cell_type": "code",
      "source": [
        "data['Label'].value_counts()"
      ],
      "metadata": {
        "colab": {
          "base_uri": "https://localhost:8080/"
        },
        "id": "p1d5Fl7bkQ1u",
        "outputId": "82444f1e-1b9c-43a4-ff9f-a9ef298c51d3"
      },
      "execution_count": 526,
      "outputs": [
        {
          "output_type": "execute_result",
          "data": {
            "text/plain": [
              "adeno       128\n",
              "squamous     61\n",
              "other        34\n",
              "Name: Label, dtype: int64"
            ]
          },
          "metadata": {},
          "execution_count": 526
        }
      ]
    },
    {
      "cell_type": "code",
      "source": [
        "data.columns"
      ],
      "metadata": {
        "colab": {
          "base_uri": "https://localhost:8080/"
        },
        "id": "Quw0TDqRkTyC",
        "outputId": "3c2f7217-2975-4f12-8efa-f3a91e926b85"
      },
      "execution_count": 527,
      "outputs": [
        {
          "output_type": "execute_result",
          "data": {
            "text/plain": [
              "Index(['ID', 'imaging.radiomics.GLCM_autocorr',\n",
              "       'imaging.radiomics.GLCM_clusProm', 'imaging.radiomics.GLCM_clusShade',\n",
              "       'imaging.radiomics.GLCM_clusTend', 'imaging.radiomics.GLCM_contrast',\n",
              "       'imaging.radiomics.GLCM_correl1', 'imaging.radiomics.GLCM_diffEntro',\n",
              "       'imaging.radiomics.GLCM_dissimilar', 'imaging.radiomics.GLCM_energy',\n",
              "       ...\n",
              "       'imaging.radiomics.Wavelet_LLL_stats_median',\n",
              "       'imaging.radiomics.Wavelet_LLL_stats_min',\n",
              "       'imaging.radiomics.Wavelet_LLL_stats_range',\n",
              "       'imaging.radiomics.Wavelet_LLL_stats_rms',\n",
              "       'imaging.radiomics.Wavelet_LLL_stats_skewness',\n",
              "       'imaging.radiomics.Wavelet_LLL_stats_std',\n",
              "       'imaging.radiomics.Wavelet_LLL_stats_totalenergy',\n",
              "       'imaging.radiomics.Wavelet_LLL_stats_uniformity',\n",
              "       'imaging.radiomics.Wavelet_LLL_stats_var', 'Label'],\n",
              "      dtype='object', length=638)"
            ]
          },
          "metadata": {},
          "execution_count": 527
        }
      ]
    },
    {
      "cell_type": "code",
      "source": [
        "data_real = data.replace(np.inf, np.nan)"
      ],
      "metadata": {
        "id": "yb3O8GnGkXAC"
      },
      "execution_count": 528,
      "outputs": []
    },
    {
      "cell_type": "code",
      "source": [
        "data_real.isnull().sum().sum()"
      ],
      "metadata": {
        "colab": {
          "base_uri": "https://localhost:8080/"
        },
        "id": "EZINIHNnkbU9",
        "outputId": "e593c832-111b-4362-deb8-88957547cd38"
      },
      "execution_count": 529,
      "outputs": [
        {
          "output_type": "execute_result",
          "data": {
            "text/plain": [
              "100"
            ]
          },
          "metadata": {},
          "execution_count": 529
        }
      ]
    },
    {
      "cell_type": "code",
      "source": [
        "data_df = data_real.dropna(axis=0)"
      ],
      "metadata": {
        "id": "nsZzpo5IkeBM"
      },
      "execution_count": 530,
      "outputs": []
    },
    {
      "cell_type": "code",
      "source": [
        "data_df.isnull().sum().sum()"
      ],
      "metadata": {
        "colab": {
          "base_uri": "https://localhost:8080/"
        },
        "id": "lSZ4IAw8kgm_",
        "outputId": "c63ed2ad-921f-4bdb-b363-b77358463be9"
      },
      "execution_count": 531,
      "outputs": [
        {
          "output_type": "execute_result",
          "data": {
            "text/plain": [
              "0"
            ]
          },
          "metadata": {},
          "execution_count": 531
        }
      ]
    },
    {
      "cell_type": "code",
      "source": [
        "data_df"
      ],
      "metadata": {
        "colab": {
          "base_uri": "https://localhost:8080/",
          "height": 488
        },
        "id": "EFNXnv2Gki89",
        "outputId": "ad99bbc5-c5a8-4fa0-9b0d-ad660b89d111"
      },
      "execution_count": 532,
      "outputs": [
        {
          "output_type": "execute_result",
          "data": {
            "text/plain": [
              "      ID  imaging.radiomics.GLCM_autocorr  imaging.radiomics.GLCM_clusProm  \\\n",
              "0      1                       453.182272                     104777.28120   \n",
              "1      2                       528.315776                       4260.94238   \n",
              "2      3                      1127.285945                     113572.19180   \n",
              "3      4                      1168.460376                      64098.28992   \n",
              "4      5                       714.993885                      42488.22647   \n",
              "..   ...                              ...                              ...   \n",
              "218  219                      1139.334792                      14516.60896   \n",
              "219  220                       818.698358                      87742.27268   \n",
              "220  221                       801.695540                      76994.34218   \n",
              "221  222                       341.806330                      29115.57843   \n",
              "222  223                       936.931162                     194689.94660   \n",
              "\n",
              "     imaging.radiomics.GLCM_clusShade  imaging.radiomics.GLCM_clusTend  \\\n",
              "0                          674.017890                       222.638902   \n",
              "1                         -216.316062                        19.065842   \n",
              "2                        -1876.394931                       160.306058   \n",
              "3                        -1848.600663                        91.839214   \n",
              "4                        -1328.998406                        93.896236   \n",
              "..                                ...                              ...   \n",
              "218                        244.741173                        46.462792   \n",
              "219                      -2055.586897                       157.898761   \n",
              "220                      -2098.066288                       132.491348   \n",
              "221                       -784.954552                       101.804686   \n",
              "222                      -4100.072487                       204.343624   \n",
              "\n",
              "     imaging.radiomics.GLCM_contrast  imaging.radiomics.GLCM_correl1  \\\n",
              "0                          27.372666                        0.781116   \n",
              "1                           5.393669                        0.612640   \n",
              "2                          35.961316                        0.630446   \n",
              "3                          17.133651                        0.682034   \n",
              "4                          20.667403                        0.632109   \n",
              "..                               ...                             ...   \n",
              "218                        16.106440                        0.482397   \n",
              "219                        23.252008                        0.742900   \n",
              "220                        18.352911                        0.753683   \n",
              "221                        19.284936                        0.702816   \n",
              "222                        14.641401                        0.868935   \n",
              "\n",
              "     imaging.radiomics.GLCM_diffEntro  imaging.radiomics.GLCM_dissimilar  \\\n",
              "0                            2.392952                           4.064393   \n",
              "1                            1.524119                           1.302619   \n",
              "2                            2.435402                           3.931714   \n",
              "3                            1.988541                           2.409581   \n",
              "4                            2.188704                           2.960161   \n",
              "..                                ...                                ...   \n",
              "218                          1.983495                           2.391288   \n",
              "219                          2.265772                           3.303056   \n",
              "220                          2.121198                           2.716123   \n",
              "221                          2.202712                           3.313602   \n",
              "222                          2.107340                           2.738799   \n",
              "\n",
              "     imaging.radiomics.GLCM_energy  ...  \\\n",
              "0                         0.002345  ...   \n",
              "1                         0.113870  ...   \n",
              "2                         0.008031  ...   \n",
              "3                         0.036164  ...   \n",
              "4                         0.030619  ...   \n",
              "..                             ...  ...   \n",
              "218                       0.022039  ...   \n",
              "219                       0.009143  ...   \n",
              "220                       0.020977  ...   \n",
              "221                       0.009943  ...   \n",
              "222                       0.010685  ...   \n",
              "\n",
              "     imaging.radiomics.Wavelet_LLL_stats_median  \\\n",
              "0                                   1662.196015   \n",
              "1                                   2982.188746   \n",
              "2                                   2979.224981   \n",
              "3                                   2988.358359   \n",
              "4                                   2919.649317   \n",
              "..                                          ...   \n",
              "218                                 3055.887195   \n",
              "219                                 2797.141552   \n",
              "220                                 3052.583286   \n",
              "221                                 2565.730869   \n",
              "222                                 2789.375012   \n",
              "\n",
              "     imaging.radiomics.Wavelet_LLL_stats_min  \\\n",
              "0                                 467.866888   \n",
              "1                                1371.523763   \n",
              "2                                 643.909824   \n",
              "3                                 711.386506   \n",
              "4                                1004.777916   \n",
              "..                                       ...   \n",
              "218                              1112.092053   \n",
              "219                               869.433409   \n",
              "220                              1007.135169   \n",
              "221                              1397.617681   \n",
              "222                               718.280510   \n",
              "\n",
              "     imaging.radiomics.Wavelet_LLL_stats_range  \\\n",
              "0                                  2602.393670   \n",
              "1                                  1961.257947   \n",
              "2                                  3576.484800   \n",
              "3                                  3196.094809   \n",
              "4                                  2547.097206   \n",
              "..                                         ...   \n",
              "218                                3328.668697   \n",
              "219                                2899.659059   \n",
              "220                                2617.232001   \n",
              "221                                1740.429212   \n",
              "222                                2631.590236   \n",
              "\n",
              "     imaging.radiomics.Wavelet_LLL_stats_rms  \\\n",
              "0                                1817.531872   \n",
              "1                                2905.312685   \n",
              "2                                2846.375865   \n",
              "3                                2832.966683   \n",
              "4                                2762.306176   \n",
              "..                                       ...   \n",
              "218                              3101.039311   \n",
              "219                              2699.092216   \n",
              "220                              2891.348422   \n",
              "221                              2515.580119   \n",
              "222                              2685.709214   \n",
              "\n",
              "     imaging.radiomics.Wavelet_LLL_stats_skewness  \\\n",
              "0                                        0.289817   \n",
              "1                                       -2.215156   \n",
              "2                                       -0.924287   \n",
              "3                                       -1.833313   \n",
              "4                                       -1.157273   \n",
              "..                                            ...   \n",
              "218                                     -0.426993   \n",
              "219                                     -0.864501   \n",
              "220                                     -1.185849   \n",
              "221                                     -0.602095   \n",
              "222                                     -1.125448   \n",
              "\n",
              "     imaging.radiomics.Wavelet_LLL_stats_std  \\\n",
              "0                                 558.438821   \n",
              "1                                 216.035768   \n",
              "2                                 522.757809   \n",
              "3                                 406.914394   \n",
              "4                                 443.861554   \n",
              "..                                       ...   \n",
              "218                               316.952421   \n",
              "219                               499.276162   \n",
              "220                               477.287930   \n",
              "221                               427.360059   \n",
              "222                               555.630581   \n",
              "\n",
              "     imaging.radiomics.Wavelet_LLL_stats_totalenergy  \\\n",
              "0                                       1.676156e+10   \n",
              "1                                       3.254789e+10   \n",
              "2                                       7.111809e+10   \n",
              "3                                       2.640000e+11   \n",
              "4                                       2.112840e+10   \n",
              "..                                               ...   \n",
              "218                                     8.079737e+10   \n",
              "219                                     5.765427e+10   \n",
              "220                                     1.590000e+11   \n",
              "221                                     2.505945e+09   \n",
              "222                                     2.950131e+10   \n",
              "\n",
              "     imaging.radiomics.Wavelet_LLL_stats_uniformity  \\\n",
              "0                                          0.035583   \n",
              "1                                          0.237286   \n",
              "2                                          0.057868   \n",
              "3                                          0.136353   \n",
              "4                                          0.099191   \n",
              "..                                              ...   \n",
              "218                                        0.111039   \n",
              "219                                        0.051432   \n",
              "220                                        0.074412   \n",
              "221                                        0.050645   \n",
              "222                                        0.051466   \n",
              "\n",
              "     imaging.radiomics.Wavelet_LLL_stats_var     Label  \n",
              "0                               311853.91710     adeno  \n",
              "1                                46671.45319  squamous  \n",
              "2                               273275.72710     other  \n",
              "3                               165579.32370     adeno  \n",
              "4                               197013.07940     adeno  \n",
              "..                                       ...       ...  \n",
              "218                             100458.83710  squamous  \n",
              "219                             249276.68600  squamous  \n",
              "220                             227803.76820     adeno  \n",
              "221                             182636.61980     adeno  \n",
              "222                             308725.34260     adeno  \n",
              "\n",
              "[222 rows x 638 columns]"
            ],
            "text/html": [
              "\n",
              "  <div id=\"df-da4ad76a-00b0-43ac-912d-f8b963608118\">\n",
              "    <div class=\"colab-df-container\">\n",
              "      <div>\n",
              "<style scoped>\n",
              "    .dataframe tbody tr th:only-of-type {\n",
              "        vertical-align: middle;\n",
              "    }\n",
              "\n",
              "    .dataframe tbody tr th {\n",
              "        vertical-align: top;\n",
              "    }\n",
              "\n",
              "    .dataframe thead th {\n",
              "        text-align: right;\n",
              "    }\n",
              "</style>\n",
              "<table border=\"1\" class=\"dataframe\">\n",
              "  <thead>\n",
              "    <tr style=\"text-align: right;\">\n",
              "      <th></th>\n",
              "      <th>ID</th>\n",
              "      <th>imaging.radiomics.GLCM_autocorr</th>\n",
              "      <th>imaging.radiomics.GLCM_clusProm</th>\n",
              "      <th>imaging.radiomics.GLCM_clusShade</th>\n",
              "      <th>imaging.radiomics.GLCM_clusTend</th>\n",
              "      <th>imaging.radiomics.GLCM_contrast</th>\n",
              "      <th>imaging.radiomics.GLCM_correl1</th>\n",
              "      <th>imaging.radiomics.GLCM_diffEntro</th>\n",
              "      <th>imaging.radiomics.GLCM_dissimilar</th>\n",
              "      <th>imaging.radiomics.GLCM_energy</th>\n",
              "      <th>...</th>\n",
              "      <th>imaging.radiomics.Wavelet_LLL_stats_median</th>\n",
              "      <th>imaging.radiomics.Wavelet_LLL_stats_min</th>\n",
              "      <th>imaging.radiomics.Wavelet_LLL_stats_range</th>\n",
              "      <th>imaging.radiomics.Wavelet_LLL_stats_rms</th>\n",
              "      <th>imaging.radiomics.Wavelet_LLL_stats_skewness</th>\n",
              "      <th>imaging.radiomics.Wavelet_LLL_stats_std</th>\n",
              "      <th>imaging.radiomics.Wavelet_LLL_stats_totalenergy</th>\n",
              "      <th>imaging.radiomics.Wavelet_LLL_stats_uniformity</th>\n",
              "      <th>imaging.radiomics.Wavelet_LLL_stats_var</th>\n",
              "      <th>Label</th>\n",
              "    </tr>\n",
              "  </thead>\n",
              "  <tbody>\n",
              "    <tr>\n",
              "      <th>0</th>\n",
              "      <td>1</td>\n",
              "      <td>453.182272</td>\n",
              "      <td>104777.28120</td>\n",
              "      <td>674.017890</td>\n",
              "      <td>222.638902</td>\n",
              "      <td>27.372666</td>\n",
              "      <td>0.781116</td>\n",
              "      <td>2.392952</td>\n",
              "      <td>4.064393</td>\n",
              "      <td>0.002345</td>\n",
              "      <td>...</td>\n",
              "      <td>1662.196015</td>\n",
              "      <td>467.866888</td>\n",
              "      <td>2602.393670</td>\n",
              "      <td>1817.531872</td>\n",
              "      <td>0.289817</td>\n",
              "      <td>558.438821</td>\n",
              "      <td>1.676156e+10</td>\n",
              "      <td>0.035583</td>\n",
              "      <td>311853.91710</td>\n",
              "      <td>adeno</td>\n",
              "    </tr>\n",
              "    <tr>\n",
              "      <th>1</th>\n",
              "      <td>2</td>\n",
              "      <td>528.315776</td>\n",
              "      <td>4260.94238</td>\n",
              "      <td>-216.316062</td>\n",
              "      <td>19.065842</td>\n",
              "      <td>5.393669</td>\n",
              "      <td>0.612640</td>\n",
              "      <td>1.524119</td>\n",
              "      <td>1.302619</td>\n",
              "      <td>0.113870</td>\n",
              "      <td>...</td>\n",
              "      <td>2982.188746</td>\n",
              "      <td>1371.523763</td>\n",
              "      <td>1961.257947</td>\n",
              "      <td>2905.312685</td>\n",
              "      <td>-2.215156</td>\n",
              "      <td>216.035768</td>\n",
              "      <td>3.254789e+10</td>\n",
              "      <td>0.237286</td>\n",
              "      <td>46671.45319</td>\n",
              "      <td>squamous</td>\n",
              "    </tr>\n",
              "    <tr>\n",
              "      <th>2</th>\n",
              "      <td>3</td>\n",
              "      <td>1127.285945</td>\n",
              "      <td>113572.19180</td>\n",
              "      <td>-1876.394931</td>\n",
              "      <td>160.306058</td>\n",
              "      <td>35.961316</td>\n",
              "      <td>0.630446</td>\n",
              "      <td>2.435402</td>\n",
              "      <td>3.931714</td>\n",
              "      <td>0.008031</td>\n",
              "      <td>...</td>\n",
              "      <td>2979.224981</td>\n",
              "      <td>643.909824</td>\n",
              "      <td>3576.484800</td>\n",
              "      <td>2846.375865</td>\n",
              "      <td>-0.924287</td>\n",
              "      <td>522.757809</td>\n",
              "      <td>7.111809e+10</td>\n",
              "      <td>0.057868</td>\n",
              "      <td>273275.72710</td>\n",
              "      <td>other</td>\n",
              "    </tr>\n",
              "    <tr>\n",
              "      <th>3</th>\n",
              "      <td>4</td>\n",
              "      <td>1168.460376</td>\n",
              "      <td>64098.28992</td>\n",
              "      <td>-1848.600663</td>\n",
              "      <td>91.839214</td>\n",
              "      <td>17.133651</td>\n",
              "      <td>0.682034</td>\n",
              "      <td>1.988541</td>\n",
              "      <td>2.409581</td>\n",
              "      <td>0.036164</td>\n",
              "      <td>...</td>\n",
              "      <td>2988.358359</td>\n",
              "      <td>711.386506</td>\n",
              "      <td>3196.094809</td>\n",
              "      <td>2832.966683</td>\n",
              "      <td>-1.833313</td>\n",
              "      <td>406.914394</td>\n",
              "      <td>2.640000e+11</td>\n",
              "      <td>0.136353</td>\n",
              "      <td>165579.32370</td>\n",
              "      <td>adeno</td>\n",
              "    </tr>\n",
              "    <tr>\n",
              "      <th>4</th>\n",
              "      <td>5</td>\n",
              "      <td>714.993885</td>\n",
              "      <td>42488.22647</td>\n",
              "      <td>-1328.998406</td>\n",
              "      <td>93.896236</td>\n",
              "      <td>20.667403</td>\n",
              "      <td>0.632109</td>\n",
              "      <td>2.188704</td>\n",
              "      <td>2.960161</td>\n",
              "      <td>0.030619</td>\n",
              "      <td>...</td>\n",
              "      <td>2919.649317</td>\n",
              "      <td>1004.777916</td>\n",
              "      <td>2547.097206</td>\n",
              "      <td>2762.306176</td>\n",
              "      <td>-1.157273</td>\n",
              "      <td>443.861554</td>\n",
              "      <td>2.112840e+10</td>\n",
              "      <td>0.099191</td>\n",
              "      <td>197013.07940</td>\n",
              "      <td>adeno</td>\n",
              "    </tr>\n",
              "    <tr>\n",
              "      <th>...</th>\n",
              "      <td>...</td>\n",
              "      <td>...</td>\n",
              "      <td>...</td>\n",
              "      <td>...</td>\n",
              "      <td>...</td>\n",
              "      <td>...</td>\n",
              "      <td>...</td>\n",
              "      <td>...</td>\n",
              "      <td>...</td>\n",
              "      <td>...</td>\n",
              "      <td>...</td>\n",
              "      <td>...</td>\n",
              "      <td>...</td>\n",
              "      <td>...</td>\n",
              "      <td>...</td>\n",
              "      <td>...</td>\n",
              "      <td>...</td>\n",
              "      <td>...</td>\n",
              "      <td>...</td>\n",
              "      <td>...</td>\n",
              "      <td>...</td>\n",
              "    </tr>\n",
              "    <tr>\n",
              "      <th>218</th>\n",
              "      <td>219</td>\n",
              "      <td>1139.334792</td>\n",
              "      <td>14516.60896</td>\n",
              "      <td>244.741173</td>\n",
              "      <td>46.462792</td>\n",
              "      <td>16.106440</td>\n",
              "      <td>0.482397</td>\n",
              "      <td>1.983495</td>\n",
              "      <td>2.391288</td>\n",
              "      <td>0.022039</td>\n",
              "      <td>...</td>\n",
              "      <td>3055.887195</td>\n",
              "      <td>1112.092053</td>\n",
              "      <td>3328.668697</td>\n",
              "      <td>3101.039311</td>\n",
              "      <td>-0.426993</td>\n",
              "      <td>316.952421</td>\n",
              "      <td>8.079737e+10</td>\n",
              "      <td>0.111039</td>\n",
              "      <td>100458.83710</td>\n",
              "      <td>squamous</td>\n",
              "    </tr>\n",
              "    <tr>\n",
              "      <th>219</th>\n",
              "      <td>220</td>\n",
              "      <td>818.698358</td>\n",
              "      <td>87742.27268</td>\n",
              "      <td>-2055.586897</td>\n",
              "      <td>157.898761</td>\n",
              "      <td>23.252008</td>\n",
              "      <td>0.742900</td>\n",
              "      <td>2.265772</td>\n",
              "      <td>3.303056</td>\n",
              "      <td>0.009143</td>\n",
              "      <td>...</td>\n",
              "      <td>2797.141552</td>\n",
              "      <td>869.433409</td>\n",
              "      <td>2899.659059</td>\n",
              "      <td>2699.092216</td>\n",
              "      <td>-0.864501</td>\n",
              "      <td>499.276162</td>\n",
              "      <td>5.765427e+10</td>\n",
              "      <td>0.051432</td>\n",
              "      <td>249276.68600</td>\n",
              "      <td>squamous</td>\n",
              "    </tr>\n",
              "    <tr>\n",
              "      <th>220</th>\n",
              "      <td>221</td>\n",
              "      <td>801.695540</td>\n",
              "      <td>76994.34218</td>\n",
              "      <td>-2098.066288</td>\n",
              "      <td>132.491348</td>\n",
              "      <td>18.352911</td>\n",
              "      <td>0.753683</td>\n",
              "      <td>2.121198</td>\n",
              "      <td>2.716123</td>\n",
              "      <td>0.020977</td>\n",
              "      <td>...</td>\n",
              "      <td>3052.583286</td>\n",
              "      <td>1007.135169</td>\n",
              "      <td>2617.232001</td>\n",
              "      <td>2891.348422</td>\n",
              "      <td>-1.185849</td>\n",
              "      <td>477.287930</td>\n",
              "      <td>1.590000e+11</td>\n",
              "      <td>0.074412</td>\n",
              "      <td>227803.76820</td>\n",
              "      <td>adeno</td>\n",
              "    </tr>\n",
              "    <tr>\n",
              "      <th>221</th>\n",
              "      <td>222</td>\n",
              "      <td>341.806330</td>\n",
              "      <td>29115.57843</td>\n",
              "      <td>-784.954552</td>\n",
              "      <td>101.804686</td>\n",
              "      <td>19.284936</td>\n",
              "      <td>0.702816</td>\n",
              "      <td>2.202712</td>\n",
              "      <td>3.313602</td>\n",
              "      <td>0.009943</td>\n",
              "      <td>...</td>\n",
              "      <td>2565.730869</td>\n",
              "      <td>1397.617681</td>\n",
              "      <td>1740.429212</td>\n",
              "      <td>2515.580119</td>\n",
              "      <td>-0.602095</td>\n",
              "      <td>427.360059</td>\n",
              "      <td>2.505945e+09</td>\n",
              "      <td>0.050645</td>\n",
              "      <td>182636.61980</td>\n",
              "      <td>adeno</td>\n",
              "    </tr>\n",
              "    <tr>\n",
              "      <th>222</th>\n",
              "      <td>223</td>\n",
              "      <td>936.931162</td>\n",
              "      <td>194689.94660</td>\n",
              "      <td>-4100.072487</td>\n",
              "      <td>204.343624</td>\n",
              "      <td>14.641401</td>\n",
              "      <td>0.868935</td>\n",
              "      <td>2.107340</td>\n",
              "      <td>2.738799</td>\n",
              "      <td>0.010685</td>\n",
              "      <td>...</td>\n",
              "      <td>2789.375012</td>\n",
              "      <td>718.280510</td>\n",
              "      <td>2631.590236</td>\n",
              "      <td>2685.709214</td>\n",
              "      <td>-1.125448</td>\n",
              "      <td>555.630581</td>\n",
              "      <td>2.950131e+10</td>\n",
              "      <td>0.051466</td>\n",
              "      <td>308725.34260</td>\n",
              "      <td>adeno</td>\n",
              "    </tr>\n",
              "  </tbody>\n",
              "</table>\n",
              "<p>222 rows × 638 columns</p>\n",
              "</div>\n",
              "      <button class=\"colab-df-convert\" onclick=\"convertToInteractive('df-da4ad76a-00b0-43ac-912d-f8b963608118')\"\n",
              "              title=\"Convert this dataframe to an interactive table.\"\n",
              "              style=\"display:none;\">\n",
              "        \n",
              "  <svg xmlns=\"http://www.w3.org/2000/svg\" height=\"24px\"viewBox=\"0 0 24 24\"\n",
              "       width=\"24px\">\n",
              "    <path d=\"M0 0h24v24H0V0z\" fill=\"none\"/>\n",
              "    <path d=\"M18.56 5.44l.94 2.06.94-2.06 2.06-.94-2.06-.94-.94-2.06-.94 2.06-2.06.94zm-11 1L8.5 8.5l.94-2.06 2.06-.94-2.06-.94L8.5 2.5l-.94 2.06-2.06.94zm10 10l.94 2.06.94-2.06 2.06-.94-2.06-.94-.94-2.06-.94 2.06-2.06.94z\"/><path d=\"M17.41 7.96l-1.37-1.37c-.4-.4-.92-.59-1.43-.59-.52 0-1.04.2-1.43.59L10.3 9.45l-7.72 7.72c-.78.78-.78 2.05 0 2.83L4 21.41c.39.39.9.59 1.41.59.51 0 1.02-.2 1.41-.59l7.78-7.78 2.81-2.81c.8-.78.8-2.07 0-2.86zM5.41 20L4 18.59l7.72-7.72 1.47 1.35L5.41 20z\"/>\n",
              "  </svg>\n",
              "      </button>\n",
              "      \n",
              "  <style>\n",
              "    .colab-df-container {\n",
              "      display:flex;\n",
              "      flex-wrap:wrap;\n",
              "      gap: 12px;\n",
              "    }\n",
              "\n",
              "    .colab-df-convert {\n",
              "      background-color: #E8F0FE;\n",
              "      border: none;\n",
              "      border-radius: 50%;\n",
              "      cursor: pointer;\n",
              "      display: none;\n",
              "      fill: #1967D2;\n",
              "      height: 32px;\n",
              "      padding: 0 0 0 0;\n",
              "      width: 32px;\n",
              "    }\n",
              "\n",
              "    .colab-df-convert:hover {\n",
              "      background-color: #E2EBFA;\n",
              "      box-shadow: 0px 1px 2px rgba(60, 64, 67, 0.3), 0px 1px 3px 1px rgba(60, 64, 67, 0.15);\n",
              "      fill: #174EA6;\n",
              "    }\n",
              "\n",
              "    [theme=dark] .colab-df-convert {\n",
              "      background-color: #3B4455;\n",
              "      fill: #D2E3FC;\n",
              "    }\n",
              "\n",
              "    [theme=dark] .colab-df-convert:hover {\n",
              "      background-color: #434B5C;\n",
              "      box-shadow: 0px 1px 3px 1px rgba(0, 0, 0, 0.15);\n",
              "      filter: drop-shadow(0px 1px 2px rgba(0, 0, 0, 0.3));\n",
              "      fill: #FFFFFF;\n",
              "    }\n",
              "  </style>\n",
              "\n",
              "      <script>\n",
              "        const buttonEl =\n",
              "          document.querySelector('#df-da4ad76a-00b0-43ac-912d-f8b963608118 button.colab-df-convert');\n",
              "        buttonEl.style.display =\n",
              "          google.colab.kernel.accessAllowed ? 'block' : 'none';\n",
              "\n",
              "        async function convertToInteractive(key) {\n",
              "          const element = document.querySelector('#df-da4ad76a-00b0-43ac-912d-f8b963608118');\n",
              "          const dataTable =\n",
              "            await google.colab.kernel.invokeFunction('convertToInteractive',\n",
              "                                                     [key], {});\n",
              "          if (!dataTable) return;\n",
              "\n",
              "          const docLinkHtml = 'Like what you see? Visit the ' +\n",
              "            '<a target=\"_blank\" href=https://colab.research.google.com/notebooks/data_table.ipynb>data table notebook</a>'\n",
              "            + ' to learn more about interactive tables.';\n",
              "          element.innerHTML = '';\n",
              "          dataTable['output_type'] = 'display_data';\n",
              "          await google.colab.output.renderOutput(dataTable, element);\n",
              "          const docLink = document.createElement('div');\n",
              "          docLink.innerHTML = docLinkHtml;\n",
              "          element.appendChild(docLink);\n",
              "        }\n",
              "      </script>\n",
              "    </div>\n",
              "  </div>\n",
              "  "
            ]
          },
          "metadata": {},
          "execution_count": 532
        }
      ]
    },
    {
      "cell_type": "code",
      "source": [
        "data_X = data_df.drop(['Label'], axis = 1)"
      ],
      "metadata": {
        "id": "HsVIbhlJkl0G"
      },
      "execution_count": 533,
      "outputs": []
    },
    {
      "cell_type": "code",
      "source": [
        "data_X.columns"
      ],
      "metadata": {
        "colab": {
          "base_uri": "https://localhost:8080/"
        },
        "id": "EVQPD_eCktLJ",
        "outputId": "51563121-7237-4fa9-a864-c4f686e0e44d"
      },
      "execution_count": 534,
      "outputs": [
        {
          "output_type": "execute_result",
          "data": {
            "text/plain": [
              "Index(['ID', 'imaging.radiomics.GLCM_autocorr',\n",
              "       'imaging.radiomics.GLCM_clusProm', 'imaging.radiomics.GLCM_clusShade',\n",
              "       'imaging.radiomics.GLCM_clusTend', 'imaging.radiomics.GLCM_contrast',\n",
              "       'imaging.radiomics.GLCM_correl1', 'imaging.radiomics.GLCM_diffEntro',\n",
              "       'imaging.radiomics.GLCM_dissimilar', 'imaging.radiomics.GLCM_energy',\n",
              "       ...\n",
              "       'imaging.radiomics.Wavelet_LLL_stats_mean',\n",
              "       'imaging.radiomics.Wavelet_LLL_stats_median',\n",
              "       'imaging.radiomics.Wavelet_LLL_stats_min',\n",
              "       'imaging.radiomics.Wavelet_LLL_stats_range',\n",
              "       'imaging.radiomics.Wavelet_LLL_stats_rms',\n",
              "       'imaging.radiomics.Wavelet_LLL_stats_skewness',\n",
              "       'imaging.radiomics.Wavelet_LLL_stats_std',\n",
              "       'imaging.radiomics.Wavelet_LLL_stats_totalenergy',\n",
              "       'imaging.radiomics.Wavelet_LLL_stats_uniformity',\n",
              "       'imaging.radiomics.Wavelet_LLL_stats_var'],\n",
              "      dtype='object', length=637)"
            ]
          },
          "metadata": {},
          "execution_count": 534
        }
      ]
    },
    {
      "cell_type": "code",
      "source": [
        "data_df.isnull().sum().sum()"
      ],
      "metadata": {
        "colab": {
          "base_uri": "https://localhost:8080/"
        },
        "id": "0PyyNfMAkwka",
        "outputId": "0b0558dc-188f-42e0-a2ad-a500e769fe4d"
      },
      "execution_count": 535,
      "outputs": [
        {
          "output_type": "execute_result",
          "data": {
            "text/plain": [
              "0"
            ]
          },
          "metadata": {},
          "execution_count": 535
        }
      ]
    },
    {
      "cell_type": "code",
      "source": [
        "data_y = data_df['Label']"
      ],
      "metadata": {
        "id": "8vbxdnW8kzz0"
      },
      "execution_count": 536,
      "outputs": []
    },
    {
      "cell_type": "code",
      "source": [
        "from sklearn.preprocessing import LabelEncoder"
      ],
      "metadata": {
        "id": "X9lyxP_kk3W_"
      },
      "execution_count": 537,
      "outputs": []
    },
    {
      "cell_type": "code",
      "source": [
        "le = LabelEncoder()"
      ],
      "metadata": {
        "id": "GcZnVea9k5TJ"
      },
      "execution_count": 538,
      "outputs": []
    },
    {
      "cell_type": "code",
      "source": [
        "data_y_trans = le.fit_transform(data_y)\n",
        "le_fid = LabelEncoder()"
      ],
      "metadata": {
        "id": "1xfiqX5qk7Yu"
      },
      "execution_count": 539,
      "outputs": []
    },
    {
      "cell_type": "code",
      "source": [
        "from sklearn.model_selection import train_test_split\n",
        "X_train, X_test,y_train, y_test = train_test_split(data_X, data_y, train_size = 0.80)"
      ],
      "metadata": {
        "id": "azVJzek6k-C8"
      },
      "execution_count": 540,
      "outputs": []
    },
    {
      "cell_type": "code",
      "source": [],
      "metadata": {
        "id": "CNTitRmDlKCx"
      },
      "execution_count": 540,
      "outputs": []
    },
    {
      "cell_type": "code",
      "source": [
        "\n"
      ],
      "metadata": {
        "id": "38vIQv5bwhhh"
      },
      "execution_count": 540,
      "outputs": []
    },
    {
      "cell_type": "code",
      "source": [
        "from numpy import loadtxt\n",
        "from xgboost import XGBClassifier\n",
        "from xgboost import plot_importance\n",
        "from matplotlib import pyplot"
      ],
      "metadata": {
        "id": "yqau2LmYm31y"
      },
      "execution_count": 541,
      "outputs": []
    },
    {
      "cell_type": "code",
      "source": [
        "model = XGBClassifier()\n",
        "model.fit(data_X, data_y_trans)"
      ],
      "metadata": {
        "colab": {
          "base_uri": "https://localhost:8080/"
        },
        "id": "ZdLI4JxCm8q1",
        "outputId": "f125f376-f092-4723-d1b0-de6d79d1246d"
      },
      "execution_count": 542,
      "outputs": [
        {
          "output_type": "execute_result",
          "data": {
            "text/plain": [
              "XGBClassifier(objective='multi:softprob')"
            ]
          },
          "metadata": {},
          "execution_count": 542
        }
      ]
    },
    {
      "cell_type": "code",
      "source": [
        "feature_importance_std = pd.Series(model.feature_importances_, index=data_X.columns)\n",
        "feature_importance_std.nlargest(20).plot(kind='bar', title='Feature importance')\n",
        "\n",
        "\n",
        "\n"
      ],
      "metadata": {
        "colab": {
          "base_uri": "https://localhost:8080/",
          "height": 730
        },
        "id": "WMkzhkuqlPB9",
        "outputId": "f248d70e-7bf3-4505-d026-0a4e678a74cf"
      },
      "execution_count": 543,
      "outputs": [
        {
          "output_type": "execute_result",
          "data": {
            "text/plain": [
              "<matplotlib.axes._subplots.AxesSubplot at 0x7fd103bba150>"
            ]
          },
          "metadata": {},
          "execution_count": 543
        },
        {
          "output_type": "display_data",
          "data": {
            "text/plain": [
              "<Figure size 576x468 with 1 Axes>"
            ],
            "image/png": "[encoded data removed]"
          },
          "metadata": {
            "needs_background": "light"
          }
        }
      ]
    },
    {
      "cell_type": "code",
      "source": [
        "new_20_features = data_X[['imaging.radiomics.GLCM_autocorr','imaging.radiomics.RLGL_highGrayLevelRunEmphasis','imaging.radiomics.Wavelet_LHL_glcm_inverseVar','imaging.radiomics.Wavelet_LLH_glcm_maxProb','imaging.radiomics.Wavelet_LHL_stats_median','imaging.radiomics.Wavelet_HHH_glcm_invDiffnorm','imaging.radiomics.Wavelet_HHH_stats_rms','imaging.radiomics.Wavelet_LLH_rlgl_longRunEmphasis','imaging.radiomics.Wavelet_LHL_stats_md','imaging.radiomics.Wavelet_LHL_stats_kurtosis','imaging.radiomics.Wavelet_LLH_glcm_homogeneity1','imaging.radiomics.Wavelet_HHL_glcm_sumEntro','imaging.radiomics.Wavelet_HHL_stats_kurtosis','imaging.radiomics.Wavelet_HHL_stats_range','imaging.radiomics.Wavelet_LLH_stats_entropy','imaging.radiomics.GLCM_dissimilar','imaging.radiomics.LoG_sigma_4_5_mm_3D_stats_entropyPos','imaging.radiomics.Wavelet_LLL_glcm_sumVar','imaging.radiomics.Wavelet_LHH_stats_max','imaging.radiomics.Wavelet_LLH_glcm_homogeneity2']]"
      ],
      "metadata": {
        "id": "RJbT5RVRvIZd"
      },
      "execution_count": 544,
      "outputs": []
    },
    {
      "cell_type": "code",
      "source": [
        "new_20_features"
      ],
      "metadata": {
        "colab": {
          "base_uri": "https://localhost:8080/",
          "height": 488
        },
        "id": "Ngvf6Vkmu_rX",
        "outputId": "58170f5d-4713-42a7-fec5-ef9685673f05"
      },
      "execution_count": 545,
      "outputs": [
        {
          "output_type": "execute_result",
          "data": {
            "text/plain": [
              "     imaging.radiomics.GLCM_autocorr  \\\n",
              "0                         453.182272   \n",
              "1                         528.315776   \n",
              "2                        1127.285945   \n",
              "3                        1168.460376   \n",
              "4                         714.993885   \n",
              "..                               ...   \n",
              "218                      1139.334792   \n",
              "219                       818.698358   \n",
              "220                       801.695540   \n",
              "221                       341.806330   \n",
              "222                       936.931162   \n",
              "\n",
              "     imaging.radiomics.RLGL_highGrayLevelRunEmphasis  \\\n",
              "0                                         421.474854   \n",
              "1                                         492.508799   \n",
              "2                                        1081.463085   \n",
              "3                                        1099.374957   \n",
              "4                                         635.117375   \n",
              "..                                               ...   \n",
              "218                                      1164.043059   \n",
              "219                                       750.638244   \n",
              "220                                       712.023516   \n",
              "221                                       306.120848   \n",
              "222                                       847.188220   \n",
              "\n",
              "     imaging.radiomics.Wavelet_LHL_glcm_inverseVar  \\\n",
              "0                                         0.282614   \n",
              "1                                         0.383530   \n",
              "2                                         0.292190   \n",
              "3                                         0.403072   \n",
              "4                                         0.357838   \n",
              "..                                             ...   \n",
              "218                                       0.414022   \n",
              "219                                       0.352651   \n",
              "220                                       0.378875   \n",
              "221                                       0.287947   \n",
              "222                                       0.305300   \n",
              "\n",
              "     imaging.radiomics.Wavelet_LLH_glcm_maxProb  \\\n",
              "0                                      0.013174   \n",
              "1                                      0.178638   \n",
              "2                                      0.094240   \n",
              "3                                      0.199420   \n",
              "4                                      0.197010   \n",
              "..                                          ...   \n",
              "218                                    0.213135   \n",
              "219                                    0.063132   \n",
              "220                                    0.140066   \n",
              "221                                    0.049258   \n",
              "222                                    0.040978   \n",
              "\n",
              "     imaging.radiomics.Wavelet_LHL_stats_median  \\\n",
              "0                                     -7.226082   \n",
              "1                                    -20.974177   \n",
              "2                                    -11.744745   \n",
              "3                                     -5.072050   \n",
              "4                                    -18.258504   \n",
              "..                                          ...   \n",
              "218                                   -1.530097   \n",
              "219                                   -6.273717   \n",
              "220                                  -10.378041   \n",
              "221                                  -53.314449   \n",
              "222                                  -25.765321   \n",
              "\n",
              "     imaging.radiomics.Wavelet_HHH_glcm_invDiffnorm  \\\n",
              "0                                          0.920599   \n",
              "1                                          0.945152   \n",
              "2                                          0.945838   \n",
              "3                                          0.961648   \n",
              "4                                          0.929242   \n",
              "..                                              ...   \n",
              "218                                        0.943887   \n",
              "219                                        0.926308   \n",
              "220                                        0.951679   \n",
              "221                                        0.885614   \n",
              "222                                        0.921289   \n",
              "\n",
              "     imaging.radiomics.Wavelet_HHH_stats_rms  \\\n",
              "0                                   3.301420   \n",
              "1                                   2.057091   \n",
              "2                                   3.492197   \n",
              "3                                   2.938032   \n",
              "4                                   4.039305   \n",
              "..                                       ...   \n",
              "218                                34.488312   \n",
              "219                                 1.371805   \n",
              "220                                 1.430258   \n",
              "221                                 1.641969   \n",
              "222                                 1.175218   \n",
              "\n",
              "     imaging.radiomics.Wavelet_LLH_rlgl_longRunEmphasis  \\\n",
              "0                                             1.343731    \n",
              "1                                             2.913197    \n",
              "2                                             2.159187    \n",
              "3                                             3.662309    \n",
              "4                                             2.703367    \n",
              "..                                                 ...    \n",
              "218                                           2.866787    \n",
              "219                                           1.858826    \n",
              "220                                           2.868416    \n",
              "221                                           1.556666    \n",
              "222                                           1.755680    \n",
              "\n",
              "     imaging.radiomics.Wavelet_LHL_stats_md  \\\n",
              "0                                 64.351950   \n",
              "1                                 56.992998   \n",
              "2                                107.746083   \n",
              "3                                 66.943349   \n",
              "4                                 59.523813   \n",
              "..                                      ...   \n",
              "218                               92.385521   \n",
              "219                               35.309268   \n",
              "220                               55.962185   \n",
              "221                               58.305698   \n",
              "222                               47.149955   \n",
              "\n",
              "     imaging.radiomics.Wavelet_LHL_stats_kurtosis  \\\n",
              "0                                        4.254467   \n",
              "1                                        5.276331   \n",
              "2                                        6.532700   \n",
              "3                                       11.733351   \n",
              "4                                        5.038517   \n",
              "..                                            ...   \n",
              "218                                     13.205353   \n",
              "219                                      7.219475   \n",
              "220                                      5.885514   \n",
              "221                                      4.021453   \n",
              "222                                      4.610125   \n",
              "\n",
              "     imaging.radiomics.Wavelet_LLH_glcm_homogeneity1  \\\n",
              "0                                           0.344972   \n",
              "1                                           0.559788   \n",
              "2                                           0.463004   \n",
              "3                                           0.568948   \n",
              "4                                           0.515584   \n",
              "..                                               ...   \n",
              "218                                         0.562192   \n",
              "219                                         0.414231   \n",
              "220                                         0.507259   \n",
              "221                                         0.414630   \n",
              "222                                         0.430305   \n",
              "\n",
              "     imaging.radiomics.Wavelet_HHL_glcm_sumEntro  \\\n",
              "0                                       3.068684   \n",
              "1                                       2.531845   \n",
              "2                                       2.965054   \n",
              "3                                       2.580607   \n",
              "4                                       2.822235   \n",
              "..                                           ...   \n",
              "218                                     2.630389   \n",
              "219                                     3.075701   \n",
              "220                                     2.541374   \n",
              "221                                     3.068692   \n",
              "222                                     3.030857   \n",
              "\n",
              "     imaging.radiomics.Wavelet_HHL_stats_kurtosis  \\\n",
              "0                                        5.398056   \n",
              "1                                        7.338448   \n",
              "2                                        8.416160   \n",
              "3                                       11.041089   \n",
              "4                                        6.562033   \n",
              "..                                            ...   \n",
              "218                                     10.282559   \n",
              "219                                      6.313157   \n",
              "220                                      9.138889   \n",
              "221                                      3.927956   \n",
              "222                                      6.116001   \n",
              "\n",
              "     imaging.radiomics.Wavelet_HHL_stats_range  \\\n",
              "0                                    92.768430   \n",
              "1                                    61.655990   \n",
              "2                                   124.894938   \n",
              "3                                   110.946394   \n",
              "4                                   113.676362   \n",
              "..                                         ...   \n",
              "218                                 870.710033   \n",
              "219                                  32.590956   \n",
              "220                                  69.219544   \n",
              "221                                  31.134411   \n",
              "222                                  40.044990   \n",
              "\n",
              "     imaging.radiomics.Wavelet_LLH_stats_entropy  \\\n",
              "0                                       4.184232   \n",
              "1                                       3.126100   \n",
              "2                                       3.879547   \n",
              "3                                       3.017491   \n",
              "4                                       3.635205   \n",
              "..                                           ...   \n",
              "218                                     3.154861   \n",
              "219                                     4.209590   \n",
              "220                                     3.691867   \n",
              "221                                     3.602954   \n",
              "222                                     4.022671   \n",
              "\n",
              "     imaging.radiomics.GLCM_dissimilar  \\\n",
              "0                             4.064393   \n",
              "1                             1.302619   \n",
              "2                             3.931714   \n",
              "3                             2.409581   \n",
              "4                             2.960161   \n",
              "..                                 ...   \n",
              "218                           2.391288   \n",
              "219                           3.303056   \n",
              "220                           2.716123   \n",
              "221                           3.313602   \n",
              "222                           2.738799   \n",
              "\n",
              "     imaging.radiomics.LoG_sigma_4_5_mm_3D_stats_entropyPos  \\\n",
              "0                                             2.732940        \n",
              "1                                             2.107206        \n",
              "2                                             3.285221        \n",
              "3                                             2.365073        \n",
              "4                                             2.913086        \n",
              "..                                                 ...        \n",
              "218                                           3.549754        \n",
              "219                                           2.716226        \n",
              "220                                           2.390656        \n",
              "221                                           2.552964        \n",
              "222                                           2.519537        \n",
              "\n",
              "     imaging.radiomics.Wavelet_LLL_glcm_sumVar  \\\n",
              "0                                  1444.244118   \n",
              "1                                  1606.836587   \n",
              "2                                  4127.998493   \n",
              "3                                  4317.190547   \n",
              "4                                  2199.660551   \n",
              "..                                         ...   \n",
              "218                                2966.852553   \n",
              "219                                2739.472739   \n",
              "220                                2937.926372   \n",
              "221                                1076.024997   \n",
              "222                                3194.234936   \n",
              "\n",
              "     imaging.radiomics.Wavelet_LHH_stats_max  \\\n",
              "0                                 134.133978   \n",
              "1                                 124.289444   \n",
              "2                                 336.708289   \n",
              "3                                 440.618533   \n",
              "4                                 159.899914   \n",
              "..                                       ...   \n",
              "218                               386.884556   \n",
              "219                               109.184231   \n",
              "220                               143.418764   \n",
              "221                                82.209871   \n",
              "222                                87.642116   \n",
              "\n",
              "     imaging.radiomics.Wavelet_LLH_glcm_homogeneity2  \n",
              "0                                           0.257650  \n",
              "1                                           0.514225  \n",
              "2                                           0.401860  \n",
              "3                                           0.525396  \n",
              "4                                           0.459337  \n",
              "..                                               ...  \n",
              "218                                         0.520418  \n",
              "219                                         0.343877  \n",
              "220                                         0.450776  \n",
              "221                                         0.339002  \n",
              "222                                         0.359089  \n",
              "\n",
              "[222 rows x 20 columns]"
            ],
            "text/html": [
              "\n",
              "  <div id=\"df-82e5e57e-f4d4-48d5-b530-7062a0dbe5f3\">\n",
              "    <div class=\"colab-df-container\">\n",
              "      <div>\n",
              "<style scoped>\n",
              "    .dataframe tbody tr th:only-of-type {\n",
              "        vertical-align: middle;\n",
              "    }\n",
              "\n",
              "    .dataframe tbody tr th {\n",
              "        vertical-align: top;\n",
              "    }\n",
              "\n",
              "    .dataframe thead th {\n",
              "        text-align: right;\n",
              "    }\n",
              "</style>\n",
              "<table border=\"1\" class=\"dataframe\">\n",
              "  <thead>\n",
              "    <tr style=\"text-align: right;\">\n",
              "      <th></th>\n",
              "      <th>imaging.radiomics.GLCM_autocorr</th>\n",
              "      <th>imaging.radiomics.RLGL_highGrayLevelRunEmphasis</th>\n",
              "      <th>imaging.radiomics.Wavelet_LHL_glcm_inverseVar</th>\n",
              "      <th>imaging.radiomics.Wavelet_LLH_glcm_maxProb</th>\n",
              "      <th>imaging.radiomics.Wavelet_LHL_stats_median</th>\n",
              "      <th>imaging.radiomics.Wavelet_HHH_glcm_invDiffnorm</th>\n",
              "      <th>imaging.radiomics.Wavelet_HHH_stats_rms</th>\n",
              "      <th>imaging.radiomics.Wavelet_LLH_rlgl_longRunEmphasis</th>\n",
              "      <th>imaging.radiomics.Wavelet_LHL_stats_md</th>\n",
              "      <th>imaging.radiomics.Wavelet_LHL_stats_kurtosis</th>\n",
              "      <th>imaging.radiomics.Wavelet_LLH_glcm_homogeneity1</th>\n",
              "      <th>imaging.radiomics.Wavelet_HHL_glcm_sumEntro</th>\n",
              "      <th>imaging.radiomics.Wavelet_HHL_stats_kurtosis</th>\n",
              "      <th>imaging.radiomics.Wavelet_HHL_stats_range</th>\n",
              "      <th>imaging.radiomics.Wavelet_LLH_stats_entropy</th>\n",
              "      <th>imaging.radiomics.GLCM_dissimilar</th>\n",
              "      <th>imaging.radiomics.LoG_sigma_4_5_mm_3D_stats_entropyPos</th>\n",
              "      <th>imaging.radiomics.Wavelet_LLL_glcm_sumVar</th>\n",
              "      <th>imaging.radiomics.Wavelet_LHH_stats_max</th>\n",
              "      <th>imaging.radiomics.Wavelet_LLH_glcm_homogeneity2</th>\n",
              "    </tr>\n",
              "  </thead>\n",
              "  <tbody>\n",
              "    <tr>\n",
              "      <th>0</th>\n",
              "      <td>453.182272</td>\n",
              "      <td>421.474854</td>\n",
              "      <td>0.282614</td>\n",
              "      <td>0.013174</td>\n",
              "      <td>-7.226082</td>\n",
              "      <td>0.920599</td>\n",
              "      <td>3.301420</td>\n",
              "      <td>1.343731</td>\n",
              "      <td>64.351950</td>\n",
              "      <td>4.254467</td>\n",
              "      <td>0.344972</td>\n",
              "      <td>3.068684</td>\n",
              "      <td>5.398056</td>\n",
              "      <td>92.768430</td>\n",
              "      <td>4.184232</td>\n",
              "      <td>4.064393</td>\n",
              "      <td>2.732940</td>\n",
              "      <td>1444.244118</td>\n",
              "      <td>134.133978</td>\n",
              "      <td>0.257650</td>\n",
              "    </tr>\n",
              "    <tr>\n",
              "      <th>1</th>\n",
              "      <td>528.315776</td>\n",
              "      <td>492.508799</td>\n",
              "      <td>0.383530</td>\n",
              "      <td>0.178638</td>\n",
              "      <td>-20.974177</td>\n",
              "      <td>0.945152</td>\n",
              "      <td>2.057091</td>\n",
              "      <td>2.913197</td>\n",
              "      <td>56.992998</td>\n",
              "      <td>5.276331</td>\n",
              "      <td>0.559788</td>\n",
              "      <td>2.531845</td>\n",
              "      <td>7.338448</td>\n",
              "      <td>61.655990</td>\n",
              "      <td>3.126100</td>\n",
              "      <td>1.302619</td>\n",
              "      <td>2.107206</td>\n",
              "      <td>1606.836587</td>\n",
              "      <td>124.289444</td>\n",
              "      <td>0.514225</td>\n",
              "    </tr>\n",
              "    <tr>\n",
              "      <th>2</th>\n",
              "      <td>1127.285945</td>\n",
              "      <td>1081.463085</td>\n",
              "      <td>0.292190</td>\n",
              "      <td>0.094240</td>\n",
              "      <td>-11.744745</td>\n",
              "      <td>0.945838</td>\n",
              "      <td>3.492197</td>\n",
              "      <td>2.159187</td>\n",
              "      <td>107.746083</td>\n",
              "      <td>6.532700</td>\n",
              "      <td>0.463004</td>\n",
              "      <td>2.965054</td>\n",
              "      <td>8.416160</td>\n",
              "      <td>124.894938</td>\n",
              "      <td>3.879547</td>\n",
              "      <td>3.931714</td>\n",
              "      <td>3.285221</td>\n",
              "      <td>4127.998493</td>\n",
              "      <td>336.708289</td>\n",
              "      <td>0.401860</td>\n",
              "    </tr>\n",
              "    <tr>\n",
              "      <th>3</th>\n",
              "      <td>1168.460376</td>\n",
              "      <td>1099.374957</td>\n",
              "      <td>0.403072</td>\n",
              "      <td>0.199420</td>\n",
              "      <td>-5.072050</td>\n",
              "      <td>0.961648</td>\n",
              "      <td>2.938032</td>\n",
              "      <td>3.662309</td>\n",
              "      <td>66.943349</td>\n",
              "      <td>11.733351</td>\n",
              "      <td>0.568948</td>\n",
              "      <td>2.580607</td>\n",
              "      <td>11.041089</td>\n",
              "      <td>110.946394</td>\n",
              "      <td>3.017491</td>\n",
              "      <td>2.409581</td>\n",
              "      <td>2.365073</td>\n",
              "      <td>4317.190547</td>\n",
              "      <td>440.618533</td>\n",
              "      <td>0.525396</td>\n",
              "    </tr>\n",
              "    <tr>\n",
              "      <th>4</th>\n",
              "      <td>714.993885</td>\n",
              "      <td>635.117375</td>\n",
              "      <td>0.357838</td>\n",
              "      <td>0.197010</td>\n",
              "      <td>-18.258504</td>\n",
              "      <td>0.929242</td>\n",
              "      <td>4.039305</td>\n",
              "      <td>2.703367</td>\n",
              "      <td>59.523813</td>\n",
              "      <td>5.038517</td>\n",
              "      <td>0.515584</td>\n",
              "      <td>2.822235</td>\n",
              "      <td>6.562033</td>\n",
              "      <td>113.676362</td>\n",
              "      <td>3.635205</td>\n",
              "      <td>2.960161</td>\n",
              "      <td>2.913086</td>\n",
              "      <td>2199.660551</td>\n",
              "      <td>159.899914</td>\n",
              "      <td>0.459337</td>\n",
              "    </tr>\n",
              "    <tr>\n",
              "      <th>...</th>\n",
              "      <td>...</td>\n",
              "      <td>...</td>\n",
              "      <td>...</td>\n",
              "      <td>...</td>\n",
              "      <td>...</td>\n",
              "      <td>...</td>\n",
              "      <td>...</td>\n",
              "      <td>...</td>\n",
              "      <td>...</td>\n",
              "      <td>...</td>\n",
              "      <td>...</td>\n",
              "      <td>...</td>\n",
              "      <td>...</td>\n",
              "      <td>...</td>\n",
              "      <td>...</td>\n",
              "      <td>...</td>\n",
              "      <td>...</td>\n",
              "      <td>...</td>\n",
              "      <td>...</td>\n",
              "      <td>...</td>\n",
              "    </tr>\n",
              "    <tr>\n",
              "      <th>218</th>\n",
              "      <td>1139.334792</td>\n",
              "      <td>1164.043059</td>\n",
              "      <td>0.414022</td>\n",
              "      <td>0.213135</td>\n",
              "      <td>-1.530097</td>\n",
              "      <td>0.943887</td>\n",
              "      <td>34.488312</td>\n",
              "      <td>2.866787</td>\n",
              "      <td>92.385521</td>\n",
              "      <td>13.205353</td>\n",
              "      <td>0.562192</td>\n",
              "      <td>2.630389</td>\n",
              "      <td>10.282559</td>\n",
              "      <td>870.710033</td>\n",
              "      <td>3.154861</td>\n",
              "      <td>2.391288</td>\n",
              "      <td>3.549754</td>\n",
              "      <td>2966.852553</td>\n",
              "      <td>386.884556</td>\n",
              "      <td>0.520418</td>\n",
              "    </tr>\n",
              "    <tr>\n",
              "      <th>219</th>\n",
              "      <td>818.698358</td>\n",
              "      <td>750.638244</td>\n",
              "      <td>0.352651</td>\n",
              "      <td>0.063132</td>\n",
              "      <td>-6.273717</td>\n",
              "      <td>0.926308</td>\n",
              "      <td>1.371805</td>\n",
              "      <td>1.858826</td>\n",
              "      <td>35.309268</td>\n",
              "      <td>7.219475</td>\n",
              "      <td>0.414231</td>\n",
              "      <td>3.075701</td>\n",
              "      <td>6.313157</td>\n",
              "      <td>32.590956</td>\n",
              "      <td>4.209590</td>\n",
              "      <td>3.303056</td>\n",
              "      <td>2.716226</td>\n",
              "      <td>2739.472739</td>\n",
              "      <td>109.184231</td>\n",
              "      <td>0.343877</td>\n",
              "    </tr>\n",
              "    <tr>\n",
              "      <th>220</th>\n",
              "      <td>801.695540</td>\n",
              "      <td>712.023516</td>\n",
              "      <td>0.378875</td>\n",
              "      <td>0.140066</td>\n",
              "      <td>-10.378041</td>\n",
              "      <td>0.951679</td>\n",
              "      <td>1.430258</td>\n",
              "      <td>2.868416</td>\n",
              "      <td>55.962185</td>\n",
              "      <td>5.885514</td>\n",
              "      <td>0.507259</td>\n",
              "      <td>2.541374</td>\n",
              "      <td>9.138889</td>\n",
              "      <td>69.219544</td>\n",
              "      <td>3.691867</td>\n",
              "      <td>2.716123</td>\n",
              "      <td>2.390656</td>\n",
              "      <td>2937.926372</td>\n",
              "      <td>143.418764</td>\n",
              "      <td>0.450776</td>\n",
              "    </tr>\n",
              "    <tr>\n",
              "      <th>221</th>\n",
              "      <td>341.806330</td>\n",
              "      <td>306.120848</td>\n",
              "      <td>0.287947</td>\n",
              "      <td>0.049258</td>\n",
              "      <td>-53.314449</td>\n",
              "      <td>0.885614</td>\n",
              "      <td>1.641969</td>\n",
              "      <td>1.556666</td>\n",
              "      <td>58.305698</td>\n",
              "      <td>4.021453</td>\n",
              "      <td>0.414630</td>\n",
              "      <td>3.068692</td>\n",
              "      <td>3.927956</td>\n",
              "      <td>31.134411</td>\n",
              "      <td>3.602954</td>\n",
              "      <td>3.313602</td>\n",
              "      <td>2.552964</td>\n",
              "      <td>1076.024997</td>\n",
              "      <td>82.209871</td>\n",
              "      <td>0.339002</td>\n",
              "    </tr>\n",
              "    <tr>\n",
              "      <th>222</th>\n",
              "      <td>936.931162</td>\n",
              "      <td>847.188220</td>\n",
              "      <td>0.305300</td>\n",
              "      <td>0.040978</td>\n",
              "      <td>-25.765321</td>\n",
              "      <td>0.921289</td>\n",
              "      <td>1.175218</td>\n",
              "      <td>1.755680</td>\n",
              "      <td>47.149955</td>\n",
              "      <td>4.610125</td>\n",
              "      <td>0.430305</td>\n",
              "      <td>3.030857</td>\n",
              "      <td>6.116001</td>\n",
              "      <td>40.044990</td>\n",
              "      <td>4.022671</td>\n",
              "      <td>2.738799</td>\n",
              "      <td>2.519537</td>\n",
              "      <td>3194.234936</td>\n",
              "      <td>87.642116</td>\n",
              "      <td>0.359089</td>\n",
              "    </tr>\n",
              "  </tbody>\n",
              "</table>\n",
              "<p>222 rows × 20 columns</p>\n",
              "</div>\n",
              "      <button class=\"colab-df-convert\" onclick=\"convertToInteractive('df-82e5e57e-f4d4-48d5-b530-7062a0dbe5f3')\"\n",
              "              title=\"Convert this dataframe to an interactive table.\"\n",
              "              style=\"display:none;\">\n",
              "        \n",
              "  <svg xmlns=\"http://www.w3.org/2000/svg\" height=\"24px\"viewBox=\"0 0 24 24\"\n",
              "       width=\"24px\">\n",
              "    <path d=\"M0 0h24v24H0V0z\" fill=\"none\"/>\n",
              "    <path d=\"M18.56 5.44l.94 2.06.94-2.06 2.06-.94-2.06-.94-.94-2.06-.94 2.06-2.06.94zm-11 1L8.5 8.5l.94-2.06 2.06-.94-2.06-.94L8.5 2.5l-.94 2.06-2.06.94zm10 10l.94 2.06.94-2.06 2.06-.94-2.06-.94-.94-2.06-.94 2.06-2.06.94z\"/><path d=\"M17.41 7.96l-1.37-1.37c-.4-.4-.92-.59-1.43-.59-.52 0-1.04.2-1.43.59L10.3 9.45l-7.72 7.72c-.78.78-.78 2.05 0 2.83L4 21.41c.39.39.9.59 1.41.59.51 0 1.02-.2 1.41-.59l7.78-7.78 2.81-2.81c.8-.78.8-2.07 0-2.86zM5.41 20L4 18.59l7.72-7.72 1.47 1.35L5.41 20z\"/>\n",
              "  </svg>\n",
              "      </button>\n",
              "      \n",
              "  <style>\n",
              "    .colab-df-container {\n",
              "      display:flex;\n",
              "      flex-wrap:wrap;\n",
              "      gap: 12px;\n",
              "    }\n",
              "\n",
              "    .colab-df-convert {\n",
              "      background-color: #E8F0FE;\n",
              "      border: none;\n",
              "      border-radius: 50%;\n",
              "      cursor: pointer;\n",
              "      display: none;\n",
              "      fill: #1967D2;\n",
              "      height: 32px;\n",
              "      padding: 0 0 0 0;\n",
              "      width: 32px;\n",
              "    }\n",
              "\n",
              "    .colab-df-convert:hover {\n",
              "      background-color: #E2EBFA;\n",
              "      box-shadow: 0px 1px 2px rgba(60, 64, 67, 0.3), 0px 1px 3px 1px rgba(60, 64, 67, 0.15);\n",
              "      fill: #174EA6;\n",
              "    }\n",
              "\n",
              "    [theme=dark] .colab-df-convert {\n",
              "      background-color: #3B4455;\n",
              "      fill: #D2E3FC;\n",
              "    }\n",
              "\n",
              "    [theme=dark] .colab-df-convert:hover {\n",
              "      background-color: #434B5C;\n",
              "      box-shadow: 0px 1px 3px 1px rgba(0, 0, 0, 0.15);\n",
              "      filter: drop-shadow(0px 1px 2px rgba(0, 0, 0, 0.3));\n",
              "      fill: #FFFFFF;\n",
              "    }\n",
              "  </style>\n",
              "\n",
              "      <script>\n",
              "        const buttonEl =\n",
              "          document.querySelector('#df-82e5e57e-f4d4-48d5-b530-7062a0dbe5f3 button.colab-df-convert');\n",
              "        buttonEl.style.display =\n",
              "          google.colab.kernel.accessAllowed ? 'block' : 'none';\n",
              "\n",
              "        async function convertToInteractive(key) {\n",
              "          const element = document.querySelector('#df-82e5e57e-f4d4-48d5-b530-7062a0dbe5f3');\n",
              "          const dataTable =\n",
              "            await google.colab.kernel.invokeFunction('convertToInteractive',\n",
              "                                                     [key], {});\n",
              "          if (!dataTable) return;\n",
              "\n",
              "          const docLinkHtml = 'Like what you see? Visit the ' +\n",
              "            '<a target=\"_blank\" href=https://colab.research.google.com/notebooks/data_table.ipynb>data table notebook</a>'\n",
              "            + ' to learn more about interactive tables.';\n",
              "          element.innerHTML = '';\n",
              "          dataTable['output_type'] = 'display_data';\n",
              "          await google.colab.output.renderOutput(dataTable, element);\n",
              "          const docLink = document.createElement('div');\n",
              "          docLink.innerHTML = docLinkHtml;\n",
              "          element.appendChild(docLink);\n",
              "        }\n",
              "      </script>\n",
              "    </div>\n",
              "  </div>\n",
              "  "
            ]
          },
          "metadata": {},
          "execution_count": 545
        }
      ]
    },
    {
      "cell_type": "code",
      "source": [
        "from sklearn.model_selection import train_test_split\n",
        "X_train_10, X_test_10, y_train_10, y_test_10 = train_test_split(new_20_features, data_y_trans, train_size = 0.75)"
      ],
      "metadata": {
        "id": "AsOyubAn0UV5"
      },
      "execution_count": 546,
      "outputs": []
    },
    {
      "cell_type": "code",
      "source": [
        "from sklearn.preprocessing import StandardScaler \n",
        "ss_10 = StandardScaler()\n",
        "X_train_std_10 = ss_10.fit_transform(X_train_10)\n",
        "X_test_std_10 = ss_10.fit_transform(X_test_10)"
      ],
      "metadata": {
        "id": "rEystu4O0Pc5"
      },
      "execution_count": 547,
      "outputs": []
    },
    {
      "cell_type": "code",
      "source": [
        "#XGBOOST as Classifier"
      ],
      "metadata": {
        "id": "zHol3uW8bzxq"
      },
      "execution_count": 548,
      "outputs": []
    },
    {
      "cell_type": "code",
      "source": [
        "import xgboost as xgb"
      ],
      "metadata": {
        "id": "JBMX7qi7WI1y"
      },
      "execution_count": 549,
      "outputs": []
    },
    {
      "cell_type": "code",
      "source": [
        "xgb_cl = xgb.XGBClassifier()"
      ],
      "metadata": {
        "id": "_RtSkvCV0bzC"
      },
      "execution_count": 550,
      "outputs": []
    },
    {
      "cell_type": "code",
      "source": [
        "xgb_cl.fit(X_train_std_10, y_train_10)\n"
      ],
      "metadata": {
        "colab": {
          "base_uri": "https://localhost:8080/"
        },
        "id": "zw1KS9wTr3vz",
        "outputId": "1b69a6a1-886c-4cc2-9ef2-ac7b64730ce4"
      },
      "execution_count": 551,
      "outputs": [
        {
          "output_type": "execute_result",
          "data": {
            "text/plain": [
              "XGBClassifier(objective='multi:softprob')"
            ]
          },
          "metadata": {},
          "execution_count": 551
        }
      ]
    },
    {
      "cell_type": "code",
      "source": [
        "preds = xgb_cl.predict(X_test_std_10)"
      ],
      "metadata": {
        "id": "aUaVO7FzmmcH"
      },
      "execution_count": 552,
      "outputs": []
    },
    {
      "cell_type": "code",
      "source": [
        "from sklearn.metrics import accuracy_score"
      ],
      "metadata": {
        "id": "EJFAV3qqXR1X"
      },
      "execution_count": 553,
      "outputs": []
    },
    {
      "cell_type": "code",
      "source": [
        "accuracy_score(y_test_10, preds)*100"
      ],
      "metadata": {
        "colab": {
          "base_uri": "https://localhost:8080/"
        },
        "id": "h7oAooOxoR2P",
        "outputId": "6f1728f9-6c10-4fcf-93dd-3d784f25cbab"
      },
      "execution_count": 554,
      "outputs": [
        {
          "output_type": "execute_result",
          "data": {
            "text/plain": [
              "60.71428571428571"
            ]
          },
          "metadata": {},
          "execution_count": 554
        }
      ]
    },
    {
      "cell_type": "code",
      "source": [
        "#SVM as classifier"
      ],
      "metadata": {
        "id": "-EFFlelJWda_"
      },
      "execution_count": 555,
      "outputs": []
    },
    {
      "cell_type": "code",
      "source": [
        "from sklearn.svm import SVC\n",
        "ML=SVC(kernel=\"rbf\")\n",
        "ML=ML.fit(X_train_std_10, y_train_10)\n",
        "res=ML.predict(X_test_std_10)\n",
        "from sklearn.metrics import accuracy_score\n",
        "ac=accuracy_score(res,y_test_10)\n",
        "print(ac*100)"
      ],
      "metadata": {
        "colab": {
          "base_uri": "https://localhost:8080/"
        },
        "id": "k1PJwWNjXj7X",
        "outputId": "757b7dad-548d-46b7-d488-44a6fb3216c0"
      },
      "execution_count": 556,
      "outputs": [
        {
          "output_type": "stream",
          "name": "stdout",
          "text": [
            "58.92857142857143\n"
          ]
        }
      ]
    },
    {
      "cell_type": "code",
      "source": [
        "#naiveabayes classifier"
      ],
      "metadata": {
        "id": "ps9rPwHIdsSB"
      },
      "execution_count": 557,
      "outputs": []
    },
    {
      "cell_type": "code",
      "source": [
        "from sklearn.naive_bayes import GaussianNB\n",
        "from sklearn.naive_bayes import BernoulliNB\n"
      ],
      "metadata": {
        "id": "629aHy6_bKZg"
      },
      "execution_count": 558,
      "outputs": []
    },
    {
      "cell_type": "code",
      "source": [
        "gnb=GaussianNB()\n",
        "ml1 = BernoulliNB(binarize=2)\n"
      ],
      "metadata": {
        "id": "6VNdFgZgcsl6"
      },
      "execution_count": 559,
      "outputs": []
    },
    {
      "cell_type": "code",
      "source": [
        "model=gnb.fit(X_train_std_10, y_train_10)\n",
        "model1=ml1.fit(X_train_std_10, y_train_10)\n"
      ],
      "metadata": {
        "id": "XvMnMOq0cy7t"
      },
      "execution_count": 560,
      "outputs": []
    },
    {
      "cell_type": "code",
      "source": [
        "res_1=model.predict(X_test_std_10)\n",
        "res_2=model1.predict(X_test_std_10)"
      ],
      "metadata": {
        "id": "E0i2Q5lfdHno"
      },
      "execution_count": 561,
      "outputs": []
    },
    {
      "cell_type": "code",
      "source": [
        "from sklearn.metrics import accuracy_score"
      ],
      "metadata": {
        "id": "yL9YGDM_de7h"
      },
      "execution_count": 562,
      "outputs": []
    },
    {
      "cell_type": "code",
      "source": [
        "accuracy_1=accuracy_score(y_test_10,res_1)\n",
        "print(\"Gaussian :\",accuracy_1*100)\n",
        "accuracy_2=accuracy_score(y_test_10,res_2)\n",
        "print(\"Bernoulli : \",accuracy_2*100)"
      ],
      "metadata": {
        "colab": {
          "base_uri": "https://localhost:8080/"
        },
        "id": "xtipY9kfdi8C",
        "outputId": "b2d62cb2-dfc1-4159-8741-92907c1fb78f"
      },
      "execution_count": 563,
      "outputs": [
        {
          "output_type": "stream",
          "name": "stdout",
          "text": [
            "Gaussian : 57.14285714285714\n",
            "Bernoulli :  58.92857142857143\n"
          ]
        }
      ]
    },
    {
      "cell_type": "code",
      "source": [
        "#Decision tree classifier"
      ],
      "metadata": {
        "id": "mqTabv93lDBD"
      },
      "execution_count": 564,
      "outputs": []
    },
    {
      "cell_type": "code",
      "source": [
        "from sklearn.tree import DecisionTreeClassifier"
      ],
      "metadata": {
        "id": "N78uXItPdno3"
      },
      "execution_count": 565,
      "outputs": []
    },
    {
      "cell_type": "code",
      "source": [
        "clf = DecisionTreeClassifier(random_state=0,max_depth=1)"
      ],
      "metadata": {
        "id": "SqovJ6YEegcD"
      },
      "execution_count": 566,
      "outputs": []
    },
    {
      "cell_type": "code",
      "source": [
        "clf = DecisionTreeClassifier(random_state=0)"
      ],
      "metadata": {
        "id": "aGceEVstejyI"
      },
      "execution_count": 567,
      "outputs": []
    },
    {
      "cell_type": "code",
      "source": [
        "clf=clf.fit(X_train_std_10, y_train_10)"
      ],
      "metadata": {
        "id": "7TymfjcLenBM"
      },
      "execution_count": 568,
      "outputs": []
    },
    {
      "cell_type": "code",
      "source": [
        "res=clf.predict(X_test_std_10)"
      ],
      "metadata": {
        "id": "5awpF0rZep-r"
      },
      "execution_count": 569,
      "outputs": []
    },
    {
      "cell_type": "code",
      "source": [
        "accuracy_score(y_test_10, res)*100\n"
      ],
      "metadata": {
        "colab": {
          "base_uri": "https://localhost:8080/"
        },
        "id": "JSVuZx_ke_1Q",
        "outputId": "a9693d67-d5ca-4c2d-95a1-9cf12bad15a1"
      },
      "execution_count": 570,
      "outputs": [
        {
          "output_type": "execute_result",
          "data": {
            "text/plain": [
              "48.214285714285715"
            ]
          },
          "metadata": {},
          "execution_count": 570
        }
      ]
    },
    {
      "cell_type": "code",
      "source": [],
      "metadata": {
        "id": "j37wXUBcfI28"
      },
      "execution_count": 570,
      "outputs": []
    }
  ]
}