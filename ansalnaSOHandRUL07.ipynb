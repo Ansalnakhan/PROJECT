{
  "nbformat": 4,
  "nbformat_minor": 0,
  "metadata": {
    "colab": {
      "provenance": [],
      "include_colab_link": true
    },
    "kernelspec": {
      "name": "python3",
      "display_name": "Python 3"
    },
    "language_info": {
      "name": "python"
    },
    "accelerator": "GPU"
  },
  "cells": [
    {
      "cell_type": "markdown",
      "metadata": {
        "id": "view-in-github",
        "colab_type": "text"
      },
      "source": [
        "<a href=\"https://colab.research.google.com/github/Ansalnakhan/PROJECT/blob/main/ansalnaSOHandRUL07.ipynb\" target=\"_parent\"><img src=\"https://colab.research.google.com/assets/colab-badge.svg\" alt=\"Open In Colab\"/></a>"
      ]
    },
    {
      "cell_type": "code",
      "source": [
        "import tensorflow as tf\n",
        "from tensorflow import keras\n",
        "\n",
        "import numpy as np"
      ],
      "metadata": {
        "id": "PGNP9R9S9ApK"
      },
      "execution_count": 2072,
      "outputs": []
    },
    {
      "cell_type": "code",
      "source": [
        "import pandas as pd"
      ],
      "metadata": {
        "id": "93pnEOlX9EBh"
      },
      "execution_count": 2073,
      "outputs": []
    },
    {
      "cell_type": "code",
      "source": [
        "data=pd.read_csv(\"/content/B0007.csv\")\n",
        "data"
      ],
      "metadata": {
        "colab": {
          "base_uri": "https://localhost:8080/",
          "height": 852
        },
        "id": "AWaOdyLR9Hbi",
        "outputId": "40c93bf8-a31a-4850-d05d-785e3539ab08"
      },
      "execution_count": 2074,
      "outputs": [
        {
          "output_type": "execute_result",
          "data": {
            "text/plain": [
              "       Unnamed: 0  cycle  ambient_temperature             datetime  capacity  \\\n",
              "0               0      1                   24  2008-04-02 15:25:41  1.856487   \n",
              "1               1      1                   24  2008-04-02 15:25:41  1.856487   \n",
              "2               2      1                   24  2008-04-02 15:25:41  1.856487   \n",
              "3               3      1                   24  2008-04-02 15:25:41  1.856487   \n",
              "4               4      1                   24  2008-04-02 15:25:41  1.856487   \n",
              "...           ...    ...                  ...                  ...       ...   \n",
              "50280       50280    168                   24  2008-05-27 20:45:42  1.325079   \n",
              "50281       50281    168                   24  2008-05-27 20:45:42  1.325079   \n",
              "50282       50282    168                   24  2008-05-27 20:45:42  1.325079   \n",
              "50283       50283    168                   24  2008-05-27 20:45:42  1.325079   \n",
              "50284       50284    168                   24  2008-05-27 20:45:42  1.325079   \n",
              "\n",
              "       voltage_measured  current_measured  temperature_measured  current_load  \\\n",
              "0              4.191492         -0.004902             24.330034       -0.0006   \n",
              "1              4.190749         -0.001478             24.325993       -0.0006   \n",
              "2              3.974871         -2.012528             24.389085       -1.9982   \n",
              "3              3.951717         -2.013979             24.544752       -1.9982   \n",
              "4              3.934352         -2.011144             24.731385       -1.9982   \n",
              "...                 ...               ...                   ...           ...   \n",
              "50280          3.579262         -0.001569             34.864823        0.0006   \n",
              "50281          3.581964         -0.003067             34.814770        0.0006   \n",
              "50282          3.584484         -0.003079             34.676258        0.0006   \n",
              "50283          3.587336          0.001219             34.565580        0.0006   \n",
              "50284          3.589937         -0.000583             34.405920        0.0006   \n",
              "\n",
              "       voltage_load      time  \n",
              "0             0.000     0.000  \n",
              "1             4.206    16.781  \n",
              "2             3.062    35.703  \n",
              "3             3.030    53.781  \n",
              "4             3.011    71.922  \n",
              "...             ...       ...  \n",
              "50280         0.000  2781.312  \n",
              "50281         0.000  2791.062  \n",
              "50282         0.000  2800.828  \n",
              "50283         0.000  2810.640  \n",
              "50284         0.000  2820.390  \n",
              "\n",
              "[50285 rows x 11 columns]"
            ],
            "text/html": [
              "\n",
              "  <div id=\"df-6f8ac28e-62ad-48a6-8f7d-f25aa9e64508\">\n",
              "    <div class=\"colab-df-container\">\n",
              "      <div>\n",
              "<style scoped>\n",
              "    .dataframe tbody tr th:only-of-type {\n",
              "        vertical-align: middle;\n",
              "    }\n",
              "\n",
              "    .dataframe tbody tr th {\n",
              "        vertical-align: top;\n",
              "    }\n",
              "\n",
              "    .dataframe thead th {\n",
              "        text-align: right;\n",
              "    }\n",
              "</style>\n",
              "<table border=\"1\" class=\"dataframe\">\n",
              "  <thead>\n",
              "    <tr style=\"text-align: right;\">\n",
              "      <th></th>\n",
              "      <th>Unnamed: 0</th>\n",
              "      <th>cycle</th>\n",
              "      <th>ambient_temperature</th>\n",
              "      <th>datetime</th>\n",
              "      <th>capacity</th>\n",
              "      <th>voltage_measured</th>\n",
              "      <th>current_measured</th>\n",
              "      <th>temperature_measured</th>\n",
              "      <th>current_load</th>\n",
              "      <th>voltage_load</th>\n",
              "      <th>time</th>\n",
              "    </tr>\n",
              "  </thead>\n",
              "  <tbody>\n",
              "    <tr>\n",
              "      <th>0</th>\n",
              "      <td>0</td>\n",
              "      <td>1</td>\n",
              "      <td>24</td>\n",
              "      <td>2008-04-02 15:25:41</td>\n",
              "      <td>1.856487</td>\n",
              "      <td>4.191492</td>\n",
              "      <td>-0.004902</td>\n",
              "      <td>24.330034</td>\n",
              "      <td>-0.0006</td>\n",
              "      <td>0.000</td>\n",
              "      <td>0.000</td>\n",
              "    </tr>\n",
              "    <tr>\n",
              "      <th>1</th>\n",
              "      <td>1</td>\n",
              "      <td>1</td>\n",
              "      <td>24</td>\n",
              "      <td>2008-04-02 15:25:41</td>\n",
              "      <td>1.856487</td>\n",
              "      <td>4.190749</td>\n",
              "      <td>-0.001478</td>\n",
              "      <td>24.325993</td>\n",
              "      <td>-0.0006</td>\n",
              "      <td>4.206</td>\n",
              "      <td>16.781</td>\n",
              "    </tr>\n",
              "    <tr>\n",
              "      <th>2</th>\n",
              "      <td>2</td>\n",
              "      <td>1</td>\n",
              "      <td>24</td>\n",
              "      <td>2008-04-02 15:25:41</td>\n",
              "      <td>1.856487</td>\n",
              "      <td>3.974871</td>\n",
              "      <td>-2.012528</td>\n",
              "      <td>24.389085</td>\n",
              "      <td>-1.9982</td>\n",
              "      <td>3.062</td>\n",
              "      <td>35.703</td>\n",
              "    </tr>\n",
              "    <tr>\n",
              "      <th>3</th>\n",
              "      <td>3</td>\n",
              "      <td>1</td>\n",
              "      <td>24</td>\n",
              "      <td>2008-04-02 15:25:41</td>\n",
              "      <td>1.856487</td>\n",
              "      <td>3.951717</td>\n",
              "      <td>-2.013979</td>\n",
              "      <td>24.544752</td>\n",
              "      <td>-1.9982</td>\n",
              "      <td>3.030</td>\n",
              "      <td>53.781</td>\n",
              "    </tr>\n",
              "    <tr>\n",
              "      <th>4</th>\n",
              "      <td>4</td>\n",
              "      <td>1</td>\n",
              "      <td>24</td>\n",
              "      <td>2008-04-02 15:25:41</td>\n",
              "      <td>1.856487</td>\n",
              "      <td>3.934352</td>\n",
              "      <td>-2.011144</td>\n",
              "      <td>24.731385</td>\n",
              "      <td>-1.9982</td>\n",
              "      <td>3.011</td>\n",
              "      <td>71.922</td>\n",
              "    </tr>\n",
              "    <tr>\n",
              "      <th>...</th>\n",
              "      <td>...</td>\n",
              "      <td>...</td>\n",
              "      <td>...</td>\n",
              "      <td>...</td>\n",
              "      <td>...</td>\n",
              "      <td>...</td>\n",
              "      <td>...</td>\n",
              "      <td>...</td>\n",
              "      <td>...</td>\n",
              "      <td>...</td>\n",
              "      <td>...</td>\n",
              "    </tr>\n",
              "    <tr>\n",
              "      <th>50280</th>\n",
              "      <td>50280</td>\n",
              "      <td>168</td>\n",
              "      <td>24</td>\n",
              "      <td>2008-05-27 20:45:42</td>\n",
              "      <td>1.325079</td>\n",
              "      <td>3.579262</td>\n",
              "      <td>-0.001569</td>\n",
              "      <td>34.864823</td>\n",
              "      <td>0.0006</td>\n",
              "      <td>0.000</td>\n",
              "      <td>2781.312</td>\n",
              "    </tr>\n",
              "    <tr>\n",
              "      <th>50281</th>\n",
              "      <td>50281</td>\n",
              "      <td>168</td>\n",
              "      <td>24</td>\n",
              "      <td>2008-05-27 20:45:42</td>\n",
              "      <td>1.325079</td>\n",
              "      <td>3.581964</td>\n",
              "      <td>-0.003067</td>\n",
              "      <td>34.814770</td>\n",
              "      <td>0.0006</td>\n",
              "      <td>0.000</td>\n",
              "      <td>2791.062</td>\n",
              "    </tr>\n",
              "    <tr>\n",
              "      <th>50282</th>\n",
              "      <td>50282</td>\n",
              "      <td>168</td>\n",
              "      <td>24</td>\n",
              "      <td>2008-05-27 20:45:42</td>\n",
              "      <td>1.325079</td>\n",
              "      <td>3.584484</td>\n",
              "      <td>-0.003079</td>\n",
              "      <td>34.676258</td>\n",
              "      <td>0.0006</td>\n",
              "      <td>0.000</td>\n",
              "      <td>2800.828</td>\n",
              "    </tr>\n",
              "    <tr>\n",
              "      <th>50283</th>\n",
              "      <td>50283</td>\n",
              "      <td>168</td>\n",
              "      <td>24</td>\n",
              "      <td>2008-05-27 20:45:42</td>\n",
              "      <td>1.325079</td>\n",
              "      <td>3.587336</td>\n",
              "      <td>0.001219</td>\n",
              "      <td>34.565580</td>\n",
              "      <td>0.0006</td>\n",
              "      <td>0.000</td>\n",
              "      <td>2810.640</td>\n",
              "    </tr>\n",
              "    <tr>\n",
              "      <th>50284</th>\n",
              "      <td>50284</td>\n",
              "      <td>168</td>\n",
              "      <td>24</td>\n",
              "      <td>2008-05-27 20:45:42</td>\n",
              "      <td>1.325079</td>\n",
              "      <td>3.589937</td>\n",
              "      <td>-0.000583</td>\n",
              "      <td>34.405920</td>\n",
              "      <td>0.0006</td>\n",
              "      <td>0.000</td>\n",
              "      <td>2820.390</td>\n",
              "    </tr>\n",
              "  </tbody>\n",
              "</table>\n",
              "<p>50285 rows × 11 columns</p>\n",
              "</div>\n",
              "      <button class=\"colab-df-convert\" onclick=\"convertToInteractive('df-6f8ac28e-62ad-48a6-8f7d-f25aa9e64508')\"\n",
              "              title=\"Convert this dataframe to an interactive table.\"\n",
              "              style=\"display:none;\">\n",
              "        \n",
              "  <svg xmlns=\"http://www.w3.org/2000/svg\" height=\"24px\"viewBox=\"0 0 24 24\"\n",
              "       width=\"24px\">\n",
              "    <path d=\"M0 0h24v24H0V0z\" fill=\"none\"/>\n",
              "    <path d=\"M18.56 5.44l.94 2.06.94-2.06 2.06-.94-2.06-.94-.94-2.06-.94 2.06-2.06.94zm-11 1L8.5 8.5l.94-2.06 2.06-.94-2.06-.94L8.5 2.5l-.94 2.06-2.06.94zm10 10l.94 2.06.94-2.06 2.06-.94-2.06-.94-.94-2.06-.94 2.06-2.06.94z\"/><path d=\"M17.41 7.96l-1.37-1.37c-.4-.4-.92-.59-1.43-.59-.52 0-1.04.2-1.43.59L10.3 9.45l-7.72 7.72c-.78.78-.78 2.05 0 2.83L4 21.41c.39.39.9.59 1.41.59.51 0 1.02-.2 1.41-.59l7.78-7.78 2.81-2.81c.8-.78.8-2.07 0-2.86zM5.41 20L4 18.59l7.72-7.72 1.47 1.35L5.41 20z\"/>\n",
              "  </svg>\n",
              "      </button>\n",
              "      \n",
              "  <style>\n",
              "    .colab-df-container {\n",
              "      display:flex;\n",
              "      flex-wrap:wrap;\n",
              "      gap: 12px;\n",
              "    }\n",
              "\n",
              "    .colab-df-convert {\n",
              "      background-color: #E8F0FE;\n",
              "      border: none;\n",
              "      border-radius: 50%;\n",
              "      cursor: pointer;\n",
              "      display: none;\n",
              "      fill: #1967D2;\n",
              "      height: 32px;\n",
              "      padding: 0 0 0 0;\n",
              "      width: 32px;\n",
              "    }\n",
              "\n",
              "    .colab-df-convert:hover {\n",
              "      background-color: #E2EBFA;\n",
              "      box-shadow: 0px 1px 2px rgba(60, 64, 67, 0.3), 0px 1px 3px 1px rgba(60, 64, 67, 0.15);\n",
              "      fill: #174EA6;\n",
              "    }\n",
              "\n",
              "    [theme=dark] .colab-df-convert {\n",
              "      background-color: #3B4455;\n",
              "      fill: #D2E3FC;\n",
              "    }\n",
              "\n",
              "    [theme=dark] .colab-df-convert:hover {\n",
              "      background-color: #434B5C;\n",
              "      box-shadow: 0px 1px 3px 1px rgba(0, 0, 0, 0.15);\n",
              "      filter: drop-shadow(0px 1px 2px rgba(0, 0, 0, 0.3));\n",
              "      fill: #FFFFFF;\n",
              "    }\n",
              "  </style>\n",
              "\n",
              "      <script>\n",
              "        const buttonEl =\n",
              "          document.querySelector('#df-6f8ac28e-62ad-48a6-8f7d-f25aa9e64508 button.colab-df-convert');\n",
              "        buttonEl.style.display =\n",
              "          google.colab.kernel.accessAllowed ? 'block' : 'none';\n",
              "\n",
              "        async function convertToInteractive(key) {\n",
              "          const element = document.querySelector('#df-6f8ac28e-62ad-48a6-8f7d-f25aa9e64508');\n",
              "          const dataTable =\n",
              "            await google.colab.kernel.invokeFunction('convertToInteractive',\n",
              "                                                     [key], {});\n",
              "          if (!dataTable) return;\n",
              "\n",
              "          const docLinkHtml = 'Like what you see? Visit the ' +\n",
              "            '<a target=\"_blank\" href=https://colab.research.google.com/notebooks/data_table.ipynb>data table notebook</a>'\n",
              "            + ' to learn more about interactive tables.';\n",
              "          element.innerHTML = '';\n",
              "          dataTable['output_type'] = 'display_data';\n",
              "          await google.colab.output.renderOutput(dataTable, element);\n",
              "          const docLink = document.createElement('div');\n",
              "          docLink.innerHTML = docLinkHtml;\n",
              "          element.appendChild(docLink);\n",
              "        }\n",
              "      </script>\n",
              "    </div>\n",
              "  </div>\n",
              "  "
            ]
          },
          "metadata": {},
          "execution_count": 2074
        }
      ]
    },
    {
      "cell_type": "code",
      "source": [
        "data=data.drop_duplicates(subset=['cycle'], keep='last')\n",
        "data"
      ],
      "metadata": {
        "colab": {
          "base_uri": "https://localhost:8080/",
          "height": 852
        },
        "id": "R-d6HTbi9HVj",
        "outputId": "fef6b0e4-b69c-43ee-89e4-e832b5876426"
      },
      "execution_count": 2075,
      "outputs": [
        {
          "output_type": "execute_result",
          "data": {
            "text/plain": [
              "       Unnamed: 0  cycle  ambient_temperature             datetime  capacity  \\\n",
              "196           196      1                   24  2008-04-02 15:25:41  1.856487   \n",
              "392           392      2                   24  2008-04-02 19:43:48  1.846327   \n",
              "587           587      3                   24  2008-04-03 00:01:06  1.835349   \n",
              "781           781      4                   24  2008-04-03 04:16:37  1.835263   \n",
              "975           975      5                   24  2008-04-03 08:33:25  1.834646   \n",
              "...           ...    ...                  ...                  ...       ...   \n",
              "49092       49092    164                   24  2008-05-26 10:44:38  1.293464   \n",
              "49389       49389    165                   24  2008-05-26 15:30:43  1.288003   \n",
              "49686       49686    166                   24  2008-05-26 20:21:04  1.287453   \n",
              "49984       49984    167                   24  2008-05-27 15:52:41  1.309015   \n",
              "50284       50284    168                   24  2008-05-27 20:45:42  1.325079   \n",
              "\n",
              "       voltage_measured  current_measured  temperature_measured  current_load  \\\n",
              "196            3.277170         -0.006528             34.230853       -0.0006   \n",
              "392            3.300245         -0.000448             34.392137       -0.0006   \n",
              "587            3.327451          0.001026             34.232779       -0.0006   \n",
              "781            3.314182         -0.002234             34.413450       -0.0006   \n",
              "975            3.305497          0.000009             34.345885       -0.0006   \n",
              "...                 ...               ...                   ...           ...   \n",
              "49092          3.615561         -0.002548             34.075649        0.0006   \n",
              "49389          3.621191         -0.002460             33.991350        0.0006   \n",
              "49686          3.619185          0.000478             34.059198        0.0006   \n",
              "49984          3.595365         -0.002342             34.556514        0.0006   \n",
              "50284          3.589937         -0.000583             34.405920        0.0006   \n",
              "\n",
              "       voltage_load      time  \n",
              "196             0.0  3690.234  \n",
              "392             0.0  3672.344  \n",
              "587             0.0  3651.641  \n",
              "781             0.0  3631.563  \n",
              "975             0.0  3629.172  \n",
              "...             ...       ...  \n",
              "49092           0.0  2793.390  \n",
              "49389           0.0  2793.390  \n",
              "49686           0.0  2792.485  \n",
              "49984           0.0  2802.016  \n",
              "50284           0.0  2820.390  \n",
              "\n",
              "[168 rows x 11 columns]"
            ],
            "text/html": [
              "\n",
              "  <div id=\"df-3208561b-f1af-42d9-a30a-2321ca279744\">\n",
              "    <div class=\"colab-df-container\">\n",
              "      <div>\n",
              "<style scoped>\n",
              "    .dataframe tbody tr th:only-of-type {\n",
              "        vertical-align: middle;\n",
              "    }\n",
              "\n",
              "    .dataframe tbody tr th {\n",
              "        vertical-align: top;\n",
              "    }\n",
              "\n",
              "    .dataframe thead th {\n",
              "        text-align: right;\n",
              "    }\n",
              "</style>\n",
              "<table border=\"1\" class=\"dataframe\">\n",
              "  <thead>\n",
              "    <tr style=\"text-align: right;\">\n",
              "      <th></th>\n",
              "      <th>Unnamed: 0</th>\n",
              "      <th>cycle</th>\n",
              "      <th>ambient_temperature</th>\n",
              "      <th>datetime</th>\n",
              "      <th>capacity</th>\n",
              "      <th>voltage_measured</th>\n",
              "      <th>current_measured</th>\n",
              "      <th>temperature_measured</th>\n",
              "      <th>current_load</th>\n",
              "      <th>voltage_load</th>\n",
              "      <th>time</th>\n",
              "    </tr>\n",
              "  </thead>\n",
              "  <tbody>\n",
              "    <tr>\n",
              "      <th>196</th>\n",
              "      <td>196</td>\n",
              "      <td>1</td>\n",
              "      <td>24</td>\n",
              "      <td>2008-04-02 15:25:41</td>\n",
              "      <td>1.856487</td>\n",
              "      <td>3.277170</td>\n",
              "      <td>-0.006528</td>\n",
              "      <td>34.230853</td>\n",
              "      <td>-0.0006</td>\n",
              "      <td>0.0</td>\n",
              "      <td>3690.234</td>\n",
              "    </tr>\n",
              "    <tr>\n",
              "      <th>392</th>\n",
              "      <td>392</td>\n",
              "      <td>2</td>\n",
              "      <td>24</td>\n",
              "      <td>2008-04-02 19:43:48</td>\n",
              "      <td>1.846327</td>\n",
              "      <td>3.300245</td>\n",
              "      <td>-0.000448</td>\n",
              "      <td>34.392137</td>\n",
              "      <td>-0.0006</td>\n",
              "      <td>0.0</td>\n",
              "      <td>3672.344</td>\n",
              "    </tr>\n",
              "    <tr>\n",
              "      <th>587</th>\n",
              "      <td>587</td>\n",
              "      <td>3</td>\n",
              "      <td>24</td>\n",
              "      <td>2008-04-03 00:01:06</td>\n",
              "      <td>1.835349</td>\n",
              "      <td>3.327451</td>\n",
              "      <td>0.001026</td>\n",
              "      <td>34.232779</td>\n",
              "      <td>-0.0006</td>\n",
              "      <td>0.0</td>\n",
              "      <td>3651.641</td>\n",
              "    </tr>\n",
              "    <tr>\n",
              "      <th>781</th>\n",
              "      <td>781</td>\n",
              "      <td>4</td>\n",
              "      <td>24</td>\n",
              "      <td>2008-04-03 04:16:37</td>\n",
              "      <td>1.835263</td>\n",
              "      <td>3.314182</td>\n",
              "      <td>-0.002234</td>\n",
              "      <td>34.413450</td>\n",
              "      <td>-0.0006</td>\n",
              "      <td>0.0</td>\n",
              "      <td>3631.563</td>\n",
              "    </tr>\n",
              "    <tr>\n",
              "      <th>975</th>\n",
              "      <td>975</td>\n",
              "      <td>5</td>\n",
              "      <td>24</td>\n",
              "      <td>2008-04-03 08:33:25</td>\n",
              "      <td>1.834646</td>\n",
              "      <td>3.305497</td>\n",
              "      <td>0.000009</td>\n",
              "      <td>34.345885</td>\n",
              "      <td>-0.0006</td>\n",
              "      <td>0.0</td>\n",
              "      <td>3629.172</td>\n",
              "    </tr>\n",
              "    <tr>\n",
              "      <th>...</th>\n",
              "      <td>...</td>\n",
              "      <td>...</td>\n",
              "      <td>...</td>\n",
              "      <td>...</td>\n",
              "      <td>...</td>\n",
              "      <td>...</td>\n",
              "      <td>...</td>\n",
              "      <td>...</td>\n",
              "      <td>...</td>\n",
              "      <td>...</td>\n",
              "      <td>...</td>\n",
              "    </tr>\n",
              "    <tr>\n",
              "      <th>49092</th>\n",
              "      <td>49092</td>\n",
              "      <td>164</td>\n",
              "      <td>24</td>\n",
              "      <td>2008-05-26 10:44:38</td>\n",
              "      <td>1.293464</td>\n",
              "      <td>3.615561</td>\n",
              "      <td>-0.002548</td>\n",
              "      <td>34.075649</td>\n",
              "      <td>0.0006</td>\n",
              "      <td>0.0</td>\n",
              "      <td>2793.390</td>\n",
              "    </tr>\n",
              "    <tr>\n",
              "      <th>49389</th>\n",
              "      <td>49389</td>\n",
              "      <td>165</td>\n",
              "      <td>24</td>\n",
              "      <td>2008-05-26 15:30:43</td>\n",
              "      <td>1.288003</td>\n",
              "      <td>3.621191</td>\n",
              "      <td>-0.002460</td>\n",
              "      <td>33.991350</td>\n",
              "      <td>0.0006</td>\n",
              "      <td>0.0</td>\n",
              "      <td>2793.390</td>\n",
              "    </tr>\n",
              "    <tr>\n",
              "      <th>49686</th>\n",
              "      <td>49686</td>\n",
              "      <td>166</td>\n",
              "      <td>24</td>\n",
              "      <td>2008-05-26 20:21:04</td>\n",
              "      <td>1.287453</td>\n",
              "      <td>3.619185</td>\n",
              "      <td>0.000478</td>\n",
              "      <td>34.059198</td>\n",
              "      <td>0.0006</td>\n",
              "      <td>0.0</td>\n",
              "      <td>2792.485</td>\n",
              "    </tr>\n",
              "    <tr>\n",
              "      <th>49984</th>\n",
              "      <td>49984</td>\n",
              "      <td>167</td>\n",
              "      <td>24</td>\n",
              "      <td>2008-05-27 15:52:41</td>\n",
              "      <td>1.309015</td>\n",
              "      <td>3.595365</td>\n",
              "      <td>-0.002342</td>\n",
              "      <td>34.556514</td>\n",
              "      <td>0.0006</td>\n",
              "      <td>0.0</td>\n",
              "      <td>2802.016</td>\n",
              "    </tr>\n",
              "    <tr>\n",
              "      <th>50284</th>\n",
              "      <td>50284</td>\n",
              "      <td>168</td>\n",
              "      <td>24</td>\n",
              "      <td>2008-05-27 20:45:42</td>\n",
              "      <td>1.325079</td>\n",
              "      <td>3.589937</td>\n",
              "      <td>-0.000583</td>\n",
              "      <td>34.405920</td>\n",
              "      <td>0.0006</td>\n",
              "      <td>0.0</td>\n",
              "      <td>2820.390</td>\n",
              "    </tr>\n",
              "  </tbody>\n",
              "</table>\n",
              "<p>168 rows × 11 columns</p>\n",
              "</div>\n",
              "      <button class=\"colab-df-convert\" onclick=\"convertToInteractive('df-3208561b-f1af-42d9-a30a-2321ca279744')\"\n",
              "              title=\"Convert this dataframe to an interactive table.\"\n",
              "              style=\"display:none;\">\n",
              "        \n",
              "  <svg xmlns=\"http://www.w3.org/2000/svg\" height=\"24px\"viewBox=\"0 0 24 24\"\n",
              "       width=\"24px\">\n",
              "    <path d=\"M0 0h24v24H0V0z\" fill=\"none\"/>\n",
              "    <path d=\"M18.56 5.44l.94 2.06.94-2.06 2.06-.94-2.06-.94-.94-2.06-.94 2.06-2.06.94zm-11 1L8.5 8.5l.94-2.06 2.06-.94-2.06-.94L8.5 2.5l-.94 2.06-2.06.94zm10 10l.94 2.06.94-2.06 2.06-.94-2.06-.94-.94-2.06-.94 2.06-2.06.94z\"/><path d=\"M17.41 7.96l-1.37-1.37c-.4-.4-.92-.59-1.43-.59-.52 0-1.04.2-1.43.59L10.3 9.45l-7.72 7.72c-.78.78-.78 2.05 0 2.83L4 21.41c.39.39.9.59 1.41.59.51 0 1.02-.2 1.41-.59l7.78-7.78 2.81-2.81c.8-.78.8-2.07 0-2.86zM5.41 20L4 18.59l7.72-7.72 1.47 1.35L5.41 20z\"/>\n",
              "  </svg>\n",
              "      </button>\n",
              "      \n",
              "  <style>\n",
              "    .colab-df-container {\n",
              "      display:flex;\n",
              "      flex-wrap:wrap;\n",
              "      gap: 12px;\n",
              "    }\n",
              "\n",
              "    .colab-df-convert {\n",
              "      background-color: #E8F0FE;\n",
              "      border: none;\n",
              "      border-radius: 50%;\n",
              "      cursor: pointer;\n",
              "      display: none;\n",
              "      fill: #1967D2;\n",
              "      height: 32px;\n",
              "      padding: 0 0 0 0;\n",
              "      width: 32px;\n",
              "    }\n",
              "\n",
              "    .colab-df-convert:hover {\n",
              "      background-color: #E2EBFA;\n",
              "      box-shadow: 0px 1px 2px rgba(60, 64, 67, 0.3), 0px 1px 3px 1px rgba(60, 64, 67, 0.15);\n",
              "      fill: #174EA6;\n",
              "    }\n",
              "\n",
              "    [theme=dark] .colab-df-convert {\n",
              "      background-color: #3B4455;\n",
              "      fill: #D2E3FC;\n",
              "    }\n",
              "\n",
              "    [theme=dark] .colab-df-convert:hover {\n",
              "      background-color: #434B5C;\n",
              "      box-shadow: 0px 1px 3px 1px rgba(0, 0, 0, 0.15);\n",
              "      filter: drop-shadow(0px 1px 2px rgba(0, 0, 0, 0.3));\n",
              "      fill: #FFFFFF;\n",
              "    }\n",
              "  </style>\n",
              "\n",
              "      <script>\n",
              "        const buttonEl =\n",
              "          document.querySelector('#df-3208561b-f1af-42d9-a30a-2321ca279744 button.colab-df-convert');\n",
              "        buttonEl.style.display =\n",
              "          google.colab.kernel.accessAllowed ? 'block' : 'none';\n",
              "\n",
              "        async function convertToInteractive(key) {\n",
              "          const element = document.querySelector('#df-3208561b-f1af-42d9-a30a-2321ca279744');\n",
              "          const dataTable =\n",
              "            await google.colab.kernel.invokeFunction('convertToInteractive',\n",
              "                                                     [key], {});\n",
              "          if (!dataTable) return;\n",
              "\n",
              "          const docLinkHtml = 'Like what you see? Visit the ' +\n",
              "            '<a target=\"_blank\" href=https://colab.research.google.com/notebooks/data_table.ipynb>data table notebook</a>'\n",
              "            + ' to learn more about interactive tables.';\n",
              "          element.innerHTML = '';\n",
              "          dataTable['output_type'] = 'display_data';\n",
              "          await google.colab.output.renderOutput(dataTable, element);\n",
              "          const docLink = document.createElement('div');\n",
              "          docLink.innerHTML = docLinkHtml;\n",
              "          element.appendChild(docLink);\n",
              "        }\n",
              "      </script>\n",
              "    </div>\n",
              "  </div>\n",
              "  "
            ]
          },
          "metadata": {},
          "execution_count": 2075
        }
      ]
    },
    {
      "cell_type": "code",
      "source": [
        "import matplotlib.pyplot as plt\n",
        "plt.plot(range(len(data[\"capacity\"])),data[\"capacity\"])\n",
        "plt.show()"
      ],
      "metadata": {
        "colab": {
          "base_uri": "https://localhost:8080/",
          "height": 265
        },
        "id": "6RRhYwuU9HRJ",
        "outputId": "195e89ca-e6ff-412b-84c0-b96441d9c118"
      },
      "execution_count": 2076,
      "outputs": [
        {
          "output_type": "display_data",
          "data": {
            "text/plain": [
              "<Figure size 432x288 with 1 Axes>"
            ],
            "image/png": "[encoded data removed]"
          },
          "metadata": {
            "needs_background": "light"
          }
        }
      ]
    },
    {
      "cell_type": "code",
      "source": [
        "capacity=data[[\"capacity\"]]\n",
        "capacity=capacity.set_index(pd.Index(range(len(capacity))))\n",
        "capacity"
      ],
      "metadata": {
        "colab": {
          "base_uri": "https://localhost:8080/",
          "height": 424
        },
        "id": "ompghabq9HMB",
        "outputId": "54d58d91-25df-47b3-fdea-04615ed79a9c"
      },
      "execution_count": 2077,
      "outputs": [
        {
          "output_type": "execute_result",
          "data": {
            "text/plain": [
              "     capacity\n",
              "0    1.856487\n",
              "1    1.846327\n",
              "2    1.835349\n",
              "3    1.835263\n",
              "4    1.834646\n",
              "..        ...\n",
              "163  1.293464\n",
              "164  1.288003\n",
              "165  1.287453\n",
              "166  1.309015\n",
              "167  1.325079\n",
              "\n",
              "[168 rows x 1 columns]"
            ],
            "text/html": [
              "\n",
              "  <div id=\"df-36380490-83df-401e-b41f-d5e99a3cd04f\">\n",
              "    <div class=\"colab-df-container\">\n",
              "      <div>\n",
              "<style scoped>\n",
              "    .dataframe tbody tr th:only-of-type {\n",
              "        vertical-align: middle;\n",
              "    }\n",
              "\n",
              "    .dataframe tbody tr th {\n",
              "        vertical-align: top;\n",
              "    }\n",
              "\n",
              "    .dataframe thead th {\n",
              "        text-align: right;\n",
              "    }\n",
              "</style>\n",
              "<table border=\"1\" class=\"dataframe\">\n",
              "  <thead>\n",
              "    <tr style=\"text-align: right;\">\n",
              "      <th></th>\n",
              "      <th>capacity</th>\n",
              "    </tr>\n",
              "  </thead>\n",
              "  <tbody>\n",
              "    <tr>\n",
              "      <th>0</th>\n",
              "      <td>1.856487</td>\n",
              "    </tr>\n",
              "    <tr>\n",
              "      <th>1</th>\n",
              "      <td>1.846327</td>\n",
              "    </tr>\n",
              "    <tr>\n",
              "      <th>2</th>\n",
              "      <td>1.835349</td>\n",
              "    </tr>\n",
              "    <tr>\n",
              "      <th>3</th>\n",
              "      <td>1.835263</td>\n",
              "    </tr>\n",
              "    <tr>\n",
              "      <th>4</th>\n",
              "      <td>1.834646</td>\n",
              "    </tr>\n",
              "    <tr>\n",
              "      <th>...</th>\n",
              "      <td>...</td>\n",
              "    </tr>\n",
              "    <tr>\n",
              "      <th>163</th>\n",
              "      <td>1.293464</td>\n",
              "    </tr>\n",
              "    <tr>\n",
              "      <th>164</th>\n",
              "      <td>1.288003</td>\n",
              "    </tr>\n",
              "    <tr>\n",
              "      <th>165</th>\n",
              "      <td>1.287453</td>\n",
              "    </tr>\n",
              "    <tr>\n",
              "      <th>166</th>\n",
              "      <td>1.309015</td>\n",
              "    </tr>\n",
              "    <tr>\n",
              "      <th>167</th>\n",
              "      <td>1.325079</td>\n",
              "    </tr>\n",
              "  </tbody>\n",
              "</table>\n",
              "<p>168 rows × 1 columns</p>\n",
              "</div>\n",
              "      <button class=\"colab-df-convert\" onclick=\"convertToInteractive('df-36380490-83df-401e-b41f-d5e99a3cd04f')\"\n",
              "              title=\"Convert this dataframe to an interactive table.\"\n",
              "              style=\"display:none;\">\n",
              "        \n",
              "  <svg xmlns=\"http://www.w3.org/2000/svg\" height=\"24px\"viewBox=\"0 0 24 24\"\n",
              "       width=\"24px\">\n",
              "    <path d=\"M0 0h24v24H0V0z\" fill=\"none\"/>\n",
              "    <path d=\"M18.56 5.44l.94 2.06.94-2.06 2.06-.94-2.06-.94-.94-2.06-.94 2.06-2.06.94zm-11 1L8.5 8.5l.94-2.06 2.06-.94-2.06-.94L8.5 2.5l-.94 2.06-2.06.94zm10 10l.94 2.06.94-2.06 2.06-.94-2.06-.94-.94-2.06-.94 2.06-2.06.94z\"/><path d=\"M17.41 7.96l-1.37-1.37c-.4-.4-.92-.59-1.43-.59-.52 0-1.04.2-1.43.59L10.3 9.45l-7.72 7.72c-.78.78-.78 2.05 0 2.83L4 21.41c.39.39.9.59 1.41.59.51 0 1.02-.2 1.41-.59l7.78-7.78 2.81-2.81c.8-.78.8-2.07 0-2.86zM5.41 20L4 18.59l7.72-7.72 1.47 1.35L5.41 20z\"/>\n",
              "  </svg>\n",
              "      </button>\n",
              "      \n",
              "  <style>\n",
              "    .colab-df-container {\n",
              "      display:flex;\n",
              "      flex-wrap:wrap;\n",
              "      gap: 12px;\n",
              "    }\n",
              "\n",
              "    .colab-df-convert {\n",
              "      background-color: #E8F0FE;\n",
              "      border: none;\n",
              "      border-radius: 50%;\n",
              "      cursor: pointer;\n",
              "      display: none;\n",
              "      fill: #1967D2;\n",
              "      height: 32px;\n",
              "      padding: 0 0 0 0;\n",
              "      width: 32px;\n",
              "    }\n",
              "\n",
              "    .colab-df-convert:hover {\n",
              "      background-color: #E2EBFA;\n",
              "      box-shadow: 0px 1px 2px rgba(60, 64, 67, 0.3), 0px 1px 3px 1px rgba(60, 64, 67, 0.15);\n",
              "      fill: #174EA6;\n",
              "    }\n",
              "\n",
              "    [theme=dark] .colab-df-convert {\n",
              "      background-color: #3B4455;\n",
              "      fill: #D2E3FC;\n",
              "    }\n",
              "\n",
              "    [theme=dark] .colab-df-convert:hover {\n",
              "      background-color: #434B5C;\n",
              "      box-shadow: 0px 1px 3px 1px rgba(0, 0, 0, 0.15);\n",
              "      filter: drop-shadow(0px 1px 2px rgba(0, 0, 0, 0.3));\n",
              "      fill: #FFFFFF;\n",
              "    }\n",
              "  </style>\n",
              "\n",
              "      <script>\n",
              "        const buttonEl =\n",
              "          document.querySelector('#df-36380490-83df-401e-b41f-d5e99a3cd04f button.colab-df-convert');\n",
              "        buttonEl.style.display =\n",
              "          google.colab.kernel.accessAllowed ? 'block' : 'none';\n",
              "\n",
              "        async function convertToInteractive(key) {\n",
              "          const element = document.querySelector('#df-36380490-83df-401e-b41f-d5e99a3cd04f');\n",
              "          const dataTable =\n",
              "            await google.colab.kernel.invokeFunction('convertToInteractive',\n",
              "                                                     [key], {});\n",
              "          if (!dataTable) return;\n",
              "\n",
              "          const docLinkHtml = 'Like what you see? Visit the ' +\n",
              "            '<a target=\"_blank\" href=https://colab.research.google.com/notebooks/data_table.ipynb>data table notebook</a>'\n",
              "            + ' to learn more about interactive tables.';\n",
              "          element.innerHTML = '';\n",
              "          dataTable['output_type'] = 'display_data';\n",
              "          await google.colab.output.renderOutput(dataTable, element);\n",
              "          const docLink = document.createElement('div');\n",
              "          docLink.innerHTML = docLinkHtml;\n",
              "          element.appendChild(docLink);\n",
              "        }\n",
              "      </script>\n",
              "    </div>\n",
              "  </div>\n",
              "  "
            ]
          },
          "metadata": {},
          "execution_count": 2077
        }
      ]
    },
    {
      "cell_type": "code",
      "source": [
        "soh=[]\n",
        "for i in range(len(capacity)):\n",
        "  soh.append(capacity.loc[i].at[\"capacity\"]/capacity.loc[0].at[\"capacity\"])"
      ],
      "metadata": {
        "id": "6_g6MRNA9dhT"
      },
      "execution_count": 2078,
      "outputs": []
    },
    {
      "cell_type": "code",
      "source": [
        "plt.plot(range(len(soh)),soh)\n",
        "plt.show()"
      ],
      "metadata": {
        "colab": {
          "base_uri": "https://localhost:8080/",
          "height": 265
        },
        "id": "n6SiftOG9da6",
        "outputId": "27f705bb-be18-4676-e1b2-6bca0e568d39"
      },
      "execution_count": 2079,
      "outputs": [
        {
          "output_type": "display_data",
          "data": {
            "text/plain": [
              "<Figure size 432x288 with 1 Axes>"
            ],
            "image/png": "[encoded data removed]"
          },
          "metadata": {
            "needs_background": "light"
          }
        }
      ]
    },
    {
      "cell_type": "code",
      "source": [
        "capacity=np.asarray(capacity)"
      ],
      "metadata": {
        "id": "WRBvPXg19_cF"
      },
      "execution_count": 2080,
      "outputs": []
    },
    {
      "cell_type": "code",
      "source": [
        "type(capacity)"
      ],
      "metadata": {
        "colab": {
          "base_uri": "https://localhost:8080/"
        },
        "id": "Z0pj0c2r-D4n",
        "outputId": "4edd9383-8abc-477d-b784-40a48a98e88c"
      },
      "execution_count": 2081,
      "outputs": [
        {
          "output_type": "execute_result",
          "data": {
            "text/plain": [
              "numpy.ndarray"
            ]
          },
          "metadata": {},
          "execution_count": 2081
        }
      ]
    },
    {
      "cell_type": "code",
      "source": [
        "timestep = 5\n",
        "\n",
        "X= []\n",
        "Y=[]\n",
        "\n",
        "cap=capacity\n",
        "\n",
        "for i in range(len(capacity)- (timestep)):\n",
        "    X.append(capacity[i:i+timestep])\n",
        "    Y.append(soh[i+timestep])\n",
        "\n",
        "\n",
        "X=np.asanyarray(X)\n",
        "Y=np.asanyarray(Y)\n",
        "\n",
        "\n",
        "k = 100\n",
        "Xtrain = X[:k,:,:]  \n",
        "Ytrain = Y[:k]  "
      ],
      "metadata": {
        "id": "Cznc33Md9z3V"
      },
      "execution_count": 2082,
      "outputs": []
    },
    {
      "cell_type": "code",
      "source": [
        "from keras.models import Sequential\n",
        "from keras.layers import Dense,RepeatVector\n",
        "from keras.layers import Flatten\n",
        "from keras.layers import TimeDistributed\n",
        "from keras.layers.convolutional import Conv1D\n",
        "from keras.layers.convolutional import MaxPooling1D"
      ],
      "metadata": {
        "id": "qTcxmCyr-juv"
      },
      "execution_count": 2083,
      "outputs": []
    },
    {
      "cell_type": "code",
      "execution_count": 2084,
      "metadata": {
        "colab": {
          "base_uri": "https://localhost:8080/"
        },
        "id": "NWdRySu_8-on",
        "outputId": "b566d6c2-1f3d-4370-dad3-be24f689a31a"
      },
      "outputs": [
        {
          "output_type": "stream",
          "name": "stdout",
          "text": [
            "Epoch 1/10\n",
            "4/4 [==============================] - 0s 5ms/step - loss: 0.4106\n",
            "Epoch 2/10\n",
            "4/4 [==============================] - 0s 5ms/step - loss: 0.0839\n",
            "Epoch 3/10\n",
            "4/4 [==============================] - 0s 8ms/step - loss: 0.0356\n",
            "Epoch 4/10\n",
            "4/4 [==============================] - 0s 4ms/step - loss: 0.0105\n",
            "Epoch 5/10\n",
            "4/4 [==============================] - 0s 4ms/step - loss: 0.0031\n",
            "Epoch 6/10\n",
            "4/4 [==============================] - 0s 4ms/step - loss: 0.0038\n",
            "Epoch 7/10\n",
            "4/4 [==============================] - 0s 4ms/step - loss: 0.0037\n",
            "Epoch 8/10\n",
            "4/4 [==============================] - 0s 4ms/step - loss: 0.0019\n",
            "Epoch 9/10\n",
            "4/4 [==============================] - 0s 4ms/step - loss: 6.1888e-04\n",
            "Epoch 10/10\n",
            "4/4 [==============================] - 0s 4ms/step - loss: 5.9541e-04\n"
          ]
        },
        {
          "output_type": "execute_result",
          "data": {
            "text/plain": [
              "<keras.callbacks.History at 0x7f0ac05b3090>"
            ]
          },
          "metadata": {},
          "execution_count": 2084
        }
      ],
      "source": [
        "model = Sequential()\n",
        "model.add(Conv1D(filters=256, kernel_size=2, activation='relu', input_shape=(5, 1)))\n",
        "model.add(Conv1D(filters=256, kernel_size=2, activation='relu'))\n",
        "model.add(Conv1D(filters=128, kernel_size=2, activation='relu'))\n",
        "model.add(Conv1D(filters=128, kernel_size=2, activation='relu'))\n",
        "\n",
        "model.add(Flatten())\n",
        "model.add(Dense(100, activation='relu'))\n",
        "model.add(Dense(1))\n",
        "model.compile(optimizer='adam', loss='mse')\n",
        "# fit model\n",
        "model.fit(Xtrain, Ytrain, epochs=10)"
      ]
    },
    {
      "cell_type": "code",
      "source": [
        "Xtest = X[k:,:,:]  \n",
        "Ytest= Y[k:]  "
      ],
      "metadata": {
        "id": "9Upz_yjr-q3Q"
      },
      "execution_count": 2085,
      "outputs": []
    },
    {
      "cell_type": "code",
      "source": [
        "from sklearn.preprocessing import MinMaxScaler\n",
        "from sklearn.metrics import mean_squared_error\n",
        "from sklearn.metrics import confusion_matrix, accuracy_score, mean_absolute_error,r2_score"
      ],
      "metadata": {
        "id": "YQS_fo2c_Wp7"
      },
      "execution_count": 2086,
      "outputs": []
    },
    {
      "cell_type": "code",
      "source": [
        "preds = model.predict(Xtest)\n",
        "\n",
        "\n",
        "\n",
        "Ytest=np.asanyarray(Ytest)  \n",
        "Ytest=Ytest.reshape(-1,1) \n",
        "\n",
        "\n",
        "\n",
        "Ytrain=np.asanyarray(Ytrain)  \n",
        "Ytrain=Ytrain.reshape(-1,1) \n",
        "\n",
        "\n",
        "mean_squared_error(Ytest,preds)"
      ],
      "metadata": {
        "colab": {
          "base_uri": "https://localhost:8080/"
        },
        "id": "5z4yx_kF-9Bm",
        "outputId": "f714947a-0e6e-4f5b-a1e9-ca1f26458b5e"
      },
      "execution_count": 2087,
      "outputs": [
        {
          "output_type": "stream",
          "name": "stdout",
          "text": [
            "2/2 [==============================] - 0s 3ms/step\n"
          ]
        },
        {
          "output_type": "execute_result",
          "data": {
            "text/plain": [
              "0.00016294609784952898"
            ]
          },
          "metadata": {},
          "execution_count": 2087
        }
      ]
    },
    {
      "cell_type": "code",
      "source": [
        "rmse = np.sqrt(mean_squared_error(Ytest, preds))\n",
        "print('Test RMSE: %.3f' % rmse)\n"
      ],
      "metadata": {
        "colab": {
          "base_uri": "https://localhost:8080/"
        },
        "id": "La8-1JslnFhv",
        "outputId": "3957602a-ccdc-4a25-8575-6d4566ef42de"
      },
      "execution_count": 2088,
      "outputs": [
        {
          "output_type": "stream",
          "name": "stdout",
          "text": [
            "Test RMSE: 0.013\n"
          ]
        }
      ]
    },
    {
      "cell_type": "code",
      "source": [
        "mae = mean_absolute_error(Ytest,preds,multioutput='raw_values')\n",
        "r2 = r2_score(Ytest,preds)\n",
        "print('Mean Absolute Error: ', mae)\n",
        "print('R2_score: ', r2)"
      ],
      "metadata": {
        "colab": {
          "base_uri": "https://localhost:8080/"
        },
        "id": "LWM_5K8qqXST",
        "outputId": "cc769957-53a7-46e6-9d0a-e942d019ad88"
      },
      "execution_count": 2089,
      "outputs": [
        {
          "output_type": "stream",
          "name": "stdout",
          "text": [
            "Mean Absolute Error:  [0.0108792]\n",
            "R2_score:  0.783494378210871\n"
          ]
        }
      ]
    },
    {
      "cell_type": "code",
      "source": [
        "plt.plot(range(len(preds)),preds)\n",
        "plt.plot(range(len(Ytest)),Ytest)"
      ],
      "metadata": {
        "colab": {
          "base_uri": "https://localhost:8080/",
          "height": 282
        },
        "id": "V4Zq6b2F_vJd",
        "outputId": "1e274cf2-ae4e-4975-911c-2371760251d2"
      },
      "execution_count": 2090,
      "outputs": [
        {
          "output_type": "execute_result",
          "data": {
            "text/plain": [
              "[<matplotlib.lines.Line2D at 0x7f0ac0464090>]"
            ]
          },
          "metadata": {},
          "execution_count": 2090
        },
        {
          "output_type": "display_data",
          "data": {
            "text/plain": [
              "<Figure size 432x288 with 1 Axes>"
            ],
            "image/png": "[encoded data removed]"
          },
          "metadata": {
            "needs_background": "light"
          }
        }
      ]
    },
    {
      "cell_type": "code",
      "source": [
        "preds = model.predict(X)"
      ],
      "metadata": {
        "colab": {
          "base_uri": "https://localhost:8080/"
        },
        "id": "qVBAZPnoACQV",
        "outputId": "1809b3f7-7af9-46c8-ff3e-3571f4dbe0ec"
      },
      "execution_count": 2091,
      "outputs": [
        {
          "output_type": "stream",
          "name": "stdout",
          "text": [
            "6/6 [==============================] - 0s 2ms/step\n"
          ]
        }
      ]
    },
    {
      "cell_type": "code",
      "source": [
        "preds"
      ],
      "metadata": {
        "colab": {
          "base_uri": "https://localhost:8080/"
        },
        "id": "Gb9lbCeMaaVH",
        "outputId": "c1447e5d-db4e-465c-bfd3-1e62eaf90ab4"
      },
      "execution_count": 2092,
      "outputs": [
        {
          "output_type": "execute_result",
          "data": {
            "text/plain": [
              "array([[0.94352597],\n",
              "       [0.9423245 ],\n",
              "       [0.94211125],\n",
              "       [0.9417669 ],\n",
              "       [0.9404488 ],\n",
              "       [0.9385214 ],\n",
              "       [0.93748575],\n",
              "       [0.93674123],\n",
              "       [0.9352972 ],\n",
              "       [0.9332651 ],\n",
              "       [0.93175477],\n",
              "       [0.92999285],\n",
              "       [0.92787653],\n",
              "       [0.9269159 ],\n",
              "       [0.9268138 ],\n",
              "       [0.9288358 ],\n",
              "       [0.93476725],\n",
              "       [0.9426174 ],\n",
              "       [0.9445914 ],\n",
              "       [0.9419167 ],\n",
              "       [0.9389213 ],\n",
              "       [0.937237  ],\n",
              "       [0.9355617 ],\n",
              "       [0.93348557],\n",
              "       [0.9320267 ],\n",
              "       [0.9302863 ],\n",
              "       [0.9303919 ],\n",
              "       [0.9351039 ],\n",
              "       [0.9406763 ],\n",
              "       [0.938997  ],\n",
              "       [0.9343898 ],\n",
              "       [0.9302093 ],\n",
              "       [0.9270236 ],\n",
              "       [0.923731  ],\n",
              "       [0.9199635 ],\n",
              "       [0.9165526 ],\n",
              "       [0.91378593],\n",
              "       [0.91188663],\n",
              "       [0.910223  ],\n",
              "       [0.90922105],\n",
              "       [0.9084951 ],\n",
              "       [0.9060315 ],\n",
              "       [0.9020705 ],\n",
              "       [0.9009231 ],\n",
              "       [0.9060115 ],\n",
              "       [0.91405594],\n",
              "       [0.91441053],\n",
              "       [0.9097794 ],\n",
              "       [0.904679  ],\n",
              "       [0.9006564 ],\n",
              "       [0.897461  ],\n",
              "       [0.89401835],\n",
              "       [0.88992715],\n",
              "       [0.88606966],\n",
              "       [0.8831203 ],\n",
              "       [0.88060325],\n",
              "       [0.8778503 ],\n",
              "       [0.8744421 ],\n",
              "       [0.8706285 ],\n",
              "       [0.8672571 ],\n",
              "       [0.8645277 ],\n",
              "       [0.86145097],\n",
              "       [0.85844177],\n",
              "       [0.8551542 ],\n",
              "       [0.85164857],\n",
              "       [0.8487741 ],\n",
              "       [0.8462739 ],\n",
              "       [0.8435777 ],\n",
              "       [0.84033954],\n",
              "       [0.8368695 ],\n",
              "       [0.8337691 ],\n",
              "       [0.8305149 ],\n",
              "       [0.8272429 ],\n",
              "       [0.82567203],\n",
              "       [0.8254107 ],\n",
              "       [0.8240329 ],\n",
              "       [0.8194839 ],\n",
              "       [0.8153303 ],\n",
              "       [0.8128768 ],\n",
              "       [0.8112996 ],\n",
              "       [0.80903417],\n",
              "       [0.8056453 ],\n",
              "       [0.80169815],\n",
              "       [0.7985497 ],\n",
              "       [0.79655993],\n",
              "       [0.79850775],\n",
              "       [0.807004  ],\n",
              "       [0.81687164],\n",
              "       [0.813571  ],\n",
              "       [0.80632824],\n",
              "       [0.80006266],\n",
              "       [0.795829  ],\n",
              "       [0.79227585],\n",
              "       [0.7894236 ],\n",
              "       [0.7866556 ],\n",
              "       [0.7835066 ],\n",
              "       [0.7800549 ],\n",
              "       [0.7771407 ],\n",
              "       [0.7752577 ],\n",
              "       [0.7755893 ],\n",
              "       [0.77773887],\n",
              "       [0.7779567 ],\n",
              "       [0.7739916 ],\n",
              "       [0.76867044],\n",
              "       [0.76451683],\n",
              "       [0.7628379 ],\n",
              "       [0.7614749 ],\n",
              "       [0.7588153 ],\n",
              "       [0.75566155],\n",
              "       [0.75342757],\n",
              "       [0.7518339 ],\n",
              "       [0.7498012 ],\n",
              "       [0.74741656],\n",
              "       [0.7451748 ],\n",
              "       [0.7434629 ],\n",
              "       [0.74342686],\n",
              "       [0.7460713 ],\n",
              "       [0.75022376],\n",
              "       [0.75002885],\n",
              "       [0.74536496],\n",
              "       [0.7407231 ],\n",
              "       [0.73750836],\n",
              "       [0.7350217 ],\n",
              "       [0.7325752 ],\n",
              "       [0.7300686 ],\n",
              "       [0.7275378 ],\n",
              "       [0.7253321 ],\n",
              "       [0.72363114],\n",
              "       [0.72282153],\n",
              "       [0.7235428 ],\n",
              "       [0.7257644 ],\n",
              "       [0.7261967 ],\n",
              "       [0.72313017],\n",
              "       [0.7195865 ],\n",
              "       [0.7169224 ],\n",
              "       [0.7157527 ],\n",
              "       [0.71465105],\n",
              "       [0.7127359 ],\n",
              "       [0.7106091 ],\n",
              "       [0.7088611 ],\n",
              "       [0.7074087 ],\n",
              "       [0.7054244 ],\n",
              "       [0.7030393 ],\n",
              "       [0.700799  ],\n",
              "       [0.6993166 ],\n",
              "       [0.69905895],\n",
              "       [0.70129836],\n",
              "       [0.70627755],\n",
              "       [0.7103579 ],\n",
              "       [0.7080854 ],\n",
              "       [0.7040731 ],\n",
              "       [0.70087224],\n",
              "       [0.69856375],\n",
              "       [0.69678295],\n",
              "       [0.69525826],\n",
              "       [0.6934992 ],\n",
              "       [0.69217706],\n",
              "       [0.69148785],\n",
              "       [0.6907062 ],\n",
              "       [0.6895011 ],\n",
              "       [0.68820316],\n",
              "       [0.6864948 ],\n",
              "       [0.68594915]], dtype=float32)"
            ]
          },
          "metadata": {},
          "execution_count": 2092
        }
      ]
    },
    {
      "cell_type": "code",
      "source": [
        "plt.plot(range(len(preds)),preds)\n",
        "plt.plot(range(len(Y)),Y)"
      ],
      "metadata": {
        "colab": {
          "base_uri": "https://localhost:8080/",
          "height": 282
        },
        "id": "FdkTwLPXBMaQ",
        "outputId": "6030ed48-2cb7-49b0-fd11-5740430248db"
      },
      "execution_count": 2093,
      "outputs": [
        {
          "output_type": "execute_result",
          "data": {
            "text/plain": [
              "[<matplotlib.lines.Line2D at 0x7f0ac03d25d0>]"
            ]
          },
          "metadata": {},
          "execution_count": 2093
        },
        {
          "output_type": "display_data",
          "data": {
            "text/plain": [
              "<Figure size 432x288 with 1 Axes>"
            ],
            "image/png": "[encoded data removed]"
          },
          "metadata": {
            "needs_background": "light"
          }
        }
      ]
    },
    {
      "cell_type": "markdown",
      "source": [
        "Predicting Capacity"
      ],
      "metadata": {
        "id": "h-BjWD-YGiJr"
      }
    },
    {
      "cell_type": "code",
      "source": [
        "timestep = 5\n",
        "\n",
        "X= []\n",
        "Y=[]\n",
        "\n",
        "cap=capacity\n",
        "\n",
        "for i in range(len(capacity)- (timestep)):\n",
        "    X.append(capacity[i:i+timestep])\n",
        "    Y.append(capacity[i+timestep])\n",
        "\n",
        "\n",
        "X=np.asanyarray(X)\n",
        "Y=np.asanyarray(Y)\n",
        "\n",
        "\n",
        "k = 100\n",
        "Xtrain = X[:k,:,:]  \n",
        "Ytrain = Y[:k] "
      ],
      "metadata": {
        "id": "0Cbk-Uu7BS8H"
      },
      "execution_count": 2094,
      "outputs": []
    },
    {
      "cell_type": "code",
      "source": [
        "model = Sequential()\n",
        "model.add(Conv1D(filters=256, kernel_size=2, activation='relu', input_shape=(5, 1)))\n",
        "model.add(Conv1D(filters=256, kernel_size=2, activation='relu'))\n",
        "model.add(Conv1D(filters=128, kernel_size=2, activation='relu'))\n",
        "model.add(Conv1D(filters=128, kernel_size=2, activation='relu'))\n",
        "\n",
        "model.add(Flatten())\n",
        "model.add(Dense(100, activation='relu'))\n",
        "model.add(Dense(1))\n",
        "model.compile(optimizer='adam', loss='mse')\n",
        "# fit model\n",
        "model.fit(Xtrain, Ytrain, epochs=10)"
      ],
      "metadata": {
        "colab": {
          "base_uri": "https://localhost:8080/"
        },
        "id": "zNdZu5HwGtzf",
        "outputId": "052dabcf-a510-464f-8dd2-571530417f34"
      },
      "execution_count": 2095,
      "outputs": [
        {
          "output_type": "stream",
          "name": "stdout",
          "text": [
            "Epoch 1/10\n",
            "4/4 [==============================] - 1s 5ms/step - loss: 2.1137\n",
            "Epoch 2/10\n",
            "4/4 [==============================] - 0s 4ms/step - loss: 0.2278\n",
            "Epoch 3/10\n",
            "4/4 [==============================] - 0s 5ms/step - loss: 0.1248\n",
            "Epoch 4/10\n",
            "4/4 [==============================] - 0s 4ms/step - loss: 0.1722\n",
            "Epoch 5/10\n",
            "4/4 [==============================] - 0s 5ms/step - loss: 0.0323\n",
            "Epoch 6/10\n",
            "4/4 [==============================] - 0s 5ms/step - loss: 0.0607\n",
            "Epoch 7/10\n",
            "4/4 [==============================] - 0s 5ms/step - loss: 0.0082\n",
            "Epoch 8/10\n",
            "4/4 [==============================] - 0s 8ms/step - loss: 0.0227\n",
            "Epoch 9/10\n",
            "4/4 [==============================] - 0s 5ms/step - loss: 0.0058\n",
            "Epoch 10/10\n",
            "4/4 [==============================] - 0s 5ms/step - loss: 0.0053\n"
          ]
        },
        {
          "output_type": "execute_result",
          "data": {
            "text/plain": [
              "<keras.callbacks.History at 0x7f0ac0348790>"
            ]
          },
          "metadata": {},
          "execution_count": 2095
        }
      ]
    },
    {
      "cell_type": "code",
      "source": [
        "Xtest = X[k:,:,:]  \n",
        "Ytest= Y[k:]  "
      ],
      "metadata": {
        "id": "PWh3D0x3HEsp"
      },
      "execution_count": 2096,
      "outputs": []
    },
    {
      "cell_type": "code",
      "source": [
        "preds = model.predict(Xtest)\n",
        "\n",
        "\n",
        "\n",
        "Ytest=np.asanyarray(Ytest)  \n",
        "Ytest=Ytest.reshape(-1,1) \n",
        "\n",
        "\n",
        "\n",
        "Ytrain=np.asanyarray(Ytrain)  \n",
        "Ytrain=Ytrain.reshape(-1,1) \n",
        "\n",
        "\n",
        "mean_squared_error(Ytest,preds)"
      ],
      "metadata": {
        "colab": {
          "base_uri": "https://localhost:8080/"
        },
        "id": "ZU5CyBKFHFE-",
        "outputId": "2b6e5305-4a8d-478d-f76a-60b358bc90ed"
      },
      "execution_count": 2097,
      "outputs": [
        {
          "output_type": "stream",
          "name": "stdout",
          "text": [
            "2/2 [==============================] - 0s 4ms/step\n"
          ]
        },
        {
          "output_type": "execute_result",
          "data": {
            "text/plain": [
              "0.00034962888952520723"
            ]
          },
          "metadata": {},
          "execution_count": 2097
        }
      ]
    },
    {
      "cell_type": "code",
      "source": [
        "rmse = np.sqrt(mean_squared_error(Ytest, preds))\n",
        "print('Test RMSE: %.3f' % rmse)"
      ],
      "metadata": {
        "colab": {
          "base_uri": "https://localhost:8080/"
        },
        "id": "_SaX6xYIq6Jw",
        "outputId": "7b3fe0c5-ff8d-4a37-f2ae-bf491f53c953"
      },
      "execution_count": 2098,
      "outputs": [
        {
          "output_type": "stream",
          "name": "stdout",
          "text": [
            "Test RMSE: 0.019\n"
          ]
        }
      ]
    },
    {
      "cell_type": "code",
      "source": [
        "mae = mean_absolute_error(Ytest,preds,multioutput='raw_values')\n",
        "r2 = r2_score(Ytest,preds)\n",
        "print('Mean Absolute Error: ', mae)\n",
        "print('R2_score: ', r2)"
      ],
      "metadata": {
        "colab": {
          "base_uri": "https://localhost:8080/"
        },
        "id": "P0nW-cm-rBdZ",
        "outputId": "22ea2ef5-395f-4191-bebd-b69907eb030c"
      },
      "execution_count": 2099,
      "outputs": [
        {
          "output_type": "stream",
          "name": "stdout",
          "text": [
            "Mean Absolute Error:  [0.01394671]\n",
            "R2_score:  0.8652128463899689\n"
          ]
        }
      ]
    },
    {
      "cell_type": "code",
      "source": [
        "plt.plot(range(len(preds)),preds)\n",
        "plt.plot(range(len(Ytest)),Ytest)\n",
        "plt.show()"
      ],
      "metadata": {
        "colab": {
          "base_uri": "https://localhost:8080/",
          "height": 265
        },
        "id": "lBZVJUI8HIPq",
        "outputId": "56f50a46-0218-4db0-f68d-9bd4f78f3355"
      },
      "execution_count": 2100,
      "outputs": [
        {
          "output_type": "display_data",
          "data": {
            "text/plain": [
              "<Figure size 432x288 with 1 Axes>"
            ],
            "image/png": "[encoded data removed]"
          },
          "metadata": {
            "needs_background": "light"
          }
        }
      ]
    },
    {
      "cell_type": "code",
      "source": [
        "preds = model.predict(X)"
      ],
      "metadata": {
        "colab": {
          "base_uri": "https://localhost:8080/"
        },
        "id": "toBf2pImHMHi",
        "outputId": "8578cd84-2089-485c-d3be-68477bc0e382"
      },
      "execution_count": 2101,
      "outputs": [
        {
          "output_type": "stream",
          "name": "stdout",
          "text": [
            "6/6 [==============================] - 0s 2ms/step\n"
          ]
        }
      ]
    },
    {
      "cell_type": "code",
      "source": [
        "preds"
      ],
      "metadata": {
        "colab": {
          "base_uri": "https://localhost:8080/"
        },
        "id": "zwkytPdcZ09D",
        "outputId": "a6d662a5-2517-41b3-f814-a94360d12e65"
      },
      "execution_count": 2102,
      "outputs": [
        {
          "output_type": "execute_result",
          "data": {
            "text/plain": [
              "array([[1.7587172],\n",
              "       [1.7557949],\n",
              "       [1.7552538],\n",
              "       [1.7548331],\n",
              "       [1.7527374],\n",
              "       [1.749243 ],\n",
              "       [1.7468436],\n",
              "       [1.745572 ],\n",
              "       [1.7431923],\n",
              "       [1.739513 ],\n",
              "       [1.7364657],\n",
              "       [1.7333864],\n",
              "       [1.7295151],\n",
              "       [1.7271467],\n",
              "       [1.7267948],\n",
              "       [1.7294197],\n",
              "       [1.7391698],\n",
              "       [1.7537032],\n",
              "       [1.7602283],\n",
              "       [1.7561972],\n",
              "       [1.7501428],\n",
              "       [1.7466384],\n",
              "       [1.743694 ],\n",
              "       [1.7399364],\n",
              "       [1.7369462],\n",
              "       [1.7339221],\n",
              "       [1.7328812],\n",
              "       [1.7401938],\n",
              "       [1.7510557],\n",
              "       [1.7511438],\n",
              "       [1.7425588],\n",
              "       [1.7343379],\n",
              "       [1.7282213],\n",
              "       [1.7222483],\n",
              "       [1.7154261],\n",
              "       [1.7088015],\n",
              "       [1.7034569],\n",
              "       [1.6996547],\n",
              "       [1.6965128],\n",
              "       [1.6943989],\n",
              "       [1.6930977],\n",
              "       [1.6893464],\n",
              "       [1.6823192],\n",
              "       [1.6783046],\n",
              "       [1.6857842],\n",
              "       [1.7005619],\n",
              "       [1.7049693],\n",
              "       [1.6971585],\n",
              "       [1.6872568],\n",
              "       [1.6794294],\n",
              "       [1.6733077],\n",
              "       [1.6671411],\n",
              "       [1.6597333],\n",
              "       [1.652338 ],\n",
              "       [1.6465217],\n",
              "       [1.6418033],\n",
              "       [1.6368586],\n",
              "       [1.6307817],\n",
              "       [1.623715 ],\n",
              "       [1.6172439],\n",
              "       [1.611971 ],\n",
              "       [1.606491 ],\n",
              "       [1.6008215],\n",
              "       [1.5948416],\n",
              "       [1.5883665],\n",
              "       [1.5827019],\n",
              "       [1.578011 ],\n",
              "       [1.5731663],\n",
              "       [1.56732  ],\n",
              "       [1.56088  ],\n",
              "       [1.5549661],\n",
              "       [1.5490376],\n",
              "       [1.5428853],\n",
              "       [1.5391154],\n",
              "       [1.5384881],\n",
              "       [1.5366336],\n",
              "       [1.5293226],\n",
              "       [1.5208634],\n",
              "       [1.5157207],\n",
              "       [1.5127053],\n",
              "       [1.508911 ],\n",
              "       [1.5029911],\n",
              "       [1.4956714],\n",
              "       [1.489423 ],\n",
              "       [1.4853576],\n",
              "       [1.4868349],\n",
              "       [1.5009738],\n",
              "       [1.5195978],\n",
              "       [1.5195507],\n",
              "       [1.5055057],\n",
              "       [1.4930835],\n",
              "       [1.4846766],\n",
              "       [1.4779804],\n",
              "       [1.4724239],\n",
              "       [1.4673685],\n",
              "       [1.4616679],\n",
              "       [1.4553151],\n",
              "       [1.4496163],\n",
              "       [1.445667 ],\n",
              "       [1.4454145],\n",
              "       [1.4490551],\n",
              "       [1.4506199],\n",
              "       [1.4447742],\n",
              "       [1.43476  ],\n",
              "       [1.4264054],\n",
              "       [1.4224414],\n",
              "       [1.4201686],\n",
              "       [1.4157704],\n",
              "       [1.4098579],\n",
              "       [1.4052764],\n",
              "       [1.4022094],\n",
              "       [1.3987119],\n",
              "       [1.3943356],\n",
              "       [1.3900338],\n",
              "       [1.3866727],\n",
              "       [1.3857621],\n",
              "       [1.3898017],\n",
              "       [1.397398 ],\n",
              "       [1.3991971],\n",
              "       [1.3917205],\n",
              "       [1.3824208],\n",
              "       [1.3759799],\n",
              "       [1.371267 ],\n",
              "       [1.3667643],\n",
              "       [1.3621198],\n",
              "       [1.357416 ],\n",
              "       [1.3531423],\n",
              "       [1.3498318],\n",
              "       [1.3479165],\n",
              "       [1.3486701],\n",
              "       [1.3524877],\n",
              "       [1.3543127],\n",
              "       [1.3498715],\n",
              "       [1.3428857],\n",
              "       [1.3375676],\n",
              "       [1.334916 ],\n",
              "       [1.3330581],\n",
              "       [1.3298397],\n",
              "       [1.3258045],\n",
              "       [1.3224002],\n",
              "       [1.319651 ],\n",
              "       [1.316246 ],\n",
              "       [1.3118901],\n",
              "       [1.307578 ],\n",
              "       [1.3045151],\n",
              "       [1.3035705],\n",
              "       [1.3065989],\n",
              "       [1.3152748],\n",
              "       [1.3236942],\n",
              "       [1.3220918],\n",
              "       [1.314319 ],\n",
              "       [1.3079063],\n",
              "       [1.3034202],\n",
              "       [1.299978 ],\n",
              "       [1.2970994],\n",
              "       [1.2939416],\n",
              "       [1.2912265],\n",
              "       [1.2897707],\n",
              "       [1.2884414],\n",
              "       [1.2863711],\n",
              "       [1.2839394],\n",
              "       [1.2809322],\n",
              "       [1.2791872]], dtype=float32)"
            ]
          },
          "metadata": {},
          "execution_count": 2102
        }
      ]
    },
    {
      "cell_type": "code",
      "source": [
        "plt.plot(range(len(preds)),preds)\n",
        "plt.plot(range(len(Y)),Y)\n",
        "plt.show()"
      ],
      "metadata": {
        "colab": {
          "base_uri": "https://localhost:8080/",
          "height": 265
        },
        "id": "JLrSZvZjHQJ-",
        "outputId": "e197340b-c492-4285-c0f5-240fe1f02cb2"
      },
      "execution_count": 2103,
      "outputs": [
        {
          "output_type": "display_data",
          "data": {
            "text/plain": [
              "<Figure size 432x288 with 1 Axes>"
            ],
            "image/png": "[encoded data removed]"
          },
          "metadata": {
            "needs_background": "light"
          }
        }
      ]
    },
    {
      "cell_type": "code",
      "source": [],
      "metadata": {
        "id": "HCPEFm9JHU9B"
      },
      "execution_count": 2103,
      "outputs": []
    }
  ]
}