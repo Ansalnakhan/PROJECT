{
  "cells": [
    {
      "cell_type": "markdown",
      "metadata": {
        "id": "view-in-github",
        "colab_type": "text"
      },
      "source": [
        "<a href=\"https://colab.research.google.com/github/Ansalnakhan/PROJECT/blob/main/autoencoder_bilstm_fcn_for_soh_and_lstm_fcn_for_rul.ipynb\" target=\"_parent\"><img src=\"https://colab.research.google.com/assets/colab-badge.svg\" alt=\"Open In Colab\"/></a>"
      ]
    },
    {
      "cell_type": "code",
      "execution_count": null,
      "id": "ed21128b",
      "metadata": {
        "id": "ed21128b"
      },
      "outputs": [],
      "source": []
    },
    {
      "cell_type": "code",
      "source": [
        "#mounting the drive \n",
        "from google.colab import drive\n",
        "drive.mount('/content/drive')"
      ],
      "metadata": {
        "colab": {
          "base_uri": "https://localhost:8080/"
        },
        "id": "GcZhyIa4EIW4",
        "outputId": "a145d2c4-311b-4784-82d2-af65390d2c5b"
      },
      "id": "GcZhyIa4EIW4",
      "execution_count": 2,
      "outputs": [
        {
          "output_type": "stream",
          "name": "stdout",
          "text": [
            "Mounted at /content/drive\n"
          ]
        }
      ]
    },
    {
      "cell_type": "code",
      "source": [
        "%config Completer.use_jedi = False"
      ],
      "metadata": {
        "id": "k6exES-UEOiR"
      },
      "id": "k6exES-UEOiR",
      "execution_count": 2,
      "outputs": []
    },
    {
      "cell_type": "code",
      "execution_count": 3,
      "id": "cb4798b9",
      "metadata": {
        "colab": {
          "base_uri": "https://localhost:8080/"
        },
        "id": "cb4798b9",
        "outputId": "ed86d2fa-3e52-4720-cbd9-f3f809b32f66"
      },
      "outputs": [
        {
          "output_type": "stream",
          "name": "stdout",
          "text": [
            "Archive:  /content/drive/MyDrive/naza.zip\n",
            "  inflating: /content/dataset/B0007.mat  \n",
            "  inflating: /content/dataset/B0018.mat  \n",
            "  inflating: /content/dataset/README.txt  \n",
            "  inflating: /content/dataset/B0005.mat  \n",
            "  inflating: /content/dataset/B0006.mat  \n"
          ]
        }
      ],
      "source": [
        "!mkdir dataset\n",
        "!cd dataset\n",
        "!unzip /content/drive/MyDrive/naza.zip -d /content/dataset"
      ]
    },
    {
      "cell_type": "code",
      "execution_count": 4,
      "id": "1886b005",
      "metadata": {
        "id": "1886b005"
      },
      "outputs": [],
      "source": [
        "#importing the necessary packages\n",
        "import datetime\n",
        "import numpy as np\n",
        "import pandas as pd\n",
        "from scipy.io import loadmat\n",
        "from sklearn.preprocessing import MinMaxScaler\n",
        "from sklearn.metrics import mean_squared_error\n",
        "from sklearn import metrics\n",
        "import matplotlib.pyplot as plt\n",
        "import seaborn as sns\n",
        "from sklearn.metrics import confusion_matrix, accuracy_score, mean_absolute_error,r2_score\n",
        "import tensorflow as tf\n",
        "from tensorflow.keras.models import Sequential\n",
        "from tensorflow.keras.layers import Dense,Conv1D,MaxPooling1D\n",
        "from tensorflow.keras.layers import Dropout,Bidirectional\n",
        "from tensorflow.keras.layers import Flatten\n",
        "from tensorflow.keras.layers import LSTM\n",
        "from tensorflow.keras.optimizers import Adam\n"
      ]
    },
    {
      "cell_type": "code",
      "execution_count": 5,
      "id": "378fc1a0",
      "metadata": {
        "id": "378fc1a0"
      },
      "outputs": [],
      "source": [
        "#DATASET"
      ]
    },
    {
      "cell_type": "code",
      "execution_count": 6,
      "id": "8e13c15b",
      "metadata": {
        "colab": {
          "base_uri": "https://localhost:8080/",
          "height": 574
        },
        "id": "8e13c15b",
        "outputId": "36df0cc5-8a92-41b7-fc55-4f1390ee2da0"
      },
      "outputs": [
        {
          "output_type": "stream",
          "name": "stdout",
          "text": [
            "Total data in dataset:  616\n",
            "[1, 24, datetime.datetime(2008, 4, 2, 15, 25, 41), 1.8564874208181574, 4.191491807505295, -0.004901589207462691, 24.330033885570543, -0.0006, 0.0, 0.0]\n",
            "   cycle  ambient_temperature            datetime  capacity  voltage_measured  \\\n",
            "0      1                   24 2008-04-02 15:25:41  1.856487          4.191492   \n",
            "1      1                   24 2008-04-02 15:25:41  1.856487          4.190749   \n",
            "2      1                   24 2008-04-02 15:25:41  1.856487          3.974871   \n",
            "3      1                   24 2008-04-02 15:25:41  1.856487          3.951717   \n",
            "4      1                   24 2008-04-02 15:25:41  1.856487          3.934352   \n",
            "\n",
            "   current_measured  temperature_measured  current_load  voltage_load    time  \n",
            "0         -0.004902             24.330034       -0.0006         0.000   0.000  \n",
            "1         -0.001478             24.325993       -0.0006         4.206  16.781  \n",
            "2         -2.012528             24.389085       -1.9982         3.062  35.703  \n",
            "3         -2.013979             24.544752       -1.9982         3.030  53.781  \n",
            "4         -2.011144             24.731385       -1.9982         3.011  71.922  \n"
          ]
        },
        {
          "output_type": "execute_result",
          "data": {
            "text/plain": [
              "              cycle  ambient_temperature      capacity  voltage_measured  \\\n",
              "count  50285.000000              50285.0  50285.000000      50285.000000   \n",
              "mean      88.125942                 24.0      1.560345          3.515268   \n",
              "std       45.699687                  0.0      0.182380          0.231778   \n",
              "min        1.000000                 24.0      1.287453          2.455679   \n",
              "25%       50.000000                 24.0      1.386229          3.399384   \n",
              "50%       88.000000                 24.0      1.538237          3.511664   \n",
              "75%      127.000000                 24.0      1.746871          3.660903   \n",
              "max      168.000000                 24.0      1.856487          4.222920   \n",
              "\n",
              "       current_measured  temperature_measured  current_load  voltage_load  \\\n",
              "count      50285.000000          50285.000000  50285.000000  50285.000000   \n",
              "mean          -1.806032             32.816991      1.362700      2.308406   \n",
              "std            0.610502              3.987515      1.313698      0.800300   \n",
              "min           -2.029098             23.214802     -1.998400      0.000000   \n",
              "25%           -2.013415             30.019392      1.998000      2.388000   \n",
              "50%           -2.012312             32.828944      1.998200      2.533000   \n",
              "75%           -2.011052             35.920887      1.998200      2.690000   \n",
              "max            0.007496             41.450232      1.998400      4.238000   \n",
              "\n",
              "               time  \n",
              "count  50285.000000  \n",
              "mean    1546.208924  \n",
              "std      906.640295  \n",
              "min        0.000000  \n",
              "25%      768.563000  \n",
              "50%     1537.031000  \n",
              "75%     2305.984000  \n",
              "max     3690.234000  "
            ],
            "text/html": [
              "\n",
              "  <div id=\"df-75482071-c6ea-4966-b4c6-d240b71cef4c\">\n",
              "    <div class=\"colab-df-container\">\n",
              "      <div>\n",
              "<style scoped>\n",
              "    .dataframe tbody tr th:only-of-type {\n",
              "        vertical-align: middle;\n",
              "    }\n",
              "\n",
              "    .dataframe tbody tr th {\n",
              "        vertical-align: top;\n",
              "    }\n",
              "\n",
              "    .dataframe thead th {\n",
              "        text-align: right;\n",
              "    }\n",
              "</style>\n",
              "<table border=\"1\" class=\"dataframe\">\n",
              "  <thead>\n",
              "    <tr style=\"text-align: right;\">\n",
              "      <th></th>\n",
              "      <th>cycle</th>\n",
              "      <th>ambient_temperature</th>\n",
              "      <th>capacity</th>\n",
              "      <th>voltage_measured</th>\n",
              "      <th>current_measured</th>\n",
              "      <th>temperature_measured</th>\n",
              "      <th>current_load</th>\n",
              "      <th>voltage_load</th>\n",
              "      <th>time</th>\n",
              "    </tr>\n",
              "  </thead>\n",
              "  <tbody>\n",
              "    <tr>\n",
              "      <th>count</th>\n",
              "      <td>50285.000000</td>\n",
              "      <td>50285.0</td>\n",
              "      <td>50285.000000</td>\n",
              "      <td>50285.000000</td>\n",
              "      <td>50285.000000</td>\n",
              "      <td>50285.000000</td>\n",
              "      <td>50285.000000</td>\n",
              "      <td>50285.000000</td>\n",
              "      <td>50285.000000</td>\n",
              "    </tr>\n",
              "    <tr>\n",
              "      <th>mean</th>\n",
              "      <td>88.125942</td>\n",
              "      <td>24.0</td>\n",
              "      <td>1.560345</td>\n",
              "      <td>3.515268</td>\n",
              "      <td>-1.806032</td>\n",
              "      <td>32.816991</td>\n",
              "      <td>1.362700</td>\n",
              "      <td>2.308406</td>\n",
              "      <td>1546.208924</td>\n",
              "    </tr>\n",
              "    <tr>\n",
              "      <th>std</th>\n",
              "      <td>45.699687</td>\n",
              "      <td>0.0</td>\n",
              "      <td>0.182380</td>\n",
              "      <td>0.231778</td>\n",
              "      <td>0.610502</td>\n",
              "      <td>3.987515</td>\n",
              "      <td>1.313698</td>\n",
              "      <td>0.800300</td>\n",
              "      <td>906.640295</td>\n",
              "    </tr>\n",
              "    <tr>\n",
              "      <th>min</th>\n",
              "      <td>1.000000</td>\n",
              "      <td>24.0</td>\n",
              "      <td>1.287453</td>\n",
              "      <td>2.455679</td>\n",
              "      <td>-2.029098</td>\n",
              "      <td>23.214802</td>\n",
              "      <td>-1.998400</td>\n",
              "      <td>0.000000</td>\n",
              "      <td>0.000000</td>\n",
              "    </tr>\n",
              "    <tr>\n",
              "      <th>25%</th>\n",
              "      <td>50.000000</td>\n",
              "      <td>24.0</td>\n",
              "      <td>1.386229</td>\n",
              "      <td>3.399384</td>\n",
              "      <td>-2.013415</td>\n",
              "      <td>30.019392</td>\n",
              "      <td>1.998000</td>\n",
              "      <td>2.388000</td>\n",
              "      <td>768.563000</td>\n",
              "    </tr>\n",
              "    <tr>\n",
              "      <th>50%</th>\n",
              "      <td>88.000000</td>\n",
              "      <td>24.0</td>\n",
              "      <td>1.538237</td>\n",
              "      <td>3.511664</td>\n",
              "      <td>-2.012312</td>\n",
              "      <td>32.828944</td>\n",
              "      <td>1.998200</td>\n",
              "      <td>2.533000</td>\n",
              "      <td>1537.031000</td>\n",
              "    </tr>\n",
              "    <tr>\n",
              "      <th>75%</th>\n",
              "      <td>127.000000</td>\n",
              "      <td>24.0</td>\n",
              "      <td>1.746871</td>\n",
              "      <td>3.660903</td>\n",
              "      <td>-2.011052</td>\n",
              "      <td>35.920887</td>\n",
              "      <td>1.998200</td>\n",
              "      <td>2.690000</td>\n",
              "      <td>2305.984000</td>\n",
              "    </tr>\n",
              "    <tr>\n",
              "      <th>max</th>\n",
              "      <td>168.000000</td>\n",
              "      <td>24.0</td>\n",
              "      <td>1.856487</td>\n",
              "      <td>4.222920</td>\n",
              "      <td>0.007496</td>\n",
              "      <td>41.450232</td>\n",
              "      <td>1.998400</td>\n",
              "      <td>4.238000</td>\n",
              "      <td>3690.234000</td>\n",
              "    </tr>\n",
              "  </tbody>\n",
              "</table>\n",
              "</div>\n",
              "      <button class=\"colab-df-convert\" onclick=\"convertToInteractive('df-75482071-c6ea-4966-b4c6-d240b71cef4c')\"\n",
              "              title=\"Convert this dataframe to an interactive table.\"\n",
              "              style=\"display:none;\">\n",
              "        \n",
              "  <svg xmlns=\"http://www.w3.org/2000/svg\" height=\"24px\"viewBox=\"0 0 24 24\"\n",
              "       width=\"24px\">\n",
              "    <path d=\"M0 0h24v24H0V0z\" fill=\"none\"/>\n",
              "    <path d=\"M18.56 5.44l.94 2.06.94-2.06 2.06-.94-2.06-.94-.94-2.06-.94 2.06-2.06.94zm-11 1L8.5 8.5l.94-2.06 2.06-.94-2.06-.94L8.5 2.5l-.94 2.06-2.06.94zm10 10l.94 2.06.94-2.06 2.06-.94-2.06-.94-.94-2.06-.94 2.06-2.06.94z\"/><path d=\"M17.41 7.96l-1.37-1.37c-.4-.4-.92-.59-1.43-.59-.52 0-1.04.2-1.43.59L10.3 9.45l-7.72 7.72c-.78.78-.78 2.05 0 2.83L4 21.41c.39.39.9.59 1.41.59.51 0 1.02-.2 1.41-.59l7.78-7.78 2.81-2.81c.8-.78.8-2.07 0-2.86zM5.41 20L4 18.59l7.72-7.72 1.47 1.35L5.41 20z\"/>\n",
              "  </svg>\n",
              "      </button>\n",
              "      \n",
              "  <style>\n",
              "    .colab-df-container {\n",
              "      display:flex;\n",
              "      flex-wrap:wrap;\n",
              "      gap: 12px;\n",
              "    }\n",
              "\n",
              "    .colab-df-convert {\n",
              "      background-color: #E8F0FE;\n",
              "      border: none;\n",
              "      border-radius: 50%;\n",
              "      cursor: pointer;\n",
              "      display: none;\n",
              "      fill: #1967D2;\n",
              "      height: 32px;\n",
              "      padding: 0 0 0 0;\n",
              "      width: 32px;\n",
              "    }\n",
              "\n",
              "    .colab-df-convert:hover {\n",
              "      background-color: #E2EBFA;\n",
              "      box-shadow: 0px 1px 2px rgba(60, 64, 67, 0.3), 0px 1px 3px 1px rgba(60, 64, 67, 0.15);\n",
              "      fill: #174EA6;\n",
              "    }\n",
              "\n",
              "    [theme=dark] .colab-df-convert {\n",
              "      background-color: #3B4455;\n",
              "      fill: #D2E3FC;\n",
              "    }\n",
              "\n",
              "    [theme=dark] .colab-df-convert:hover {\n",
              "      background-color: #434B5C;\n",
              "      box-shadow: 0px 1px 3px 1px rgba(0, 0, 0, 0.15);\n",
              "      filter: drop-shadow(0px 1px 2px rgba(0, 0, 0, 0.3));\n",
              "      fill: #FFFFFF;\n",
              "    }\n",
              "  </style>\n",
              "\n",
              "      <script>\n",
              "        const buttonEl =\n",
              "          document.querySelector('#df-75482071-c6ea-4966-b4c6-d240b71cef4c button.colab-df-convert');\n",
              "        buttonEl.style.display =\n",
              "          google.colab.kernel.accessAllowed ? 'block' : 'none';\n",
              "\n",
              "        async function convertToInteractive(key) {\n",
              "          const element = document.querySelector('#df-75482071-c6ea-4966-b4c6-d240b71cef4c');\n",
              "          const dataTable =\n",
              "            await google.colab.kernel.invokeFunction('convertToInteractive',\n",
              "                                                     [key], {});\n",
              "          if (!dataTable) return;\n",
              "\n",
              "          const docLinkHtml = 'Like what you see? Visit the ' +\n",
              "            '<a target=\"_blank\" href=https://colab.research.google.com/notebooks/data_table.ipynb>data table notebook</a>'\n",
              "            + ' to learn more about interactive tables.';\n",
              "          element.innerHTML = '';\n",
              "          dataTable['output_type'] = 'display_data';\n",
              "          await google.colab.output.renderOutput(dataTable, element);\n",
              "          const docLink = document.createElement('div');\n",
              "          docLink.innerHTML = docLinkHtml;\n",
              "          element.appendChild(docLink);\n",
              "        }\n",
              "      </script>\n",
              "    </div>\n",
              "  </div>\n",
              "  "
            ]
          },
          "metadata": {},
          "execution_count": 6
        }
      ],
      "source": [
        "def load_data(battery):\n",
        "  mat = loadmat('dataset/' + battery + '.mat')\n",
        "  print('Total data in dataset: ', len(mat[battery][0, 0]['cycle'][0]))\n",
        "  counter = 0\n",
        "  dataset = []\n",
        "  capacity_data = []\n",
        "  \n",
        "  for i in range(len(mat[battery][0, 0]['cycle'][0])):\n",
        "    row = mat[battery][0, 0]['cycle'][0, i]\n",
        "    if row['type'][0] == 'discharge':\n",
        "      ambient_temperature = row['ambient_temperature'][0][0]\n",
        "      date_time = datetime.datetime(int(row['time'][0][0]),\n",
        "                               int(row['time'][0][1]),\n",
        "                               int(row['time'][0][2]),\n",
        "                               int(row['time'][0][3]),\n",
        "                               int(row['time'][0][4])) + datetime.timedelta(seconds=int(row['time'][0][5]))\n",
        "      data = row['data']\n",
        "      capacity = data[0][0]['Capacity'][0][0]\n",
        "      for j in range(len(data[0][0]['Voltage_measured'][0])):\n",
        "        voltage_measured = data[0][0]['Voltage_measured'][0][j]\n",
        "        current_measured = data[0][0]['Current_measured'][0][j]\n",
        "        temperature_measured = data[0][0]['Temperature_measured'][0][j]\n",
        "        current_load = data[0][0]['Current_load'][0][j]\n",
        "        voltage_load = data[0][0]['Voltage_load'][0][j]\n",
        "        time = data[0][0]['Time'][0][j]\n",
        "        dataset.append([counter + 1, ambient_temperature, date_time, capacity,\n",
        "                        voltage_measured, current_measured,\n",
        "                        temperature_measured, current_load,\n",
        "                        voltage_load, time])\n",
        "      capacity_data.append([counter + 1, ambient_temperature, date_time, capacity])\n",
        "      counter = counter + 1\n",
        "  print(dataset[0])\n",
        "  return [pd.DataFrame(data=dataset,\n",
        "                       columns=['cycle', 'ambient_temperature', 'datetime',\n",
        "                                'capacity', 'voltage_measured',\n",
        "                                'current_measured', 'temperature_measured',\n",
        "                                'current_load', 'voltage_load', 'time']),\n",
        "          pd.DataFrame(data=capacity_data,\n",
        "                       columns=['cycle', 'ambient_temperature', 'datetime',\n",
        "                                'capacity'])]\n",
        "#TRAINING DATA(TAKEN B0005)\n",
        "dataset, capacity = load_data('B0005')\n",
        "pd.set_option('display.max_columns', 10)\n",
        "print(dataset.head())\n",
        "dataset.describe()"
      ]
    },
    {
      "cell_type": "code",
      "execution_count": 7,
      "id": "d987afae",
      "metadata": {
        "id": "d987afae"
      },
      "outputs": [],
      "source": [
        "#The following graph shows the aging process of the battery as the charge cycles progress. The horizontal line represents the threshold related to what can be considered the end of the battery's life cycle."
      ]
    },
    {
      "cell_type": "code",
      "execution_count": 8,
      "id": "7dbb9316",
      "metadata": {
        "id": "7dbb9316",
        "outputId": "b9a3cc7a-785e-4c12-9ebe-7e5a5b1c949e",
        "colab": {
          "base_uri": "https://localhost:8080/",
          "height": 531
        }
      },
      "outputs": [
        {
          "output_type": "execute_result",
          "data": {
            "text/plain": [
              "Text(0.5, 1.0, 'Discharge B0005')"
            ]
          },
          "metadata": {},
          "execution_count": 8
        },
        {
          "output_type": "display_data",
          "data": {
            "text/plain": [
              "<Figure size 864x576 with 1 Axes>"
            ],
            "image/png": "[encoded data removed]"
          },
          "metadata": {}
        }
      ],
      "source": [
        "plot_df = capacity.loc[(capacity['cycle']>=1),['cycle','capacity']]\n",
        "sns.set_style(\"darkgrid\")\n",
        "plt.figure(figsize=(12, 8))\n",
        "plt.plot(plot_df['cycle'], plot_df['capacity'])\n",
        "#Draw threshold\n",
        "plt.plot([0.,len(capacity)], [1.4, 1.4])\n",
        "plt.ylabel('Capacity')\n",
        "# make x-axis ticks legible\n",
        "adf = plt.gca().get_xaxis().get_major_formatter()\n",
        "plt.xlabel('cycle')\n",
        "plt.title('Discharge B0005')"
      ]
    },
    {
      "cell_type": "code",
      "execution_count": 9,
      "id": "d375474a",
      "metadata": {
        "id": "d375474a",
        "outputId": "182611d2-df70-4d88-c7a8-a5c600839d1f",
        "colab": {
          "base_uri": "https://localhost:8080/"
        }
      },
      "outputs": [
        {
          "output_type": "stream",
          "name": "stdout",
          "text": [
            "   cycle            datetime  capacity       SoH\n",
            "0      1 2008-04-02 15:25:41  1.856487  1.000000\n",
            "1      2 2008-04-02 19:43:48  1.846327  0.994527\n",
            "2      3 2008-04-03 00:01:06  1.835349  0.988614\n",
            "3      4 2008-04-03 04:16:37  1.835263  0.988567\n",
            "4      5 2008-04-03 08:33:25  1.834646  0.988235\n"
          ]
        }
      ],
      "source": [
        "#this is training datayile real SOH BY EQUATION\n",
        "attrib=['cycle', 'datetime', 'capacity']\n",
        "dis_ele = capacity[attrib]\n",
        "C = dis_ele['capacity'][0]\n",
        "for i in range(len(dis_ele)):\n",
        "    dis_ele['SoH']=(dis_ele['capacity'])/C\n",
        "print(dis_ele.head(5))"
      ]
    },
    {
      "cell_type": "code",
      "execution_count": 10,
      "id": "df0bf346",
      "metadata": {
        "id": "df0bf346"
      },
      "outputs": [],
      "source": [
        "#Training phase for calculating SoH"
      ]
    },
    {
      "cell_type": "code",
      "execution_count": 11,
      "id": "49b4e5c2",
      "metadata": {
        "id": "49b4e5c2",
        "outputId": "4a99df5f-e9c0-47b6-cd73-b6e22cae5460",
        "colab": {
          "base_uri": "https://localhost:8080/"
        }
      },
      "outputs": [
        {
          "output_type": "stream",
          "name": "stdout",
          "text": [
            "(50285, 7)\n",
            "(50285, 1)\n"
          ]
        }
      ],
      "source": [
        "C = dataset['capacity'][0]\n",
        "soh = []\n",
        "for i in range(len(dataset)):\n",
        "  soh.append([dataset['capacity'][i] / C])\n",
        "soh = pd.DataFrame(data=soh, columns=['SoH'])\n",
        "\n",
        "attribs=['capacity', 'voltage_measured', 'current_measured',\n",
        "         'temperature_measured', 'current_load', 'voltage_load', 'time']\n",
        "train_dataset = dataset[attribs]\n",
        "sc = MinMaxScaler(feature_range=(0,1))\n",
        "train_dataset = sc.fit_transform(train_dataset)\n",
        "print(train_dataset.shape)\n",
        "print(soh.shape)"
      ]
    },
    {
      "cell_type": "code",
      "execution_count": 12,
      "id": "4c685d6d",
      "metadata": {
        "id": "4c685d6d"
      },
      "outputs": [],
      "source": [
        "train_dataset = np.reshape(train_dataset,(train_dataset.shape[0],train_dataset.shape[1],1))"
      ]
    },
    {
      "cell_type": "code",
      "execution_count": 13,
      "id": "d1a8a1ab",
      "metadata": {
        "id": "d1a8a1ab"
      },
      "outputs": [],
      "source": [
        "#MODEL"
      ]
    },
    {
      "cell_type": "code",
      "execution_count": 14,
      "id": "f5e31ee7",
      "metadata": {
        "id": "f5e31ee7"
      },
      "outputs": [],
      "source": [
        "from keras.models import Sequential"
      ]
    },
    {
      "cell_type": "code",
      "execution_count": 15,
      "id": "ed023472",
      "metadata": {
        "id": "ed023472"
      },
      "outputs": [],
      "source": [
        "from tensorflow.keras.models import Model\n",
        "from tensorflow.keras import layers, regularizers"
      ]
    },
    {
      "cell_type": "code",
      "execution_count": 16,
      "id": "d399e003",
      "metadata": {
        "id": "d399e003"
      },
      "outputs": [],
      "source": [
        "from keras.layers import Dense, LSTM, Flatten,Conv1D,MaxPooling1D"
      ]
    },
    {
      "cell_type": "code",
      "execution_count": 17,
      "id": "4a1eeda9",
      "metadata": {
        "id": "4a1eeda9"
      },
      "outputs": [],
      "source": [
        "from sklearn.metrics import mean_squared_error,confusion_matrix, accuracy_score, mean_absolute_error,r2_score\n",
        "from tensorflow.keras.layers import Dropout"
      ]
    },
    {
      "cell_type": "code",
      "execution_count": 18,
      "id": "051956ee",
      "metadata": {
        "id": "051956ee"
      },
      "outputs": [],
      "source": [
        "from tensorflow.keras.layers import Input, Dense, LSTM, Bidirectional, RepeatVector, TimeDistributed\n",
        "from tensorflow.keras.models import Model"
      ]
    },
    {
      "cell_type": "code",
      "execution_count": 19,
      "id": "35845cd7",
      "metadata": {
        "id": "35845cd7"
      },
      "outputs": [],
      "source": [
        "input_shape = (train_dataset.shape[1],1)\n",
        "inputs = Input(shape=input_shape)\n",
        "encoded = Bidirectional(LSTM(64, return_sequences=True))(inputs)\n",
        "encoded = Conv1D(filters=64, kernel_size=3, activation='relu', padding='same')(encoded)\n",
        "encoded = MaxPooling1D(pool_size=2)(encoded)\n",
        "decoded = Conv1D(filters=64, kernel_size=3, activation='relu', padding='same')(encoded)\n",
        "decoded = MaxPooling1D(pool_size=2)(decoded)\n",
        "decoded = Bidirectional(LSTM(64, return_sequences=True))(decoded)\n",
        "decoded = Dense(7, activation='linear')(decoded)\n",
        "output = Flatten()(decoded)\n",
        "output = Dense(1, activation='linear')(output)\n",
        "autoencoder = Model(inputs, output)\n",
        "autoencoder.compile(optimizer='adam', loss='mse')"
      ]
    },
    {
      "cell_type": "code",
      "execution_count": 20,
      "id": "fd7dda7a",
      "metadata": {
        "colab": {
          "base_uri": "https://localhost:8080/"
        },
        "id": "fd7dda7a",
        "outputId": "ee5d8426-8202-44d0-cc30-d15a0e2ba206"
      },
      "outputs": [
        {
          "output_type": "stream",
          "name": "stdout",
          "text": [
            "Model: \"model\"\n",
            "_________________________________________________________________\n",
            " Layer (type)                Output Shape              Param #   \n",
            "=================================================================\n",
            " input_1 (InputLayer)        [(None, 7, 1)]            0         \n",
            "                                                                 \n",
            " bidirectional (Bidirectiona  (None, 7, 128)           33792     \n",
            " l)                                                              \n",
            "                                                                 \n",
            " conv1d (Conv1D)             (None, 7, 64)             24640     \n",
            "                                                                 \n",
            " max_pooling1d (MaxPooling1D  (None, 3, 64)            0         \n",
            " )                                                               \n",
            "                                                                 \n",
            " conv1d_1 (Conv1D)           (None, 3, 64)             12352     \n",
            "                                                                 \n",
            " max_pooling1d_1 (MaxPooling  (None, 1, 64)            0         \n",
            " 1D)                                                             \n",
            "                                                                 \n",
            " bidirectional_1 (Bidirectio  (None, 1, 128)           66048     \n",
            " nal)                                                            \n",
            "                                                                 \n",
            " dense (Dense)               (None, 1, 7)              903       \n",
            "                                                                 \n",
            " flatten (Flatten)           (None, 7)                 0         \n",
            "                                                                 \n",
            " dense_1 (Dense)             (None, 1)                 8         \n",
            "                                                                 \n",
            "=================================================================\n",
            "Total params: 137,743\n",
            "Trainable params: 137,743\n",
            "Non-trainable params: 0\n",
            "_________________________________________________________________\n"
          ]
        }
      ],
      "source": [
        "autoencoder.summary()"
      ]
    },
    {
      "cell_type": "code",
      "execution_count": 21,
      "id": "6d3bb54a",
      "metadata": {
        "colab": {
          "base_uri": "https://localhost:8080/"
        },
        "id": "6d3bb54a",
        "outputId": "690939a0-3858-4bac-c398-48730a80c2aa"
      },
      "outputs": [
        {
          "output_type": "stream",
          "name": "stdout",
          "text": [
            "Epoch 1/10\n",
            "1572/1572 [==============================] - 33s 15ms/step - loss: 0.0035\n",
            "Epoch 2/10\n",
            "1572/1572 [==============================] - 22s 14ms/step - loss: 1.2319e-05\n",
            "Epoch 3/10\n",
            "1572/1572 [==============================] - 24s 15ms/step - loss: 1.4441e-05\n",
            "Epoch 4/10\n",
            "1572/1572 [==============================] - 24s 15ms/step - loss: 1.5830e-05\n",
            "Epoch 5/10\n",
            "1572/1572 [==============================] - 23s 14ms/step - loss: 1.2239e-05\n",
            "Epoch 6/10\n",
            "1572/1572 [==============================] - 24s 15ms/step - loss: 9.2911e-06\n",
            "Epoch 7/10\n",
            "1572/1572 [==============================] - 24s 15ms/step - loss: 9.0361e-06\n",
            "Epoch 8/10\n",
            "1572/1572 [==============================] - 24s 15ms/step - loss: 6.5748e-06\n",
            "Epoch 9/10\n",
            "1572/1572 [==============================] - 22s 14ms/step - loss: 6.4478e-06\n",
            "Epoch 10/10\n",
            "1572/1572 [==============================] - 24s 15ms/step - loss: 5.5065e-06\n"
          ]
        },
        {
          "output_type": "execute_result",
          "data": {
            "text/plain": [
              "<keras.callbacks.History at 0x7f93cdc58610>"
            ]
          },
          "metadata": {},
          "execution_count": 21
        }
      ],
      "source": [
        "autoencoder.fit(x=train_dataset, y=soh, batch_size=32, epochs=10)"
      ]
    },
    {
      "cell_type": "code",
      "execution_count": 22,
      "id": "35ef1a48",
      "metadata": {
        "colab": {
          "base_uri": "https://localhost:8080/"
        },
        "id": "35ef1a48",
        "outputId": "85c3bb69-069d-4ead-fe56-43817f0659b3"
      },
      "outputs": [
        {
          "output_type": "stream",
          "name": "stdout",
          "text": [
            "Total data in dataset:  616\n",
            "[1, 24, datetime.datetime(2008, 4, 2, 15, 25, 41), 1.89105229539079, 4.199359521791473, -0.0018658918833680202, 23.93704394613529, -0.0004, 0.0, 0.0]\n",
            "   cycle  ambient_temperature            datetime  capacity  voltage_measured  \\\n",
            "0      1                   24 2008-04-02 15:25:41  1.891052          4.199360   \n",
            "1      1                   24 2008-04-02 15:25:41  1.891052          4.199497   \n",
            "2      1                   24 2008-04-02 15:25:41  1.891052          3.985606   \n",
            "3      1                   24 2008-04-02 15:25:41  1.891052          3.963247   \n",
            "4      1                   24 2008-04-02 15:25:41  1.891052          3.946647   \n",
            "\n",
            "   current_measured  temperature_measured  current_load  voltage_load    time  \n",
            "0         -0.001866             23.937044       -0.0004         0.000   0.000  \n",
            "1         -0.002139             23.924074       -0.0004         4.215  16.781  \n",
            "2         -1.988778             24.004257       -2.0000         3.003  35.703  \n",
            "3         -1.992558             24.162868       -2.0000         2.987  53.781  \n",
            "4         -1.988491             24.346368       -2.0000         2.972  71.922  \n",
            "   cycle            datetime  capacity       SoH\n",
            "0      1 2008-04-02 15:25:41  1.891052  1.000000\n",
            "1      2 2008-04-02 19:43:48  1.880637  0.994492\n",
            "2      3 2008-04-03 00:01:06  1.880663  0.994506\n",
            "3      4 2008-04-03 04:16:37  1.880771  0.994563\n",
            "4      5 2008-04-03 08:33:25  1.879451  0.993865\n"
          ]
        }
      ],
      "source": [
        "dataset_val, capacity_val = load_data('B0007')\n",
        "attrib=['cycle', 'datetime', 'capacity']\n",
        "dis_ele = capacity_val[attrib]\n",
        "C = dis_ele['capacity'][0]\n",
        "for i in range(len(dis_ele)):\n",
        "    dis_ele['SoH']=(dis_ele['capacity']) / C\n",
        "print(dataset_val.head(5))\n",
        "print(dis_ele.head(5))"
      ]
    },
    {
      "cell_type": "code",
      "execution_count": 23,
      "id": "8de8c10d",
      "metadata": {
        "colab": {
          "base_uri": "https://localhost:8080/"
        },
        "id": "8de8c10d",
        "outputId": "af5c0360-bf59-4635-8ba9-38f03dde9cf3"
      },
      "outputs": [
        {
          "output_type": "stream",
          "name": "stdout",
          "text": [
            "1572/1572 [==============================] - 14s 8ms/step\n",
            "(50285, 1)\n",
            "   cycle       SoH    NewSoH\n",
            "0      1  1.000000  1.001013\n",
            "1      2  0.994492  0.994800\n",
            "2      3  0.994506  0.994843\n",
            "3      4  0.994563  0.994953\n",
            "4      5  0.993865  0.994189\n",
            "5      6  0.994526  0.994922\n",
            "6      7  0.994121  0.994444\n",
            "7      8  0.994953  0.995444\n",
            "8      9  0.988704  0.988371\n",
            "9     10  0.988895  0.988609\n",
            "Root Mean Square Error:  0.026104350795782136\n",
            "Mean Absolute Error:  [0.02161742]\n",
            "R2_score:  0.905367159061117\n"
          ]
        }
      ],
      "source": [
        "attrib=['capacity', 'voltage_measured', 'current_measured',\n",
        "        'temperature_measured', 'current_load', 'voltage_load', 'time']\n",
        "soh_pred = autoencoder.predict(sc.fit_transform(dataset_val[attrib]))\n",
        "print(soh_pred.shape)\n",
        "\n",
        "C = dataset_val['capacity'][0]\n",
        "soh = []\n",
        "for i in range(len(dataset_val)):\n",
        "  soh.append(dataset_val['capacity'][i] / C)\n",
        "new_soh = dataset_val.loc[(dataset_val['cycle'] >= 1), ['cycle']]\n",
        "new_soh['SoH'] =  soh\n",
        "new_soh['NewSoH'] = soh_pred\n",
        "new_soh = new_soh.groupby(['cycle']).mean().reset_index()\n",
        "print(new_soh.head(10))\n",
        "rms = np.sqrt(mean_squared_error(new_soh['SoH'], new_soh['NewSoH']))\n",
        "mae = mean_absolute_error(new_soh['SoH'], new_soh['NewSoH'],multioutput='raw_values')\n",
        "r2 = r2_score(new_soh['SoH'], new_soh['NewSoH'])\n",
        "print('Root Mean Square Error: ', rms)\n",
        "print('Mean Absolute Error: ', mae)\n",
        "print('R2_score: ', r2)"
      ]
    },
    {
      "cell_type": "code",
      "source": [
        "soh_pred"
      ],
      "metadata": {
        "colab": {
          "base_uri": "https://localhost:8080/"
        },
        "id": "yR-bUSjSf_XD",
        "outputId": "d7a6e59d-e285-404f-8174-98601d1a3740"
      },
      "id": "yR-bUSjSf_XD",
      "execution_count": 25,
      "outputs": [
        {
          "output_type": "execute_result",
          "data": {
            "text/plain": [
              "array([[1.0006102 ],\n",
              "       [0.99816316],\n",
              "       [1.0020202 ],\n",
              "       ...,\n",
              "       [0.7134161 ],\n",
              "       [0.7133507 ],\n",
              "       [0.7134231 ]], dtype=float32)"
            ]
          },
          "metadata": {},
          "execution_count": 25
        }
      ]
    },
    {
      "cell_type": "code",
      "execution_count": 26,
      "id": "1899327f",
      "metadata": {
        "colab": {
          "base_uri": "https://localhost:8080/",
          "height": 639
        },
        "id": "1899327f",
        "outputId": "80892a44-a55c-46ff-878d-e3a09400ece7"
      },
      "outputs": [
        {
          "output_type": "execute_result",
          "data": {
            "text/plain": [
              "Text(0.5, 1.0, 'Discharge B0007')"
            ]
          },
          "metadata": {},
          "execution_count": 26
        },
        {
          "output_type": "display_data",
          "data": {
            "text/plain": [
              "<Figure size 1152x720 with 1 Axes>"
            ],
            "image/png": "[encoded data removed]"
          },
          "metadata": {}
        }
      ],
      "source": [
        "plot_df = new_soh.loc[(new_soh['cycle']>=1),['cycle','SoH', 'NewSoH']]\n",
        "sns.set_style(\"white\")\n",
        "plt.figure(figsize=(16, 10))\n",
        "plt.plot(plot_df['cycle'], plot_df['SoH'], label='SoH')\n",
        "plt.plot(plot_df['cycle'], plot_df['NewSoH'], label='Predicted SoH')\n",
        "#Draw threshold\n",
        "#plt.plot([0.,len(capacity)], [0.70, 0.70], label='Threshold')\n",
        "plt.ylabel('SOH')\n",
        "# make x-axis ticks legible\n",
        "adf = plt.gca().get_xaxis().get_major_formatter()\n",
        "plt.xlabel('cycle')\n",
        "plt.legend()\n",
        "plt.title('Discharge B0007')"
      ]
    },
    {
      "cell_type": "code",
      "execution_count": 46,
      "id": "00e79c85",
      "metadata": {
        "id": "00e79c85"
      },
      "outputs": [],
      "source": [
        "#RUL"
      ]
    },
    {
      "cell_type": "code",
      "source": [],
      "metadata": {
        "id": "5X2daQrIib_d"
      },
      "id": "5X2daQrIib_d",
      "execution_count": 46,
      "outputs": []
    },
    {
      "cell_type": "code",
      "execution_count": 47,
      "id": "873027f9",
      "metadata": {
        "id": "873027f9"
      },
      "outputs": [],
      "source": [
        "#FOR TRAINING and TESTING b0005 is used"
      ]
    },
    {
      "cell_type": "code",
      "execution_count": 48,
      "id": "68d66992",
      "metadata": {
        "colab": {
          "base_uri": "https://localhost:8080/"
        },
        "id": "68d66992",
        "outputId": "1bab5899-86b8-4e87-c72f-a62e4bae7b84"
      },
      "outputs": [
        {
          "output_type": "stream",
          "name": "stdout",
          "text": [
            "Total data in dataset:  616\n",
            "[1, 24, datetime.datetime(2008, 4, 2, 15, 25, 41), 1.8564874208181574, 4.191491807505295, -0.004901589207462691, 24.330033885570543, -0.0006, 0.0, 0.0]\n"
          ]
        }
      ],
      "source": [
        "dataset_val, capacity_val = load_data('B0005')\n",
        "attrib=['cycle', 'datetime', 'capacity']\n",
        "dis_ele = capacity_val[attrib]\n",
        "rows=['cycle','capacity']\n",
        "dataset=dis_ele[rows]\n",
        "data_train=dataset[(dataset['cycle']<90)]\n",
        "data_set_train=data_train.iloc[:,1:2].values\n",
        "data_test=dataset[(dataset['cycle']>=90)]\n",
        "data_set_test=data_test.iloc[:,1:2].values\n",
        "\n",
        "from sklearn.preprocessing import MinMaxScaler\n",
        "sc=MinMaxScaler(feature_range=(0,1))\n",
        "data_set_train=sc.fit_transform(data_set_train)\n",
        "data_set_test=sc.transform(data_set_test)\n",
        "\n",
        "X_train=[]\n",
        "y_train=[]\n",
        "#created window of 10\n",
        "for i in range(10,89):\n",
        "    X_train.append(data_set_train[i-10:i,0])\n",
        "    y_train.append(data_set_train[i,0])\n",
        "X_train,y_train=np.array(X_train),np.array(y_train)\n",
        " \n",
        "X_train=np.reshape(X_train,(X_train.shape[0],X_train.shape[1],1))"
      ]
    },
    {
      "cell_type": "code",
      "execution_count": 49,
      "id": "7ac79088",
      "metadata": {
        "id": "7ac79088"
      },
      "outputs": [],
      "source": [
        "model = Sequential()\n",
        "model.add(LSTM(units=32, return_sequences=True, input_shape=(X_train.shape[1],1)))\n",
        "model.add(Dropout(0.2))\n",
        "model.add(LSTM(units=32))\n",
        "model.add(Dropout(0.2))\n",
        "model.add(Dense(64,activation='linear'))\n",
        "model.add(Dense(32,activation='linear'))\n",
        "model.add(Dense(8,activation='linear'))\n",
        "model.add(Dense(1))\n"
      ]
    },
    {
      "cell_type": "code",
      "execution_count": 50,
      "id": "ac730e06",
      "metadata": {
        "colab": {
          "base_uri": "https://localhost:8080/"
        },
        "id": "ac730e06",
        "outputId": "82fa2c88-a7e7-4693-82d0-b30dff586899"
      },
      "outputs": [
        {
          "output_type": "stream",
          "name": "stdout",
          "text": [
            "Model: \"sequential_1\"\n",
            "_________________________________________________________________\n",
            " Layer (type)                Output Shape              Param #   \n",
            "=================================================================\n",
            " lstm_4 (LSTM)               (None, 10, 32)            4352      \n",
            "                                                                 \n",
            " dropout_2 (Dropout)         (None, 10, 32)            0         \n",
            "                                                                 \n",
            " lstm_5 (LSTM)               (None, 32)                8320      \n",
            "                                                                 \n",
            " dropout_3 (Dropout)         (None, 32)                0         \n",
            "                                                                 \n",
            " dense_6 (Dense)             (None, 64)                2112      \n",
            "                                                                 \n",
            " dense_7 (Dense)             (None, 32)                2080      \n",
            "                                                                 \n",
            " dense_8 (Dense)             (None, 8)                 264       \n",
            "                                                                 \n",
            " dense_9 (Dense)             (None, 1)                 9         \n",
            "                                                                 \n",
            "=================================================================\n",
            "Total params: 17,137\n",
            "Trainable params: 17,137\n",
            "Non-trainable params: 0\n",
            "_________________________________________________________________\n"
          ]
        }
      ],
      "source": [
        "#optimizer\n",
        "adam = tf.keras.optimizers.Adam(\n",
        "    learning_rate=8e-4)\n",
        "#huber loss function\n",
        "model.compile(optimizer=adam,loss=tf.keras.losses.Huber(),metrics=tf.keras.metrics.RootMeanSquaredError())\n",
        "model.summary()"
      ]
    },
    {
      "cell_type": "code",
      "execution_count": 51,
      "id": "37bc834f",
      "metadata": {
        "colab": {
          "base_uri": "https://localhost:8080/"
        },
        "id": "37bc834f",
        "outputId": "4fa9b37c-955b-4fb2-c8cd-5b4a2a136bbe"
      },
      "outputs": [
        {
          "output_type": "stream",
          "name": "stdout",
          "text": [
            "Epoch 1/150\n",
            "2/2 [==============================] - 5s 18ms/step - loss: 0.1661 - root_mean_squared_error: 0.5764\n",
            "Epoch 2/150\n",
            "2/2 [==============================] - 0s 13ms/step - loss: 0.0853 - root_mean_squared_error: 0.4130\n",
            "Epoch 3/150\n",
            "2/2 [==============================] - 0s 14ms/step - loss: 0.0310 - root_mean_squared_error: 0.2488\n",
            "Epoch 4/150\n",
            "2/2 [==============================] - 0s 14ms/step - loss: 0.0128 - root_mean_squared_error: 0.1598\n",
            "Epoch 5/150\n",
            "2/2 [==============================] - 0s 15ms/step - loss: 0.0236 - root_mean_squared_error: 0.2172\n",
            "Epoch 6/150\n",
            "2/2 [==============================] - 0s 19ms/step - loss: 0.0330 - root_mean_squared_error: 0.2568\n",
            "Epoch 7/150\n",
            "2/2 [==============================] - 0s 14ms/step - loss: 0.0246 - root_mean_squared_error: 0.2220\n",
            "Epoch 8/150\n",
            "2/2 [==============================] - 0s 14ms/step - loss: 0.0172 - root_mean_squared_error: 0.1855\n",
            "Epoch 9/150\n",
            "2/2 [==============================] - 0s 15ms/step - loss: 0.0115 - root_mean_squared_error: 0.1513\n",
            "Epoch 10/150\n",
            "2/2 [==============================] - 0s 14ms/step - loss: 0.0108 - root_mean_squared_error: 0.1468\n",
            "Epoch 11/150\n",
            "2/2 [==============================] - 0s 14ms/step - loss: 0.0155 - root_mean_squared_error: 0.1759\n",
            "Epoch 12/150\n",
            "2/2 [==============================] - 0s 14ms/step - loss: 0.0154 - root_mean_squared_error: 0.1754\n",
            "Epoch 13/150\n",
            "2/2 [==============================] - 0s 14ms/step - loss: 0.0151 - root_mean_squared_error: 0.1741\n",
            "Epoch 14/150\n",
            "2/2 [==============================] - 0s 14ms/step - loss: 0.0138 - root_mean_squared_error: 0.1661\n",
            "Epoch 15/150\n",
            "2/2 [==============================] - 0s 16ms/step - loss: 0.0109 - root_mean_squared_error: 0.1478\n",
            "Epoch 16/150\n",
            "2/2 [==============================] - 0s 14ms/step - loss: 0.0103 - root_mean_squared_error: 0.1435\n",
            "Epoch 17/150\n",
            "2/2 [==============================] - 0s 14ms/step - loss: 0.0109 - root_mean_squared_error: 0.1478\n",
            "Epoch 18/150\n",
            "2/2 [==============================] - 0s 14ms/step - loss: 0.0117 - root_mean_squared_error: 0.1530\n",
            "Epoch 19/150\n",
            "2/2 [==============================] - 0s 16ms/step - loss: 0.0101 - root_mean_squared_error: 0.1420\n",
            "Epoch 20/150\n",
            "2/2 [==============================] - 0s 22ms/step - loss: 0.0090 - root_mean_squared_error: 0.1340\n",
            "Epoch 21/150\n",
            "2/2 [==============================] - 0s 16ms/step - loss: 0.0078 - root_mean_squared_error: 0.1249\n",
            "Epoch 22/150\n",
            "2/2 [==============================] - 0s 20ms/step - loss: 0.0067 - root_mean_squared_error: 0.1157\n",
            "Epoch 23/150\n",
            "2/2 [==============================] - 0s 14ms/step - loss: 0.0101 - root_mean_squared_error: 0.1423\n",
            "Epoch 24/150\n",
            "2/2 [==============================] - 0s 15ms/step - loss: 0.0078 - root_mean_squared_error: 0.1250\n",
            "Epoch 25/150\n",
            "2/2 [==============================] - 0s 15ms/step - loss: 0.0068 - root_mean_squared_error: 0.1169\n",
            "Epoch 26/150\n",
            "2/2 [==============================] - 0s 14ms/step - loss: 0.0081 - root_mean_squared_error: 0.1275\n",
            "Epoch 27/150\n",
            "2/2 [==============================] - 0s 14ms/step - loss: 0.0062 - root_mean_squared_error: 0.1112\n",
            "Epoch 28/150\n",
            "2/2 [==============================] - 0s 17ms/step - loss: 0.0056 - root_mean_squared_error: 0.1054\n",
            "Epoch 29/150\n",
            "2/2 [==============================] - 0s 15ms/step - loss: 0.0062 - root_mean_squared_error: 0.1118\n",
            "Epoch 30/150\n",
            "2/2 [==============================] - 0s 16ms/step - loss: 0.0058 - root_mean_squared_error: 0.1075\n",
            "Epoch 31/150\n",
            "2/2 [==============================] - 0s 16ms/step - loss: 0.0060 - root_mean_squared_error: 0.1095\n",
            "Epoch 32/150\n",
            "2/2 [==============================] - 0s 15ms/step - loss: 0.0069 - root_mean_squared_error: 0.1175\n",
            "Epoch 33/150\n",
            "2/2 [==============================] - 0s 14ms/step - loss: 0.0066 - root_mean_squared_error: 0.1150\n",
            "Epoch 34/150\n",
            "2/2 [==============================] - 0s 15ms/step - loss: 0.0031 - root_mean_squared_error: 0.0788\n",
            "Epoch 35/150\n",
            "2/2 [==============================] - 0s 15ms/step - loss: 0.0071 - root_mean_squared_error: 0.1196\n",
            "Epoch 36/150\n",
            "2/2 [==============================] - 0s 16ms/step - loss: 0.0052 - root_mean_squared_error: 0.1017\n",
            "Epoch 37/150\n",
            "2/2 [==============================] - 0s 16ms/step - loss: 0.0058 - root_mean_squared_error: 0.1073\n",
            "Epoch 38/150\n",
            "2/2 [==============================] - 0s 15ms/step - loss: 0.0048 - root_mean_squared_error: 0.0980\n",
            "Epoch 39/150\n",
            "2/2 [==============================] - 0s 18ms/step - loss: 0.0053 - root_mean_squared_error: 0.1034\n",
            "Epoch 40/150\n",
            "2/2 [==============================] - 0s 16ms/step - loss: 0.0051 - root_mean_squared_error: 0.1007\n",
            "Epoch 41/150\n",
            "2/2 [==============================] - 0s 15ms/step - loss: 0.0061 - root_mean_squared_error: 0.1102\n",
            "Epoch 42/150\n",
            "2/2 [==============================] - 0s 15ms/step - loss: 0.0032 - root_mean_squared_error: 0.0798\n",
            "Epoch 43/150\n",
            "2/2 [==============================] - 0s 16ms/step - loss: 0.0048 - root_mean_squared_error: 0.0975\n",
            "Epoch 44/150\n",
            "2/2 [==============================] - 0s 17ms/step - loss: 0.0053 - root_mean_squared_error: 0.1034\n",
            "Epoch 45/150\n",
            "2/2 [==============================] - 0s 14ms/step - loss: 0.0041 - root_mean_squared_error: 0.0906\n",
            "Epoch 46/150\n",
            "2/2 [==============================] - 0s 14ms/step - loss: 0.0049 - root_mean_squared_error: 0.0988\n",
            "Epoch 47/150\n",
            "2/2 [==============================] - 0s 13ms/step - loss: 0.0052 - root_mean_squared_error: 0.1021\n",
            "Epoch 48/150\n",
            "2/2 [==============================] - 0s 13ms/step - loss: 0.0040 - root_mean_squared_error: 0.0889\n",
            "Epoch 49/150\n",
            "2/2 [==============================] - 0s 15ms/step - loss: 0.0057 - root_mean_squared_error: 0.1070\n",
            "Epoch 50/150\n",
            "2/2 [==============================] - 0s 14ms/step - loss: 0.0043 - root_mean_squared_error: 0.0929\n",
            "Epoch 51/150\n",
            "2/2 [==============================] - 0s 16ms/step - loss: 0.0049 - root_mean_squared_error: 0.0994\n",
            "Epoch 52/150\n",
            "2/2 [==============================] - 0s 14ms/step - loss: 0.0044 - root_mean_squared_error: 0.0935\n",
            "Epoch 53/150\n",
            "2/2 [==============================] - 0s 14ms/step - loss: 0.0048 - root_mean_squared_error: 0.0977\n",
            "Epoch 54/150\n",
            "2/2 [==============================] - 0s 16ms/step - loss: 0.0058 - root_mean_squared_error: 0.1073\n",
            "Epoch 55/150\n",
            "2/2 [==============================] - 0s 14ms/step - loss: 0.0062 - root_mean_squared_error: 0.1115\n",
            "Epoch 56/150\n",
            "2/2 [==============================] - 0s 15ms/step - loss: 0.0040 - root_mean_squared_error: 0.0898\n",
            "Epoch 57/150\n",
            "2/2 [==============================] - 0s 15ms/step - loss: 0.0040 - root_mean_squared_error: 0.0896\n",
            "Epoch 58/150\n",
            "2/2 [==============================] - 0s 15ms/step - loss: 0.0048 - root_mean_squared_error: 0.0982\n",
            "Epoch 59/150\n",
            "2/2 [==============================] - 0s 16ms/step - loss: 0.0042 - root_mean_squared_error: 0.0919\n",
            "Epoch 60/150\n",
            "2/2 [==============================] - 0s 14ms/step - loss: 0.0041 - root_mean_squared_error: 0.0909\n",
            "Epoch 61/150\n",
            "2/2 [==============================] - 0s 14ms/step - loss: 0.0032 - root_mean_squared_error: 0.0798\n",
            "Epoch 62/150\n",
            "2/2 [==============================] - 0s 17ms/step - loss: 0.0028 - root_mean_squared_error: 0.0748\n",
            "Epoch 63/150\n",
            "2/2 [==============================] - 0s 17ms/step - loss: 0.0033 - root_mean_squared_error: 0.0814\n",
            "Epoch 64/150\n",
            "2/2 [==============================] - 0s 18ms/step - loss: 0.0047 - root_mean_squared_error: 0.0973\n",
            "Epoch 65/150\n",
            "2/2 [==============================] - 0s 20ms/step - loss: 0.0053 - root_mean_squared_error: 0.1026\n",
            "Epoch 66/150\n",
            "2/2 [==============================] - 0s 15ms/step - loss: 0.0029 - root_mean_squared_error: 0.0764\n",
            "Epoch 67/150\n",
            "2/2 [==============================] - 0s 16ms/step - loss: 0.0032 - root_mean_squared_error: 0.0802\n",
            "Epoch 68/150\n",
            "2/2 [==============================] - 0s 18ms/step - loss: 0.0040 - root_mean_squared_error: 0.0890\n",
            "Epoch 69/150\n",
            "2/2 [==============================] - 0s 15ms/step - loss: 0.0044 - root_mean_squared_error: 0.0938\n",
            "Epoch 70/150\n",
            "2/2 [==============================] - 0s 15ms/step - loss: 0.0045 - root_mean_squared_error: 0.0948\n",
            "Epoch 71/150\n",
            "2/2 [==============================] - 0s 15ms/step - loss: 0.0036 - root_mean_squared_error: 0.0851\n",
            "Epoch 72/150\n",
            "2/2 [==============================] - 0s 14ms/step - loss: 0.0030 - root_mean_squared_error: 0.0776\n",
            "Epoch 73/150\n",
            "2/2 [==============================] - 0s 14ms/step - loss: 0.0046 - root_mean_squared_error: 0.0963\n",
            "Epoch 74/150\n",
            "2/2 [==============================] - 0s 14ms/step - loss: 0.0032 - root_mean_squared_error: 0.0801\n",
            "Epoch 75/150\n",
            "2/2 [==============================] - 0s 15ms/step - loss: 0.0036 - root_mean_squared_error: 0.0846\n",
            "Epoch 76/150\n",
            "2/2 [==============================] - 0s 15ms/step - loss: 0.0035 - root_mean_squared_error: 0.0837\n",
            "Epoch 77/150\n",
            "2/2 [==============================] - 0s 15ms/step - loss: 0.0035 - root_mean_squared_error: 0.0837\n",
            "Epoch 78/150\n",
            "2/2 [==============================] - 0s 14ms/step - loss: 0.0039 - root_mean_squared_error: 0.0886\n",
            "Epoch 79/150\n",
            "2/2 [==============================] - 0s 14ms/step - loss: 0.0036 - root_mean_squared_error: 0.0844\n",
            "Epoch 80/150\n",
            "2/2 [==============================] - 0s 18ms/step - loss: 0.0038 - root_mean_squared_error: 0.0868\n",
            "Epoch 81/150\n",
            "2/2 [==============================] - 0s 20ms/step - loss: 0.0040 - root_mean_squared_error: 0.0898\n",
            "Epoch 82/150\n",
            "2/2 [==============================] - 0s 15ms/step - loss: 0.0025 - root_mean_squared_error: 0.0712\n",
            "Epoch 83/150\n",
            "2/2 [==============================] - 0s 15ms/step - loss: 0.0039 - root_mean_squared_error: 0.0883\n",
            "Epoch 84/150\n",
            "2/2 [==============================] - 0s 19ms/step - loss: 0.0031 - root_mean_squared_error: 0.0788\n",
            "Epoch 85/150\n",
            "2/2 [==============================] - 0s 17ms/step - loss: 0.0038 - root_mean_squared_error: 0.0877\n",
            "Epoch 86/150\n",
            "2/2 [==============================] - 0s 15ms/step - loss: 0.0041 - root_mean_squared_error: 0.0910\n",
            "Epoch 87/150\n",
            "2/2 [==============================] - 0s 15ms/step - loss: 0.0064 - root_mean_squared_error: 0.1130\n",
            "Epoch 88/150\n",
            "2/2 [==============================] - 0s 15ms/step - loss: 0.0041 - root_mean_squared_error: 0.0901\n",
            "Epoch 89/150\n",
            "2/2 [==============================] - 0s 15ms/step - loss: 0.0032 - root_mean_squared_error: 0.0798\n",
            "Epoch 90/150\n",
            "2/2 [==============================] - 0s 15ms/step - loss: 0.0035 - root_mean_squared_error: 0.0832\n",
            "Epoch 91/150\n",
            "2/2 [==============================] - 0s 15ms/step - loss: 0.0034 - root_mean_squared_error: 0.0820\n",
            "Epoch 92/150\n",
            "2/2 [==============================] - 0s 16ms/step - loss: 0.0030 - root_mean_squared_error: 0.0770\n",
            "Epoch 93/150\n",
            "2/2 [==============================] - 0s 15ms/step - loss: 0.0047 - root_mean_squared_error: 0.0973\n",
            "Epoch 94/150\n",
            "2/2 [==============================] - 0s 15ms/step - loss: 0.0029 - root_mean_squared_error: 0.0768\n",
            "Epoch 95/150\n",
            "2/2 [==============================] - 0s 15ms/step - loss: 0.0034 - root_mean_squared_error: 0.0826\n",
            "Epoch 96/150\n",
            "2/2 [==============================] - 0s 17ms/step - loss: 0.0041 - root_mean_squared_error: 0.0901\n",
            "Epoch 97/150\n",
            "2/2 [==============================] - 0s 14ms/step - loss: 0.0035 - root_mean_squared_error: 0.0831\n",
            "Epoch 98/150\n",
            "2/2 [==============================] - 0s 14ms/step - loss: 0.0029 - root_mean_squared_error: 0.0765\n",
            "Epoch 99/150\n",
            "2/2 [==============================] - 0s 15ms/step - loss: 0.0042 - root_mean_squared_error: 0.0913\n",
            "Epoch 100/150\n",
            "2/2 [==============================] - 0s 16ms/step - loss: 0.0025 - root_mean_squared_error: 0.0714\n",
            "Epoch 101/150\n",
            "2/2 [==============================] - 0s 16ms/step - loss: 0.0029 - root_mean_squared_error: 0.0762\n",
            "Epoch 102/150\n",
            "2/2 [==============================] - 0s 16ms/step - loss: 0.0030 - root_mean_squared_error: 0.0768\n",
            "Epoch 103/150\n",
            "2/2 [==============================] - 0s 17ms/step - loss: 0.0031 - root_mean_squared_error: 0.0788\n",
            "Epoch 104/150\n",
            "2/2 [==============================] - 0s 15ms/step - loss: 0.0032 - root_mean_squared_error: 0.0806\n",
            "Epoch 105/150\n",
            "2/2 [==============================] - 0s 15ms/step - loss: 0.0033 - root_mean_squared_error: 0.0815\n",
            "Epoch 106/150\n",
            "2/2 [==============================] - 0s 15ms/step - loss: 0.0026 - root_mean_squared_error: 0.0722\n",
            "Epoch 107/150\n",
            "2/2 [==============================] - 0s 15ms/step - loss: 0.0020 - root_mean_squared_error: 0.0627\n",
            "Epoch 108/150\n",
            "2/2 [==============================] - 0s 14ms/step - loss: 0.0029 - root_mean_squared_error: 0.0766\n",
            "Epoch 109/150\n",
            "2/2 [==============================] - 0s 15ms/step - loss: 0.0033 - root_mean_squared_error: 0.0811\n",
            "Epoch 110/150\n",
            "2/2 [==============================] - 0s 18ms/step - loss: 0.0033 - root_mean_squared_error: 0.0807\n",
            "Epoch 111/150\n",
            "2/2 [==============================] - 0s 16ms/step - loss: 0.0031 - root_mean_squared_error: 0.0785\n",
            "Epoch 112/150\n",
            "2/2 [==============================] - 0s 16ms/step - loss: 0.0032 - root_mean_squared_error: 0.0794\n",
            "Epoch 113/150\n",
            "2/2 [==============================] - 0s 15ms/step - loss: 0.0037 - root_mean_squared_error: 0.0863\n",
            "Epoch 114/150\n",
            "2/2 [==============================] - 0s 15ms/step - loss: 0.0026 - root_mean_squared_error: 0.0725\n",
            "Epoch 115/150\n",
            "2/2 [==============================] - 0s 15ms/step - loss: 0.0030 - root_mean_squared_error: 0.0777\n",
            "Epoch 116/150\n",
            "2/2 [==============================] - 0s 15ms/step - loss: 0.0028 - root_mean_squared_error: 0.0745\n",
            "Epoch 117/150\n",
            "2/2 [==============================] - 0s 16ms/step - loss: 0.0031 - root_mean_squared_error: 0.0792\n",
            "Epoch 118/150\n",
            "2/2 [==============================] - 0s 16ms/step - loss: 0.0033 - root_mean_squared_error: 0.0809\n",
            "Epoch 119/150\n",
            "2/2 [==============================] - 0s 15ms/step - loss: 0.0031 - root_mean_squared_error: 0.0781\n",
            "Epoch 120/150\n",
            "2/2 [==============================] - 0s 16ms/step - loss: 0.0030 - root_mean_squared_error: 0.0772\n",
            "Epoch 121/150\n",
            "2/2 [==============================] - 0s 15ms/step - loss: 0.0027 - root_mean_squared_error: 0.0732\n",
            "Epoch 122/150\n",
            "2/2 [==============================] - 0s 15ms/step - loss: 0.0033 - root_mean_squared_error: 0.0810\n",
            "Epoch 123/150\n",
            "2/2 [==============================] - 0s 19ms/step - loss: 0.0024 - root_mean_squared_error: 0.0699\n",
            "Epoch 124/150\n",
            "2/2 [==============================] - 0s 18ms/step - loss: 0.0024 - root_mean_squared_error: 0.0694\n",
            "Epoch 125/150\n",
            "2/2 [==============================] - 0s 15ms/step - loss: 0.0023 - root_mean_squared_error: 0.0672\n",
            "Epoch 126/150\n",
            "2/2 [==============================] - 0s 16ms/step - loss: 0.0033 - root_mean_squared_error: 0.0813\n",
            "Epoch 127/150\n",
            "2/2 [==============================] - 0s 15ms/step - loss: 0.0028 - root_mean_squared_error: 0.0742\n",
            "Epoch 128/150\n",
            "2/2 [==============================] - 0s 15ms/step - loss: 0.0020 - root_mean_squared_error: 0.0635\n",
            "Epoch 129/150\n",
            "2/2 [==============================] - 0s 15ms/step - loss: 0.0025 - root_mean_squared_error: 0.0709\n",
            "Epoch 130/150\n",
            "2/2 [==============================] - 0s 15ms/step - loss: 0.0034 - root_mean_squared_error: 0.0825\n",
            "Epoch 131/150\n",
            "2/2 [==============================] - 0s 15ms/step - loss: 0.0032 - root_mean_squared_error: 0.0795\n",
            "Epoch 132/150\n",
            "2/2 [==============================] - 0s 15ms/step - loss: 0.0030 - root_mean_squared_error: 0.0771\n",
            "Epoch 133/150\n",
            "2/2 [==============================] - 0s 16ms/step - loss: 0.0028 - root_mean_squared_error: 0.0746\n",
            "Epoch 134/150\n",
            "2/2 [==============================] - 0s 18ms/step - loss: 0.0023 - root_mean_squared_error: 0.0682\n",
            "Epoch 135/150\n",
            "2/2 [==============================] - 0s 16ms/step - loss: 0.0029 - root_mean_squared_error: 0.0759\n",
            "Epoch 136/150\n",
            "2/2 [==============================] - 0s 15ms/step - loss: 0.0031 - root_mean_squared_error: 0.0784\n",
            "Epoch 137/150\n",
            "2/2 [==============================] - 0s 16ms/step - loss: 0.0023 - root_mean_squared_error: 0.0681\n",
            "Epoch 138/150\n",
            "2/2 [==============================] - 0s 19ms/step - loss: 0.0025 - root_mean_squared_error: 0.0705\n",
            "Epoch 139/150\n",
            "2/2 [==============================] - 0s 15ms/step - loss: 0.0027 - root_mean_squared_error: 0.0740\n",
            "Epoch 140/150\n",
            "2/2 [==============================] - 0s 15ms/step - loss: 0.0027 - root_mean_squared_error: 0.0739\n",
            "Epoch 141/150\n",
            "2/2 [==============================] - 0s 16ms/step - loss: 0.0026 - root_mean_squared_error: 0.0721\n",
            "Epoch 142/150\n",
            "2/2 [==============================] - 0s 24ms/step - loss: 0.0019 - root_mean_squared_error: 0.0618\n",
            "Epoch 143/150\n",
            "2/2 [==============================] - 0s 16ms/step - loss: 0.0035 - root_mean_squared_error: 0.0831\n",
            "Epoch 144/150\n",
            "2/2 [==============================] - 0s 15ms/step - loss: 0.0028 - root_mean_squared_error: 0.0749\n",
            "Epoch 145/150\n",
            "2/2 [==============================] - 0s 14ms/step - loss: 0.0022 - root_mean_squared_error: 0.0665\n",
            "Epoch 146/150\n",
            "2/2 [==============================] - 0s 15ms/step - loss: 0.0022 - root_mean_squared_error: 0.0671\n",
            "Epoch 147/150\n",
            "2/2 [==============================] - 0s 14ms/step - loss: 0.0034 - root_mean_squared_error: 0.0819\n",
            "Epoch 148/150\n",
            "2/2 [==============================] - 0s 15ms/step - loss: 0.0037 - root_mean_squared_error: 0.0856\n",
            "Epoch 149/150\n",
            "2/2 [==============================] - 0s 14ms/step - loss: 0.0025 - root_mean_squared_error: 0.0708\n",
            "Epoch 150/150\n",
            "2/2 [==============================] - 0s 14ms/step - loss: 0.0029 - root_mean_squared_error: 0.0766\n"
          ]
        },
        {
          "output_type": "execute_result",
          "data": {
            "text/plain": [
              "<keras.callbacks.History at 0x7f93b2a34f70>"
            ]
          },
          "metadata": {},
          "execution_count": 51
        }
      ],
      "source": [
        "model.fit(X_train,y_train,epochs=150,batch_size=50)"
      ]
    },
    {
      "cell_type": "code",
      "execution_count": 52,
      "id": "2c63a4c3",
      "metadata": {
        "id": "2c63a4c3"
      },
      "outputs": [],
      "source": [
        "#### predictions\n",
        "data_total=pd.concat((data_train['capacity'],data_test['capacity']),axis=0)\n",
        "inputs=data_total[len(data_total)-len(data_test)-10:].values\n",
        "inputs=inputs.reshape(-1,1)\n",
        "inputs=sc.transform(inputs)\n"
      ]
    },
    {
      "cell_type": "code",
      "source": [
        "X_test=[]\n",
        "for i in range(10,89):\n",
        "    X_test.append(inputs[i-10:i,0])\n",
        "X_test=np.array(X_test)\n",
        "print(X_test.shape)\n",
        "X_test=np.reshape(X_test,(X_test.shape[0],X_test.shape[1],1))"
      ],
      "metadata": {
        "colab": {
          "base_uri": "https://localhost:8080/"
        },
        "id": "07Pvdhh_gem1",
        "outputId": "2cd1908b-6186-4984-bb1a-0a917791f109"
      },
      "id": "07Pvdhh_gem1",
      "execution_count": 53,
      "outputs": [
        {
          "output_type": "stream",
          "name": "stdout",
          "text": [
            "(79, 10)\n"
          ]
        }
      ]
    },
    {
      "cell_type": "code",
      "source": [
        "\n",
        "pred=model.predict(X_test)"
      ],
      "metadata": {
        "colab": {
          "base_uri": "https://localhost:8080/"
        },
        "id": "59dx0iMMgjJw",
        "outputId": "f6dfc4d3-5c60-4a70-8fd2-9c37b2b7bb81"
      },
      "id": "59dx0iMMgjJw",
      "execution_count": 54,
      "outputs": [
        {
          "output_type": "stream",
          "name": "stdout",
          "text": [
            "3/3 [==============================] - 1s 5ms/step\n"
          ]
        }
      ]
    },
    {
      "cell_type": "code",
      "source": [
        "pred"
      ],
      "metadata": {
        "colab": {
          "base_uri": "https://localhost:8080/"
        },
        "id": "CtqC1JPxgoPY",
        "outputId": "77d98427-f36e-452a-9e5e-cfe3bfc821b1"
      },
      "id": "CtqC1JPxgoPY",
      "execution_count": 55,
      "outputs": [
        {
          "output_type": "execute_result",
          "data": {
            "text/plain": [
              "array([[-0.014219  ],\n",
              "       [-0.01316347],\n",
              "       [-0.00802233],\n",
              "       [-0.00403652],\n",
              "       [-0.00326427],\n",
              "       [-0.0054485 ],\n",
              "       [-0.01033015],\n",
              "       [-0.01732358],\n",
              "       [-0.02738617],\n",
              "       [-0.03880657],\n",
              "       [-0.0521324 ],\n",
              "       [-0.07941244],\n",
              "       [-0.09972351],\n",
              "       [-0.11770422],\n",
              "       [-0.13113351],\n",
              "       [-0.1401316 ],\n",
              "       [-0.14731228],\n",
              "       [-0.15518188],\n",
              "       [-0.1654595 ],\n",
              "       [-0.17672963],\n",
              "       [-0.1869917 ],\n",
              "       [-0.19736235],\n",
              "       [-0.20862266],\n",
              "       [-0.22057429],\n",
              "       [-0.23424007],\n",
              "       [-0.24922304],\n",
              "       [-0.26206186],\n",
              "       [-0.27379662],\n",
              "       [-0.28405958],\n",
              "       [-0.29441845],\n",
              "       [-0.30504167],\n",
              "       [-0.31083244],\n",
              "       [-0.3115038 ],\n",
              "       [-0.31213033],\n",
              "       [-0.31493258],\n",
              "       [-0.31927872],\n",
              "       [-0.3249533 ],\n",
              "       [-0.3317748 ],\n",
              "       [-0.33959898],\n",
              "       [-0.34894994],\n",
              "       [-0.35888773],\n",
              "       [-0.37289235],\n",
              "       [-0.38690734],\n",
              "       [-0.39798504],\n",
              "       [-0.40596172],\n",
              "       [-0.41024134],\n",
              "       [-0.4139385 ],\n",
              "       [-0.41773942],\n",
              "       [-0.4227347 ],\n",
              "       [-0.42809823],\n",
              "       [-0.43329445],\n",
              "       [-0.43869832],\n",
              "       [-0.44507247],\n",
              "       [-0.45176226],\n",
              "       [-0.46008566],\n",
              "       [-0.46987125],\n",
              "       [-0.47798982],\n",
              "       [-0.48620227],\n",
              "       [-0.49396816],\n",
              "       [-0.5019887 ],\n",
              "       [-0.5097156 ],\n",
              "       [-0.51555705],\n",
              "       [-0.5152973 ],\n",
              "       [-0.5129947 ],\n",
              "       [-0.5115996 ],\n",
              "       [-0.51112944],\n",
              "       [-0.51179326],\n",
              "       [-0.5136817 ],\n",
              "       [-0.5162426 ],\n",
              "       [-0.5201708 ],\n",
              "       [-0.52533215],\n",
              "       [-0.5316321 ],\n",
              "       [-0.5417891 ],\n",
              "       [-0.54917496],\n",
              "       [-0.55505913],\n",
              "       [-0.56049514],\n",
              "       [-0.5659527 ],\n",
              "       [-0.5711281 ],\n",
              "       [-0.573771  ]], dtype=float32)"
            ]
          },
          "metadata": {},
          "execution_count": 55
        }
      ]
    },
    {
      "cell_type": "code",
      "source": [
        "pred=sc.inverse_transform(pred)"
      ],
      "metadata": {
        "id": "RpXPEd1UgtIW"
      },
      "id": "RpXPEd1UgtIW",
      "execution_count": 56,
      "outputs": []
    },
    {
      "cell_type": "code",
      "source": [
        "pred"
      ],
      "metadata": {
        "colab": {
          "base_uri": "https://localhost:8080/"
        },
        "id": "VR8Ia0fwgv7w",
        "outputId": "6f92c5ad-f580-4c03-a7a3-2d4584c999e3"
      },
      "id": "VR8Ia0fwgv7w",
      "execution_count": 57,
      "outputs": [
        {
          "output_type": "execute_result",
          "data": {
            "text/plain": [
              "array([[1.5126657],\n",
              "       [1.5130236],\n",
              "       [1.5147663],\n",
              "       [1.5161176],\n",
              "       [1.5163795],\n",
              "       [1.515639 ],\n",
              "       [1.5139841],\n",
              "       [1.5116132],\n",
              "       [1.5082021],\n",
              "       [1.5043305],\n",
              "       [1.4998131],\n",
              "       [1.4905652],\n",
              "       [1.4836795],\n",
              "       [1.4775841],\n",
              "       [1.4730316],\n",
              "       [1.4699812],\n",
              "       [1.4675468],\n",
              "       [1.4648792],\n",
              "       [1.461395 ],\n",
              "       [1.4575745],\n",
              "       [1.4540955],\n",
              "       [1.4505799],\n",
              "       [1.4467626],\n",
              "       [1.442711 ],\n",
              "       [1.4380782],\n",
              "       [1.432999 ],\n",
              "       [1.4286467],\n",
              "       [1.4246684],\n",
              "       [1.4211893],\n",
              "       [1.4176776],\n",
              "       [1.4140764],\n",
              "       [1.4121134],\n",
              "       [1.4118859],\n",
              "       [1.4116734],\n",
              "       [1.4107234],\n",
              "       [1.4092501],\n",
              "       [1.4073263],\n",
              "       [1.4050138],\n",
              "       [1.4023615],\n",
              "       [1.3991914],\n",
              "       [1.3958225],\n",
              "       [1.391075 ],\n",
              "       [1.3863238],\n",
              "       [1.3825685],\n",
              "       [1.3798643],\n",
              "       [1.3784136],\n",
              "       [1.3771603],\n",
              "       [1.3758717],\n",
              "       [1.3741784],\n",
              "       [1.37236  ],\n",
              "       [1.3705986],\n",
              "       [1.3687665],\n",
              "       [1.3666058],\n",
              "       [1.3643379],\n",
              "       [1.3615164],\n",
              "       [1.358199 ],\n",
              "       [1.3554467],\n",
              "       [1.3526627],\n",
              "       [1.3500301],\n",
              "       [1.3473111],\n",
              "       [1.3446916],\n",
              "       [1.3427114],\n",
              "       [1.3427995],\n",
              "       [1.34358  ],\n",
              "       [1.344053 ],\n",
              "       [1.3442124],\n",
              "       [1.3439873],\n",
              "       [1.3433472],\n",
              "       [1.342479 ],\n",
              "       [1.3411474],\n",
              "       [1.3393977],\n",
              "       [1.3372619],\n",
              "       [1.3338187],\n",
              "       [1.3313149],\n",
              "       [1.3293201],\n",
              "       [1.3274773],\n",
              "       [1.3256272],\n",
              "       [1.3238727],\n",
              "       [1.3229768]], dtype=float32)"
            ]
          },
          "metadata": {},
          "execution_count": 57
        }
      ]
    },
    {
      "cell_type": "code",
      "execution_count": 58,
      "id": "6f863fa0",
      "metadata": {
        "colab": {
          "base_uri": "https://localhost:8080/"
        },
        "id": "6f863fa0",
        "outputId": "17e3994e-78fc-424d-d2ec-91492876380f"
      },
      "outputs": [
        {
          "output_type": "stream",
          "name": "stdout",
          "text": [
            "Test RMSE: 0.024\n",
            "Mean Absolute Error:  [0.01948869]\n",
            "R2_score:  0.9012010147179605\n",
            "    cycle  capacity  predicted\n",
            "89     90  1.605819   1.512666\n",
            "90     91  1.563849   1.513024\n",
            "91     92  1.548092   1.514766\n",
            "92     93  1.532376   1.516118\n",
            "93     94  1.526953   1.516379\n"
          ]
        },
        {
          "output_type": "stream",
          "name": "stderr",
          "text": [
            "<ipython-input-58-323b249f48e1>:10: SettingWithCopyWarning: \n",
            "A value is trying to be set on a copy of a slice from a DataFrame.\n",
            "Try using .loc[row_indexer,col_indexer] = value instead\n",
            "\n",
            "See the caveats in the documentation: https://pandas.pydata.org/pandas-docs/stable/user_guide/indexing.html#returning-a-view-versus-a-copy\n",
            "  data_test['predicted']=pred\n"
          ]
        }
      ],
      "source": [
        "\n",
        "\n",
        "pred=pred[:,0]\n",
        "tests=data_test.iloc[:,1:2]\n",
        "rmse = np.sqrt(mean_squared_error(tests, pred))\n",
        "print('Test RMSE: %.3f' % rmse)\n",
        "\n",
        "mae = mean_absolute_error(tests,pred,multioutput='raw_values')\n",
        "r2 = r2_score(tests,pred)\n",
        "print('Mean Absolute Error: ', mae)\n",
        "print('R2_score: ', r2)\n",
        "data_test['predicted']=pred\n",
        "print(data_test.head())"
      ]
    },
    {
      "cell_type": "code",
      "source": [],
      "metadata": {
        "id": "B7Tfv89hgWJT"
      },
      "id": "B7Tfv89hgWJT",
      "execution_count": 58,
      "outputs": []
    },
    {
      "cell_type": "code",
      "execution_count": 59,
      "id": "7ad1ec20",
      "metadata": {
        "colab": {
          "base_uri": "https://localhost:8080/",
          "height": 749
        },
        "id": "7ad1ec20",
        "outputId": "c643143c-f95c-4da0-9b74-75de94fe3ddf"
      },
      "outputs": [
        {
          "output_type": "stream",
          "name": "stderr",
          "text": [
            "<ipython-input-59-b48cfd3de8df>:2: SettingWithCopyWarning: \n",
            "A value is trying to be set on a copy of a slice from a DataFrame.\n",
            "Try using .loc[row_indexer,col_indexer] = value instead\n",
            "\n",
            "See the caveats in the documentation: https://pandas.pydata.org/pandas-docs/stable/user_guide/indexing.html#returning-a-view-versus-a-copy\n",
            "  data_test['pre']=pred\n"
          ]
        },
        {
          "output_type": "execute_result",
          "data": {
            "text/plain": [
              "Text(0.5, 1.0, 'Discharge B0005 ')"
            ]
          },
          "metadata": {},
          "execution_count": 59
        },
        {
          "output_type": "display_data",
          "data": {
            "text/plain": [
              "<Figure size 1152x720 with 1 Axes>"
            ],
            "image/png": "[encoded data removed]"
          },
          "metadata": {}
        }
      ],
      "source": [
        "ln = len(data_train)\n",
        "data_test['pre']=pred\n",
        "plot_df = dataset.loc[(dataset['cycle']>=1),['cycle','capacity']]\n",
        "plot_per = data_test.loc[(data_test['cycle']>=ln),['cycle','pre']]\n",
        "plt.figure(figsize=(16, 10))\n",
        "plt.plot(plot_df['cycle'], plot_df['capacity'], label=\"Actual data\", color='blue')\n",
        "plt.plot(plot_per['cycle'],plot_per['pre'],label=\"Prediction data\", color='red')\n",
        "#Draw threshold\n",
        "plt.plot([0.,168], [1.38, 1.38],dashes=[6, 2], label=\"treshold\")\n",
        "plt.ylabel('Capacity')\n",
        "# make x-axis ticks legible\n",
        "adf = plt.gca().get_xaxis().get_major_formatter()\n",
        "plt.xlabel('cycle')\n",
        "plt.legend()\n",
        "plt.title('Discharge B0005 ')"
      ]
    },
    {
      "cell_type": "code",
      "execution_count": 60,
      "id": "4404f56e",
      "metadata": {
        "colab": {
          "base_uri": "https://localhost:8080/"
        },
        "id": "4404f56e",
        "outputId": "e19d3818-0506-461e-f6d1-9f44353dff61"
      },
      "outputs": [
        {
          "output_type": "stream",
          "name": "stdout",
          "text": [
            "The Actual fail at cycle number: 128\n",
            "The prediction fail at cycle number: 133\n",
            "error in RUL prediction in Cycles= 5 Cycle(s)\n"
          ]
        }
      ],
      "source": [
        "pred=0\n",
        "Afil=0\n",
        "Pfil=0\n",
        "a=data_test['capacity'].values\n",
        "b=data_test['pre'].values\n",
        "j=0\n",
        "k=0\n",
        "for i in range(len(a)):\n",
        "    actual=a[i]\n",
        "    \n",
        "    if actual<=1.38:\n",
        "        j=i\n",
        "        Afil=j\n",
        "        break\n",
        "for i in range(len(a)):\n",
        "    pred=b[i]\n",
        "    if pred< 1.38:\n",
        "        k=i\n",
        "        Pfil=k\n",
        "        break\n",
        "print(\"The Actual fail at cycle number: \"+ str(Afil+ln))\n",
        "print(\"The prediction fail at cycle number: \"+ str(Pfil+ln))\n",
        "RULerror=Pfil-Afil\n",
        "print(\"error in RUL prediction in Cycles= \"+ str(RULerror)+ \" Cycle(s)\")"
      ]
    },
    {
      "cell_type": "code",
      "execution_count": 34,
      "id": "30c10194",
      "metadata": {
        "id": "30c10194"
      },
      "outputs": [],
      "source": []
    },
    {
      "cell_type": "code",
      "execution_count": 34,
      "id": "cef3816d",
      "metadata": {
        "id": "cef3816d"
      },
      "outputs": [],
      "source": []
    }
  ],
  "metadata": {
    "colab": {
      "provenance": [],
      "include_colab_link": true
    },
    "kernelspec": {
      "display_name": "Python 3 (ipykernel)",
      "language": "python",
      "name": "python3"
    },
    "language_info": {
      "codemirror_mode": {
        "name": "ipython",
        "version": 3
      },
      "file_extension": ".py",
      "mimetype": "text/x-python",
      "name": "python",
      "nbconvert_exporter": "python",
      "pygments_lexer": "ipython3",
      "version": "3.10.9"
    },
    "gpuClass": "standard"
  },
  "nbformat": 4,
  "nbformat_minor": 5
}